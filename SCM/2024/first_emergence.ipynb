{
 "cells": [
  {
   "cell_type": "code",
   "execution_count": 1,
   "metadata": {},
   "outputs": [],
   "source": [
    "import pandas as pd\n",
    "import numpy as np\n",
    "from skimpy import clean_columns\n",
    "import matplotlib.pyplot as plt\n",
    "import seaborn as sns\n",
    "from datetime import date\n",
    "from datetime import datetime\n",
    "import scipy.stats as stats\n",
    "from datetime import timedelta\n"
   ]
  },
  {
   "cell_type": "code",
   "execution_count": 3,
   "metadata": {},
   "outputs": [
    {
     "data": {
      "text/html": [
       "<div>\n",
       "<style scoped>\n",
       "    .dataframe tbody tr th:only-of-type {\n",
       "        vertical-align: middle;\n",
       "    }\n",
       "\n",
       "    .dataframe tbody tr th {\n",
       "        vertical-align: top;\n",
       "    }\n",
       "\n",
       "    .dataframe thead th {\n",
       "        text-align: right;\n",
       "    }\n",
       "</style>\n",
       "<table border=\"1\" class=\"dataframe\">\n",
       "  <thead>\n",
       "    <tr style=\"text-align: right;\">\n",
       "      <th></th>\n",
       "      <th>Field ID</th>\n",
       "      <th>Data Collector</th>\n",
       "      <th>Latitude</th>\n",
       "      <th>Longitude</th>\n",
       "      <th>First Cards</th>\n",
       "      <th>First Emergence</th>\n",
       "      <th>Day</th>\n",
       "      <th>N.SCM.M.1</th>\n",
       "      <th>N.SCM.M.2</th>\n",
       "      <th>N.SCM.F.1</th>\n",
       "      <th>N.SCM.F.2</th>\n",
       "      <th>Total SCM</th>\n",
       "      <th>Accumulated GDD</th>\n",
       "    </tr>\n",
       "  </thead>\n",
       "  <tbody>\n",
       "    <tr>\n",
       "      <th>0</th>\n",
       "      <td>DEG_DIE_HILL</td>\n",
       "      <td>Janice Degni</td>\n",
       "      <td>42.604860</td>\n",
       "      <td>-76.15013</td>\n",
       "      <td>3/5/24</td>\n",
       "      <td>2024-03-12</td>\n",
       "      <td>12.0</td>\n",
       "      <td>1.0</td>\n",
       "      <td>0.0</td>\n",
       "      <td>1.0</td>\n",
       "      <td>2.0</td>\n",
       "      <td>4.0</td>\n",
       "      <td>69.0</td>\n",
       "    </tr>\n",
       "    <tr>\n",
       "      <th>1</th>\n",
       "      <td>DEG_FOU_WOOD</td>\n",
       "      <td>Janice Degni</td>\n",
       "      <td>42.577290</td>\n",
       "      <td>-76.28135</td>\n",
       "      <td>3/5/24</td>\n",
       "      <td>2024-03-19</td>\n",
       "      <td>19.0</td>\n",
       "      <td>1.0</td>\n",
       "      <td>0.0</td>\n",
       "      <td>0.0</td>\n",
       "      <td>0.0</td>\n",
       "      <td>1.0</td>\n",
       "      <td>94.0</td>\n",
       "    </tr>\n",
       "    <tr>\n",
       "      <th>2</th>\n",
       "      <td>DEG_PER_STRIP</td>\n",
       "      <td>Janice Degni</td>\n",
       "      <td>42.673390</td>\n",
       "      <td>-76.22911</td>\n",
       "      <td>3/5/24</td>\n",
       "      <td>2024-03-12</td>\n",
       "      <td>12.0</td>\n",
       "      <td>0.0</td>\n",
       "      <td>2.0</td>\n",
       "      <td>0.0</td>\n",
       "      <td>0.0</td>\n",
       "      <td>2.0</td>\n",
       "      <td>61.0</td>\n",
       "    </tr>\n",
       "    <tr>\n",
       "      <th>3</th>\n",
       "      <td>DEG_VIL</td>\n",
       "      <td>Janice Degni</td>\n",
       "      <td>42.689010</td>\n",
       "      <td>-76.16868</td>\n",
       "      <td>3/5/24</td>\n",
       "      <td>2024-03-12</td>\n",
       "      <td>12.0</td>\n",
       "      <td>1.0</td>\n",
       "      <td>2.0</td>\n",
       "      <td>0.0</td>\n",
       "      <td>0.0</td>\n",
       "      <td>3.0</td>\n",
       "      <td>61.5</td>\n",
       "    </tr>\n",
       "    <tr>\n",
       "      <th>4</th>\n",
       "      <td>DIP_CUR</td>\n",
       "      <td>Shea Crowther</td>\n",
       "      <td>42.432905</td>\n",
       "      <td>-76.24405</td>\n",
       "      <td>3/4/24</td>\n",
       "      <td>2024-04-02</td>\n",
       "      <td>33.0</td>\n",
       "      <td>0.0</td>\n",
       "      <td>1.0</td>\n",
       "      <td>0.0</td>\n",
       "      <td>2.0</td>\n",
       "      <td>3.0</td>\n",
       "      <td>108.5</td>\n",
       "    </tr>\n",
       "  </tbody>\n",
       "</table>\n",
       "</div>"
      ],
      "text/plain": [
       "        Field ID Data Collector   Latitude  Longitude First Cards  \\\n",
       "0   DEG_DIE_HILL   Janice Degni  42.604860  -76.15013      3/5/24   \n",
       "1   DEG_FOU_WOOD   Janice Degni  42.577290  -76.28135      3/5/24   \n",
       "2  DEG_PER_STRIP   Janice Degni  42.673390  -76.22911      3/5/24   \n",
       "3        DEG_VIL   Janice Degni  42.689010  -76.16868      3/5/24   \n",
       "4        DIP_CUR  Shea Crowther  42.432905  -76.24405      3/4/24   \n",
       "\n",
       "  First Emergence   Day  N.SCM.M.1  N.SCM.M.2  N.SCM.F.1  N.SCM.F.2  \\\n",
       "0      2024-03-12  12.0        1.0        0.0        1.0        2.0   \n",
       "1      2024-03-19  19.0        1.0        0.0        0.0        0.0   \n",
       "2      2024-03-12  12.0        0.0        2.0        0.0        0.0   \n",
       "3      2024-03-12  12.0        1.0        2.0        0.0        0.0   \n",
       "4      2024-04-02  33.0        0.0        1.0        0.0        2.0   \n",
       "\n",
       "   Total SCM  Accumulated GDD  \n",
       "0        4.0             69.0  \n",
       "1        1.0             94.0  \n",
       "2        2.0             61.0  \n",
       "3        3.0             61.5  \n",
       "4        3.0            108.5  "
      ]
     },
     "execution_count": 3,
     "metadata": {},
     "output_type": "execute_result"
    }
   ],
   "source": [
    "emergence = pd.read_csv('Data/first_emergence.csv')\n",
    "emergence[\"First Emergence\"] = pd.to_datetime(emergence[\"First Emergence\"], format=\"%m/%d/%y\")\n",
    "\n",
    "emergence.head()"
   ]
  },
  {
   "cell_type": "code",
   "execution_count": 12,
   "metadata": {},
   "outputs": [
    {
     "data": {
      "text/html": [
       "<div>\n",
       "<style scoped>\n",
       "    .dataframe tbody tr th:only-of-type {\n",
       "        vertical-align: middle;\n",
       "    }\n",
       "\n",
       "    .dataframe tbody tr th {\n",
       "        vertical-align: top;\n",
       "    }\n",
       "\n",
       "    .dataframe thead th {\n",
       "        text-align: right;\n",
       "    }\n",
       "</style>\n",
       "<table border=\"1\" class=\"dataframe\">\n",
       "  <thead>\n",
       "    <tr style=\"text-align: right;\">\n",
       "      <th></th>\n",
       "      <th>Field ID</th>\n",
       "      <th>Data Collector</th>\n",
       "      <th>Latitude</th>\n",
       "      <th>Longitude</th>\n",
       "      <th>First Cards</th>\n",
       "      <th>First Emergence</th>\n",
       "      <th>N.SCM.M.1</th>\n",
       "      <th>N.SCM.M.2</th>\n",
       "      <th>N.SCM.F.1</th>\n",
       "      <th>N.SCM.F.2</th>\n",
       "      <th>Total SCM</th>\n",
       "      <th>Accumulated GDD</th>\n",
       "      <th>Male Date</th>\n",
       "      <th>Male DD</th>\n",
       "      <th>Male Day</th>\n",
       "    </tr>\n",
       "  </thead>\n",
       "  <tbody>\n",
       "    <tr>\n",
       "      <th>0</th>\n",
       "      <td>DEG_DIE_HILL</td>\n",
       "      <td>Janice Degni</td>\n",
       "      <td>42.604860</td>\n",
       "      <td>-76.15013</td>\n",
       "      <td>3/5/24</td>\n",
       "      <td>2024-03-12</td>\n",
       "      <td>1.0</td>\n",
       "      <td>0.0</td>\n",
       "      <td>1.0</td>\n",
       "      <td>2.0</td>\n",
       "      <td>4.0</td>\n",
       "      <td>69.0</td>\n",
       "      <td>3/12/24</td>\n",
       "      <td>69.0</td>\n",
       "      <td>12.0</td>\n",
       "    </tr>\n",
       "    <tr>\n",
       "      <th>1</th>\n",
       "      <td>DEG_FOU_WOOD</td>\n",
       "      <td>Janice Degni</td>\n",
       "      <td>42.577290</td>\n",
       "      <td>-76.28135</td>\n",
       "      <td>3/5/24</td>\n",
       "      <td>2024-03-19</td>\n",
       "      <td>1.0</td>\n",
       "      <td>0.0</td>\n",
       "      <td>0.0</td>\n",
       "      <td>0.0</td>\n",
       "      <td>1.0</td>\n",
       "      <td>94.0</td>\n",
       "      <td>3/19/24</td>\n",
       "      <td>94.0</td>\n",
       "      <td>19.0</td>\n",
       "    </tr>\n",
       "    <tr>\n",
       "      <th>2</th>\n",
       "      <td>DEG_PER_STRIP</td>\n",
       "      <td>Janice Degni</td>\n",
       "      <td>42.673390</td>\n",
       "      <td>-76.22911</td>\n",
       "      <td>3/5/24</td>\n",
       "      <td>2024-03-12</td>\n",
       "      <td>0.0</td>\n",
       "      <td>2.0</td>\n",
       "      <td>0.0</td>\n",
       "      <td>0.0</td>\n",
       "      <td>2.0</td>\n",
       "      <td>61.0</td>\n",
       "      <td>3/12/24</td>\n",
       "      <td>61.0</td>\n",
       "      <td>12.0</td>\n",
       "    </tr>\n",
       "    <tr>\n",
       "      <th>3</th>\n",
       "      <td>DEG_VIL</td>\n",
       "      <td>Janice Degni</td>\n",
       "      <td>42.689010</td>\n",
       "      <td>-76.16868</td>\n",
       "      <td>3/5/24</td>\n",
       "      <td>2024-03-12</td>\n",
       "      <td>1.0</td>\n",
       "      <td>2.0</td>\n",
       "      <td>0.0</td>\n",
       "      <td>0.0</td>\n",
       "      <td>3.0</td>\n",
       "      <td>61.5</td>\n",
       "      <td>3/12/24</td>\n",
       "      <td>61.5</td>\n",
       "      <td>12.0</td>\n",
       "    </tr>\n",
       "    <tr>\n",
       "      <th>4</th>\n",
       "      <td>DIP_CUR</td>\n",
       "      <td>Shea Crowther</td>\n",
       "      <td>42.432905</td>\n",
       "      <td>-76.24405</td>\n",
       "      <td>3/4/24</td>\n",
       "      <td>2024-04-02</td>\n",
       "      <td>0.0</td>\n",
       "      <td>1.0</td>\n",
       "      <td>0.0</td>\n",
       "      <td>2.0</td>\n",
       "      <td>3.0</td>\n",
       "      <td>108.5</td>\n",
       "      <td>4/2/24</td>\n",
       "      <td>108.5</td>\n",
       "      <td>33.0</td>\n",
       "    </tr>\n",
       "  </tbody>\n",
       "</table>\n",
       "</div>"
      ],
      "text/plain": [
       "        Field ID Data Collector   Latitude  Longitude First Cards  \\\n",
       "0   DEG_DIE_HILL   Janice Degni  42.604860  -76.15013      3/5/24   \n",
       "1   DEG_FOU_WOOD   Janice Degni  42.577290  -76.28135      3/5/24   \n",
       "2  DEG_PER_STRIP   Janice Degni  42.673390  -76.22911      3/5/24   \n",
       "3        DEG_VIL   Janice Degni  42.689010  -76.16868      3/5/24   \n",
       "4        DIP_CUR  Shea Crowther  42.432905  -76.24405      3/4/24   \n",
       "\n",
       "  First Emergence  N.SCM.M.1  N.SCM.M.2  N.SCM.F.1  N.SCM.F.2  Total SCM  \\\n",
       "0      2024-03-12        1.0        0.0        1.0        2.0        4.0   \n",
       "1      2024-03-19        1.0        0.0        0.0        0.0        1.0   \n",
       "2      2024-03-12        0.0        2.0        0.0        0.0        2.0   \n",
       "3      2024-03-12        1.0        2.0        0.0        0.0        3.0   \n",
       "4      2024-04-02        0.0        1.0        0.0        2.0        3.0   \n",
       "\n",
       "   Accumulated GDD Male Date  Male DD  Male Day  \n",
       "0             69.0   3/12/24     69.0      12.0  \n",
       "1             94.0   3/19/24     94.0      19.0  \n",
       "2             61.0   3/12/24     61.0      12.0  \n",
       "3             61.5   3/12/24     61.5      12.0  \n",
       "4            108.5    4/2/24    108.5      33.0  "
      ]
     },
     "execution_count": 12,
     "metadata": {},
     "output_type": "execute_result"
    }
   ],
   "source": [
    "emergence_male = pd.read_csv('Data/first_emergence_male.csv')\n",
    "emergence_male[\"First Emergence\"] = pd.to_datetime(emergence_male[\"First Emergence\"], format=\"%m/%d/%y\")\n",
    "\n",
    "emergence_male.head()"
   ]
  },
  {
   "cell_type": "code",
   "execution_count": 13,
   "metadata": {},
   "outputs": [
    {
     "data": {
      "text/plain": [
       "1.4684231905914136"
      ]
     },
     "execution_count": 13,
     "metadata": {},
     "output_type": "execute_result"
    }
   ],
   "source": [
    "stats.sem(emergence['Day'].dropna())"
   ]
  },
  {
   "cell_type": "code",
   "execution_count": 15,
   "metadata": {},
   "outputs": [
    {
     "data": {
      "text/plain": [
       "1.4622813226827"
      ]
     },
     "execution_count": 15,
     "metadata": {},
     "output_type": "execute_result"
    }
   ],
   "source": [
    "stats.sem(emergence_male['Male Day'].dropna())"
   ]
  },
  {
   "cell_type": "code",
   "execution_count": 16,
   "metadata": {},
   "outputs": [
    {
     "data": {
      "text/plain": [
       "7.4843169361004485"
      ]
     },
     "execution_count": 16,
     "metadata": {},
     "output_type": "execute_result"
    }
   ],
   "source": [
    "stats.sem(emergence_male['Male DD'].dropna())"
   ]
  },
  {
   "cell_type": "code",
   "execution_count": 17,
   "metadata": {},
   "outputs": [
    {
     "data": {
      "text/plain": [
       "7.792909170093883"
      ]
     },
     "execution_count": 17,
     "metadata": {},
     "output_type": "execute_result"
    }
   ],
   "source": [
    "stats.sem(emergence['Accumulated GDD'].dropna())"
   ]
  },
  {
   "cell_type": "code",
   "execution_count": null,
   "metadata": {},
   "outputs": [],
   "source": []
  }
 ],
 "metadata": {
  "kernelspec": {
   "display_name": "cornell_dev",
   "language": "python",
   "name": "python3"
  },
  "language_info": {
   "codemirror_mode": {
    "name": "ipython",
    "version": 3
   },
   "file_extension": ".py",
   "mimetype": "text/x-python",
   "name": "python",
   "nbconvert_exporter": "python",
   "pygments_lexer": "ipython3",
   "version": "3.11.5 | packaged by conda-forge | (main, Aug 27 2023, 03:33:12) [Clang 15.0.7 ]"
  },
  "orig_nbformat": 4,
  "vscode": {
   "interpreter": {
    "hash": "7ff5e12f2f0f1b4e3226d2100786e0f447f988aa34de485c0372552bc929c5e8"
   }
  }
 },
 "nbformat": 4,
 "nbformat_minor": 2
}

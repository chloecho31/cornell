{
 "cells": [
  {
   "cell_type": "code",
   "execution_count": 16,
   "metadata": {},
   "outputs": [],
   "source": [
    "import pandas as pd\n",
    "import numpy as np\n",
    "import seaborn as sns\n",
    "import matplotlib.pyplot as plt"
   ]
  },
  {
   "cell_type": "code",
   "execution_count": 2,
   "metadata": {},
   "outputs": [],
   "source": [
    "landscape_cat = {\n",
    "    \"ag\": [\n",
    "        \"Corn\",\n",
    "        \"Cotton\",\n",
    "        \"Rice\",\n",
    "        \"Sorghum\",\n",
    "        \"Soybeans\",\n",
    "        \"Sunflower\",\n",
    "        \"Peanuts\",\n",
    "        \"Tobacco\",\n",
    "        \"Sweet Corn\",\n",
    "        \"Pop or Orn Corn\",\n",
    "        \"Mint\",\n",
    "        \"Barley\",\n",
    "        \"Durum Wheat\",\n",
    "        \"Spring Wheat\",\n",
    "        \"Winter Wheat\",\n",
    "        \"Other Small Grains\",\n",
    "        \"Dbl Crop WinWht/Soybeans\",\n",
    "        \"Rye\",\n",
    "        \"Oats\",\n",
    "        \"Millet\",\n",
    "        \"Speltz\",\n",
    "        \"Canola\",\n",
    "        \"Flaxseed\",\n",
    "        \"Safflower\",\n",
    "        \"Rape Seed\",\n",
    "        \"Mustard\",\n",
    "        \"Alfalfa\",\n",
    "        \"Other Hay/Non Alflafa\",\n",
    "        \"Camelina\",\n",
    "        \"Buckwheat\",\n",
    "        \"Sugarbeets\",\n",
    "        \"Dry Beans\",\n",
    "        \"Potatoes\",\n",
    "        \"Other Crops\",\n",
    "        \"Sugarcane\",\n",
    "        \"Sweet Potatoes\",\n",
    "        \"Misc Vegs & Fruits\",\n",
    "        \"Watermelons\",\n",
    "        \"Onions\",\n",
    "        \"Cucumbers\",\n",
    "        \"Chick Peas\",\n",
    "        \"Lentils\",\n",
    "        \"Peas\",\n",
    "        \"Tomatoes\",\n",
    "        \"Caneberries\",\n",
    "        \"Hops\",\n",
    "        \"Herbs\",\n",
    "        \"Clover/Wildflowers\",\n",
    "        \"Sod/Grass Seed\",\n",
    "        \"Switchgrass\",\n",
    "        \"Cherries\",\n",
    "        \"Peaches\",\n",
    "        \"Apples\",\n",
    "        \"Grapes\",\n",
    "        \"Christmas Trees\",\n",
    "        \"Other Tree Crops\",\n",
    "        \"Citrus\",\n",
    "        \"Pecans\",\n",
    "        \"Almonds\",\n",
    "        \"Walnuts\",\n",
    "        \"Pears\",\n",
    "        \"Pistachios\",\n",
    "        \"Triticale\",\n",
    "        \"Carrots\",\n",
    "        \"Asparagus\",\n",
    "        \"Garlic\",\n",
    "        \"Cantaloupes\",\n",
    "        \"Prunes\",\n",
    "        \"Olives\",\n",
    "        \"Oranges\",\n",
    "        \"Honeydew Melons\",\n",
    "        \"Broccoli\",\n",
    "        \"Avocados\",\n",
    "        \"Peppers\",\n",
    "        \"Pomegranates\",\n",
    "        \"Nectarines\",\n",
    "        \"Greens\",\n",
    "        \"Plums\",\n",
    "        \"Strawberries\",\n",
    "        \"Squash\",\n",
    "        \"Apricots\",\n",
    "        \"Vetch\",\n",
    "        \"Dbl Crop WinWht/Corn\",\n",
    "        \"Dbl Crop Oats/Corn\",\n",
    "        \"Lettuce\",\n",
    "        \"Dbl Crop Triticale/Corn\",\n",
    "        \"Pumpkins\",\n",
    "        \"Dbl Crop Lettuce/Durum Wht\",\n",
    "        \"Dbl Crop Lettuce/Cantaloupe\",\n",
    "        \"Dbl Crop Lettuce/Cotton\",\n",
    "        \"Dbl Crop Lettuce/Barley\",\n",
    "        \"Dbl Crop Durum Wht/Sorghum\",\n",
    "        \"Dbl Crop Barley/Sorghum\",\n",
    "        \"Dbl Crop WinWht/Sorghum\",\n",
    "        \"Dbl Crop Barley/Corn\",\n",
    "        \"Dbl Crop WinWht/Cotton\",\n",
    "        \"Dbl Crop Soybeans/Cotton\",\n",
    "        \"Dbl Crop Soybeans/Oats\",\n",
    "        \"Dbl Crop Corn/Soybeans\",\n",
    "        \"Blueberries\",\n",
    "        \"Cabbage\",\n",
    "        \"Cauliflower\",\n",
    "        \"Celery\",\n",
    "        \"Radishes\",\n",
    "        \"Turnips\",\n",
    "        \"Eggplants\",\n",
    "        \"Gourds\",\n",
    "        \"Cranberries\",\n",
    "        \"Dbl Crop Barley/Soybeans\",\n",
    "        \"Cropland\",\n",
    "    ],\n",
    "    \"nat\": [\n",
    "        \"Forest\",\n",
    "        \"Shrubland\",\n",
    "        \"Barren\",\n",
    "        \"Wetlands\",\n",
    "        \"Nonag/Undefined\",\n",
    "        \"Deciduous Forest\",\n",
    "        \"Evergreen Forest\",\n",
    "        \"Mixed Forest\",\n",
    "        \"Shrubland\",\n",
    "        \"Woody Wetlands\",\n",
    "        \"Herbaceous Wetlands\",\n",
    "    ],\n",
    "    \"semi_nat\": [\"Grassland/Pasture\",\n",
    "                 \"Grass/Pasture\"],\n",
    "    \"dev\": [\n",
    "        \"Developed/Open Space\",\n",
    "        \"Developed/Low Intensity\",\n",
    "        \"Developed/Med Intensity\",\n",
    "        \"Developed/High Intensity\",\n",
    "        \"Barren\",\n",
    "    ],\n",
    "    \"other\": [\n",
    "        \"Aquaculture\",\n",
    "        \"Water\",\n",
    "        \"Perennial Ice/Snow\",\n",
    "        \"Open Water\"\n",
    "    ],\n",
    "}\n"
   ]
  },
  {
   "cell_type": "code",
   "execution_count": 75,
   "metadata": {},
   "outputs": [],
   "source": [
    "def cdl_processing(cdl_metadata, qgis_csv):\n",
    "    \n",
    "    #qgis_csv[\"Total\"] = qgis_csv.sum(axis=1, numeric_only=True)\n",
    "    #qgis_csv['Ag'] = qgis_csv[qgis_csv.columns.intersection(landscape_cat['ag'])].sum(axis=1)\n",
    "    qgis_csv['Ag_Prop'] = qgis_csv['Ag'] / qgis_csv['Total']\n",
    "    #qgis_csv['Nat'] = qgis_csv[qgis_csv.columns.intersection(landscape_cat['nat'])].sum(axis=1)\n",
    "    qgis_csv['Nat_Prop'] = qgis_csv['Nat'] / qgis_csv['Total']\n",
    "    #qgis_csv['Semi_Nat'] = qgis_csv[qgis_csv.columns.intersection(landscape_cat['semi_nat'])].sum(axis=1)\n",
    "    qgis_csv['Semi_Nat_Prop'] = qgis_csv['Semi_Nat'] / qgis_csv['Total']\n",
    "    #qgis_csv['Dev'] = qgis_csv[qgis_csv.columns.intersection(landscape_cat['dev'])].sum(axis=1)\n",
    "    qgis_csv['Dev_Prop'] = qgis_csv['Dev'] / qgis_csv['Total']\n",
    "    #qgis_csv['Other'] = qgis_csv[qgis_csv.columns.intersection(landscape_cat['other'])].sum(axis=1)\n",
    "    qgis_csv['Other_Prop'] = qgis_csv['Other'] / qgis_csv['Total']\n",
    "    qgis_csv['Corn_Prop'] = qgis_csv['Corn'] / qgis_csv['Total']\n",
    "    qgis_csv['Soybean_Prop'] = qgis_csv['Soybeans'] / qgis_csv['Total']\n",
    "\n",
    "    return qgis_csv\n"
   ]
  },
  {
   "cell_type": "code",
   "execution_count": 141,
   "metadata": {},
   "outputs": [],
   "source": [
    "metadata = pd.read_csv(\"metadata/cdl_metadata_ny_2018.csv\")\n",
    "cdl_500m = pd.read_csv(\"2018_ny_cdl/2018_ny_cdl_csv/2023_scm_2018_cdl_500m.csv\")"
   ]
  },
  {
   "cell_type": "code",
   "execution_count": 142,
   "metadata": {},
   "outputs": [],
   "source": [
    "cdl_500m = cdl_processing(metadata, cdl_500m)"
   ]
  },
  {
   "cell_type": "code",
   "execution_count": 143,
   "metadata": {},
   "outputs": [],
   "source": [
    "cdl_500m['Buffer'] = 500\n",
    "cdl_500m = cdl_500m.drop(columns=['Unnamed: 0'])"
   ]
  },
  {
   "cell_type": "code",
   "execution_count": 144,
   "metadata": {},
   "outputs": [],
   "source": [
    "cdl_500m.to_csv('cdl_five_year_history/2018/2023_scm_2018_cdl_500m.csv')"
   ]
  },
  {
   "cell_type": "code",
   "execution_count": 145,
   "metadata": {},
   "outputs": [],
   "source": [
    "cdl_1000m = pd.read_csv(\"2018_ny_cdl/2018_ny_cdl_csv/2023_scm_2018_cdl_1000m.csv\")"
   ]
  },
  {
   "cell_type": "code",
   "execution_count": 146,
   "metadata": {},
   "outputs": [],
   "source": [
    "cdl_1000m = cdl_processing(metadata, cdl_1000m)"
   ]
  },
  {
   "cell_type": "code",
   "execution_count": 147,
   "metadata": {},
   "outputs": [],
   "source": [
    "cdl_1000m['Buffer'] = 1000\n",
    "cdl_1000m = cdl_1000m.drop(columns=['Unnamed: 0'])"
   ]
  },
  {
   "cell_type": "code",
   "execution_count": 148,
   "metadata": {},
   "outputs": [],
   "source": [
    "cdl_1000m.to_csv('cdl_five_year_history/2018/2023_scm_2018_cdl_1000m.csv')"
   ]
  },
  {
   "cell_type": "code",
   "execution_count": 149,
   "metadata": {},
   "outputs": [],
   "source": [
    "cdl_2000m = pd.read_csv(\"2018_ny_cdl/2018_ny_cdl_csv/2023_scm_2018_cdl_2000m.csv\")"
   ]
  },
  {
   "cell_type": "code",
   "execution_count": 150,
   "metadata": {},
   "outputs": [],
   "source": [
    "cdl_2000m = cdl_processing(metadata, cdl_2000m)"
   ]
  },
  {
   "cell_type": "code",
   "execution_count": 151,
   "metadata": {},
   "outputs": [],
   "source": [
    "cdl_2000m['Buffer'] = 2000\n",
    "cdl_2000m = cdl_2000m.drop(columns=['Unnamed: 0'])"
   ]
  },
  {
   "cell_type": "code",
   "execution_count": 152,
   "metadata": {},
   "outputs": [],
   "source": [
    "cdl_2000m.to_csv('cdl_five_year_history/2018/2023_scm_2018_cdl_2000m.csv')"
   ]
  },
  {
   "cell_type": "code",
   "execution_count": 153,
   "metadata": {},
   "outputs": [],
   "source": [
    "cdl_3000m = pd.read_csv(\"2018_ny_cdl/2018_ny_cdl_csv/2023_scm_2018_cdl_3000m.csv\")"
   ]
  },
  {
   "cell_type": "code",
   "execution_count": 154,
   "metadata": {},
   "outputs": [],
   "source": [
    "cdl_3000m = cdl_processing(metadata, cdl_3000m)"
   ]
  },
  {
   "cell_type": "code",
   "execution_count": 155,
   "metadata": {},
   "outputs": [],
   "source": [
    "cdl_3000m['Buffer'] = 3000\n",
    "cdl_3000m = cdl_3000m.drop(columns=['Unnamed: 0'])"
   ]
  },
  {
   "cell_type": "code",
   "execution_count": 156,
   "metadata": {},
   "outputs": [],
   "source": [
    "cdl_3000m.to_csv('cdl_five_year_history/2018/2023_scm_2018_cdl_3000m.csv')"
   ]
  },
  {
   "cell_type": "code",
   "execution_count": null,
   "metadata": {},
   "outputs": [],
   "source": []
  }
 ],
 "metadata": {
  "kernelspec": {
   "display_name": "cornell_dev",
   "language": "python",
   "name": "python3"
  },
  "language_info": {
   "codemirror_mode": {
    "name": "ipython",
    "version": 3
   },
   "file_extension": ".py",
   "mimetype": "text/x-python",
   "name": "python",
   "nbconvert_exporter": "python",
   "pygments_lexer": "ipython3",
   "version": "3.11.5"
  },
  "orig_nbformat": 4,
  "vscode": {
   "interpreter": {
    "hash": "7ff5e12f2f0f1b4e3226d2100786e0f447f988aa34de485c0372552bc929c5e8"
   }
  }
 },
 "nbformat": 4,
 "nbformat_minor": 2
}

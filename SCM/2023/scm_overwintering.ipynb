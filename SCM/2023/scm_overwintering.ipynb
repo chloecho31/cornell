{
 "cells": [
  {
   "cell_type": "code",
   "execution_count": 2,
   "metadata": {},
   "outputs": [],
   "source": [
    "import pandas as pd\n",
    "import numpy as np\n",
    "from skimpy import clean_columns\n",
    "import matplotlib.pyplot as plt\n",
    "import seaborn as sns\n",
    "from datetime import date\n",
    "from datetime import datetime"
   ]
  },
  {
   "cell_type": "code",
   "execution_count": 21,
   "metadata": {},
   "outputs": [],
   "source": [
    "sticky_cards = pd.read_csv('Data/2023_scm_counts.csv')\n",
    "sticky_cards = clean_columns(sticky_cards)\n",
    "sticky_cards[\"collection_date\"] = pd.to_datetime(sticky_cards[\"collection_date\"], format=\"%m/%d/%y\")"
   ]
  },
  {
   "cell_type": "code",
   "execution_count": 22,
   "metadata": {},
   "outputs": [],
   "source": [
    "overwintering_sites = [\n",
    "    \"EVE_ORC_IN\",\n",
    "    \"EVE_ORC_OUT\",\n",
    "    \"EVE_FIE_IN\",\n",
    "    \"EVE_FIE_OUT\",\n",
    "    \"EVE_FOR_IN\",\n",
    "    \"EVE_FOR_OUT\",\n",
    "    \"KIR_FOR_IN\",\n",
    "    \"KIR_FOR_OUT\",\n",
    "    \"KIR_ORC_IN\",\n",
    "    \"KIR_ORC_OUT\",\n",
    "    'KIR_FIE_IN',\n",
    "    'KIR_FIE_OUT'\n",
    "]\n",
    "\n",
    "kirby = [\"KIR_FOR_IN\",\n",
    "    \"KIR_FOR_OUT\",\n",
    "    \"KIR_ORC_IN\",\n",
    "    \"KIR_ORC_OUT\",\n",
    "    'KIR_FIE_IN',\n",
    "    'KIR_FIE_OUT']\n",
    "\n",
    "eve = [\"EVE_ORC_IN\",\n",
    "    \"EVE_ORC_OUT\",\n",
    "    \"EVE_FIE_IN\",\n",
    "    \"EVE_FIE_OUT\",\n",
    "    \"EVE_FOR_IN\",\n",
    "    \"EVE_FOR_OUT\"]\n"
   ]
  },
  {
   "cell_type": "code",
   "execution_count": 23,
   "metadata": {},
   "outputs": [
    {
     "name": "stderr",
     "output_type": "stream",
     "text": [
      "/var/folders/vt/gz9c8wh17772k93xq1vtnl0c0000gn/T/ipykernel_16517/69414269.py:2: SettingWithCopyWarning: \n",
      "A value is trying to be set on a copy of a slice from a DataFrame.\n",
      "Try using .loc[row_indexer,col_indexer] = value instead\n",
      "\n",
      "See the caveats in the documentation: https://pandas.pydata.org/pandas-docs/stable/user_guide/indexing.html#returning-a-view-versus-a-copy\n",
      "  overwintering['total_scm'] = overwintering['n_scm_i_m'] + overwintering['n_scm_o_m'] + overwintering['n_scm_i_f'] + overwintering['n_scm_o_f']\n"
     ]
    },
    {
     "data": {
      "text/html": [
       "<div>\n",
       "<style scoped>\n",
       "    .dataframe tbody tr th:only-of-type {\n",
       "        vertical-align: middle;\n",
       "    }\n",
       "\n",
       "    .dataframe tbody tr th {\n",
       "        vertical-align: top;\n",
       "    }\n",
       "\n",
       "    .dataframe thead th {\n",
       "        text-align: right;\n",
       "    }\n",
       "</style>\n",
       "<table border=\"1\" class=\"dataframe\">\n",
       "  <thead>\n",
       "    <tr style=\"text-align: right;\">\n",
       "      <th></th>\n",
       "      <th>card_id</th>\n",
       "      <th>data_collector</th>\n",
       "      <th>site</th>\n",
       "      <th>collection_date</th>\n",
       "      <th>n_scm_i_m</th>\n",
       "      <th>n_scm_i_f</th>\n",
       "      <th>n_scm_o_m</th>\n",
       "      <th>n_scm_o_f</th>\n",
       "      <th>n_d_florilega_i</th>\n",
       "      <th>n_d_florilega_o</th>\n",
       "      <th>initials</th>\n",
       "      <th>total_scm</th>\n",
       "    </tr>\n",
       "  </thead>\n",
       "  <tbody>\n",
       "    <tr>\n",
       "      <th>436</th>\n",
       "      <td>6489</td>\n",
       "      <td>Alexa Stratton</td>\n",
       "      <td>EVE_FIE_IN</td>\n",
       "      <td>2023-08-23</td>\n",
       "      <td>0.0</td>\n",
       "      <td>0.0</td>\n",
       "      <td>0.0</td>\n",
       "      <td>0.0</td>\n",
       "      <td>0.0</td>\n",
       "      <td>0.0</td>\n",
       "      <td>AS</td>\n",
       "      <td>0.0</td>\n",
       "    </tr>\n",
       "    <tr>\n",
       "      <th>437</th>\n",
       "      <td>6561</td>\n",
       "      <td>Alexa Stratton</td>\n",
       "      <td>EVE_FIE_IN</td>\n",
       "      <td>2023-08-30</td>\n",
       "      <td>0.0</td>\n",
       "      <td>0.0</td>\n",
       "      <td>0.0</td>\n",
       "      <td>0.0</td>\n",
       "      <td>0.0</td>\n",
       "      <td>0.0</td>\n",
       "      <td>AS</td>\n",
       "      <td>0.0</td>\n",
       "    </tr>\n",
       "    <tr>\n",
       "      <th>438</th>\n",
       "      <td>6607</td>\n",
       "      <td>Alexa Stratton</td>\n",
       "      <td>EVE_FIE_IN</td>\n",
       "      <td>2023-09-06</td>\n",
       "      <td>0.0</td>\n",
       "      <td>0.0</td>\n",
       "      <td>0.0</td>\n",
       "      <td>0.0</td>\n",
       "      <td>0.0</td>\n",
       "      <td>0.0</td>\n",
       "      <td>AS</td>\n",
       "      <td>0.0</td>\n",
       "    </tr>\n",
       "    <tr>\n",
       "      <th>439</th>\n",
       "      <td>6697</td>\n",
       "      <td>Alexa Stratton</td>\n",
       "      <td>EVE_FIE_IN</td>\n",
       "      <td>2023-09-13</td>\n",
       "      <td>0.0</td>\n",
       "      <td>0.0</td>\n",
       "      <td>0.0</td>\n",
       "      <td>0.0</td>\n",
       "      <td>0.0</td>\n",
       "      <td>0.0</td>\n",
       "      <td>AS</td>\n",
       "      <td>0.0</td>\n",
       "    </tr>\n",
       "    <tr>\n",
       "      <th>440</th>\n",
       "      <td>6722</td>\n",
       "      <td>Alexa Stratton</td>\n",
       "      <td>EVE_FIE_IN</td>\n",
       "      <td>2023-09-20</td>\n",
       "      <td>0.0</td>\n",
       "      <td>1.0</td>\n",
       "      <td>0.0</td>\n",
       "      <td>0.0</td>\n",
       "      <td>0.0</td>\n",
       "      <td>0.0</td>\n",
       "      <td>SN</td>\n",
       "      <td>1.0</td>\n",
       "    </tr>\n",
       "    <tr>\n",
       "      <th>...</th>\n",
       "      <td>...</td>\n",
       "      <td>...</td>\n",
       "      <td>...</td>\n",
       "      <td>...</td>\n",
       "      <td>...</td>\n",
       "      <td>...</td>\n",
       "      <td>...</td>\n",
       "      <td>...</td>\n",
       "      <td>...</td>\n",
       "      <td>...</td>\n",
       "      <td>...</td>\n",
       "      <td>...</td>\n",
       "    </tr>\n",
       "    <tr>\n",
       "      <th>1261</th>\n",
       "      <td>7161</td>\n",
       "      <td>Alexa Stratton</td>\n",
       "      <td>KIR_ORC_OUT</td>\n",
       "      <td>2023-11-01</td>\n",
       "      <td>0.0</td>\n",
       "      <td>0.0</td>\n",
       "      <td>0.0</td>\n",
       "      <td>3.0</td>\n",
       "      <td>0.0</td>\n",
       "      <td>0.0</td>\n",
       "      <td>AS</td>\n",
       "      <td>3.0</td>\n",
       "    </tr>\n",
       "    <tr>\n",
       "      <th>1262</th>\n",
       "      <td>7189</td>\n",
       "      <td>Alexa Stratton</td>\n",
       "      <td>KIR_ORC_OUT</td>\n",
       "      <td>2023-11-08</td>\n",
       "      <td>0.0</td>\n",
       "      <td>2.0</td>\n",
       "      <td>0.0</td>\n",
       "      <td>0.0</td>\n",
       "      <td>0.0</td>\n",
       "      <td>0.0</td>\n",
       "      <td>AS</td>\n",
       "      <td>2.0</td>\n",
       "    </tr>\n",
       "    <tr>\n",
       "      <th>1263</th>\n",
       "      <td>7217</td>\n",
       "      <td>Alexa Stratton</td>\n",
       "      <td>KIR_ORC_OUT</td>\n",
       "      <td>2023-11-15</td>\n",
       "      <td>1.0</td>\n",
       "      <td>0.0</td>\n",
       "      <td>0.0</td>\n",
       "      <td>0.0</td>\n",
       "      <td>0.0</td>\n",
       "      <td>0.0</td>\n",
       "      <td>SC</td>\n",
       "      <td>1.0</td>\n",
       "    </tr>\n",
       "    <tr>\n",
       "      <th>1264</th>\n",
       "      <td>7245</td>\n",
       "      <td>Alexa Stratton</td>\n",
       "      <td>KIR_ORC_OUT</td>\n",
       "      <td>2023-11-21</td>\n",
       "      <td>NaN</td>\n",
       "      <td>NaN</td>\n",
       "      <td>NaN</td>\n",
       "      <td>NaN</td>\n",
       "      <td>NaN</td>\n",
       "      <td>NaN</td>\n",
       "      <td>NaN</td>\n",
       "      <td>NaN</td>\n",
       "    </tr>\n",
       "    <tr>\n",
       "      <th>1265</th>\n",
       "      <td>7273</td>\n",
       "      <td>Alexa Stratton</td>\n",
       "      <td>KIR_ORC_OUT</td>\n",
       "      <td>2023-11-29</td>\n",
       "      <td>0.0</td>\n",
       "      <td>0.0</td>\n",
       "      <td>1.0</td>\n",
       "      <td>1.0</td>\n",
       "      <td>0.0</td>\n",
       "      <td>0.0</td>\n",
       "      <td>SC</td>\n",
       "      <td>2.0</td>\n",
       "    </tr>\n",
       "  </tbody>\n",
       "</table>\n",
       "<p>190 rows × 12 columns</p>\n",
       "</div>"
      ],
      "text/plain": [
       "      card_id  data_collector         site collection_date  n_scm_i_m  \\\n",
       "436      6489  Alexa Stratton   EVE_FIE_IN      2023-08-23        0.0   \n",
       "437      6561  Alexa Stratton   EVE_FIE_IN      2023-08-30        0.0   \n",
       "438      6607  Alexa Stratton   EVE_FIE_IN      2023-09-06        0.0   \n",
       "439      6697  Alexa Stratton   EVE_FIE_IN      2023-09-13        0.0   \n",
       "440      6722  Alexa Stratton   EVE_FIE_IN      2023-09-20        0.0   \n",
       "...       ...             ...          ...             ...        ...   \n",
       "1261     7161  Alexa Stratton  KIR_ORC_OUT      2023-11-01        0.0   \n",
       "1262     7189  Alexa Stratton  KIR_ORC_OUT      2023-11-08        0.0   \n",
       "1263     7217  Alexa Stratton  KIR_ORC_OUT      2023-11-15        1.0   \n",
       "1264     7245  Alexa Stratton  KIR_ORC_OUT      2023-11-21        NaN   \n",
       "1265     7273  Alexa Stratton  KIR_ORC_OUT      2023-11-29        0.0   \n",
       "\n",
       "      n_scm_i_f  n_scm_o_m  n_scm_o_f  n_d_florilega_i  n_d_florilega_o  \\\n",
       "436         0.0        0.0        0.0              0.0              0.0   \n",
       "437         0.0        0.0        0.0              0.0              0.0   \n",
       "438         0.0        0.0        0.0              0.0              0.0   \n",
       "439         0.0        0.0        0.0              0.0              0.0   \n",
       "440         1.0        0.0        0.0              0.0              0.0   \n",
       "...         ...        ...        ...              ...              ...   \n",
       "1261        0.0        0.0        3.0              0.0              0.0   \n",
       "1262        2.0        0.0        0.0              0.0              0.0   \n",
       "1263        0.0        0.0        0.0              0.0              0.0   \n",
       "1264        NaN        NaN        NaN              NaN              NaN   \n",
       "1265        0.0        1.0        1.0              0.0              0.0   \n",
       "\n",
       "     initials  total_scm  \n",
       "436        AS        0.0  \n",
       "437        AS        0.0  \n",
       "438        AS        0.0  \n",
       "439        AS        0.0  \n",
       "440        SN        1.0  \n",
       "...       ...        ...  \n",
       "1261       AS        3.0  \n",
       "1262       AS        2.0  \n",
       "1263       SC        1.0  \n",
       "1264      NaN        NaN  \n",
       "1265       SC        2.0  \n",
       "\n",
       "[190 rows x 12 columns]"
      ]
     },
     "execution_count": 23,
     "metadata": {},
     "output_type": "execute_result"
    }
   ],
   "source": [
    "overwintering = sticky_cards.loc[sticky_cards['site'].isin(overwintering_sites)]\n",
    "overwintering['total_scm'] = overwintering['n_scm_i_m'] + overwintering['n_scm_o_m'] + overwintering['n_scm_i_f'] + overwintering['n_scm_o_f']\n",
    "overwintering"
   ]
  },
  {
   "cell_type": "code",
   "execution_count": 24,
   "metadata": {},
   "outputs": [
    {
     "name": "stderr",
     "output_type": "stream",
     "text": [
      "/var/folders/vt/gz9c8wh17772k93xq1vtnl0c0000gn/T/ipykernel_16517/3074864329.py:3: SettingWithCopyWarning: \n",
      "A value is trying to be set on a copy of a slice from a DataFrame.\n",
      "Try using .loc[row_indexer,col_indexer] = value instead\n",
      "\n",
      "See the caveats in the documentation: https://pandas.pydata.org/pandas-docs/stable/user_guide/indexing.html#returning-a-view-versus-a-copy\n",
      "  overwintering.loc[overwintering.index[i], 'landscape_type'] = \"Field\"\n",
      "/var/folders/vt/gz9c8wh17772k93xq1vtnl0c0000gn/T/ipykernel_16517/3074864329.py:3: FutureWarning: Setting an item of incompatible dtype is deprecated and will raise in a future error of pandas. Value 'Field' has dtype incompatible with float64, please explicitly cast to a compatible dtype first.\n",
      "  overwintering.loc[overwintering.index[i], 'landscape_type'] = \"Field\"\n"
     ]
    }
   ],
   "source": [
    "for i in range(len(overwintering.index)):\n",
    "    if 'FIE' in overwintering.iloc[i]['site']:\n",
    "        overwintering.loc[overwintering.index[i], 'landscape_type'] = \"Field\"\n",
    "    elif 'ORC' in overwintering.iloc[i]['site']:\n",
    "        overwintering.loc[overwintering.index[i], 'landscape_type'] = \"Orchard\"\n",
    "    elif 'FOR' in overwintering.iloc[i]['site']:\n",
    "        overwintering.loc[overwintering.index[i], 'landscape_type'] = \"Forest\""
   ]
  },
  {
   "cell_type": "code",
   "execution_count": 25,
   "metadata": {},
   "outputs": [
    {
     "name": "stderr",
     "output_type": "stream",
     "text": [
      "/var/folders/vt/gz9c8wh17772k93xq1vtnl0c0000gn/T/ipykernel_16517/132017097.py:5: SettingWithCopyWarning: \n",
      "A value is trying to be set on a copy of a slice from a DataFrame.\n",
      "Try using .loc[row_indexer,col_indexer] = value instead\n",
      "\n",
      "See the caveats in the documentation: https://pandas.pydata.org/pandas-docs/stable/user_guide/indexing.html#returning-a-view-versus-a-copy\n",
      "  overwintering.loc[overwintering.index[i], 'farm'] = \"Eve\"\n",
      "/var/folders/vt/gz9c8wh17772k93xq1vtnl0c0000gn/T/ipykernel_16517/132017097.py:5: FutureWarning: Setting an item of incompatible dtype is deprecated and will raise in a future error of pandas. Value 'Eve' has dtype incompatible with float64, please explicitly cast to a compatible dtype first.\n",
      "  overwintering.loc[overwintering.index[i], 'farm'] = \"Eve\"\n"
     ]
    }
   ],
   "source": [
    "for i in range(len(overwintering.index)):\n",
    "    if 'KIR' in overwintering.iloc[i]['site']:\n",
    "        overwintering.loc[overwintering.index[i], 'farm'] = \"Kirby\"\n",
    "    elif 'EVE' in overwintering.iloc[i]['site']:\n",
    "        overwintering.loc[overwintering.index[i], 'farm'] = \"Eve\""
   ]
  },
  {
   "cell_type": "code",
   "execution_count": 26,
   "metadata": {},
   "outputs": [
    {
     "data": {
      "text/html": [
       "<div>\n",
       "<style scoped>\n",
       "    .dataframe tbody tr th:only-of-type {\n",
       "        vertical-align: middle;\n",
       "    }\n",
       "\n",
       "    .dataframe tbody tr th {\n",
       "        vertical-align: top;\n",
       "    }\n",
       "\n",
       "    .dataframe thead th {\n",
       "        text-align: right;\n",
       "    }\n",
       "</style>\n",
       "<table border=\"1\" class=\"dataframe\">\n",
       "  <thead>\n",
       "    <tr style=\"text-align: right;\">\n",
       "      <th></th>\n",
       "      <th></th>\n",
       "      <th></th>\n",
       "      <th>total_scm</th>\n",
       "    </tr>\n",
       "    <tr>\n",
       "      <th>collection_date</th>\n",
       "      <th>farm</th>\n",
       "      <th>landscape_type</th>\n",
       "      <th></th>\n",
       "    </tr>\n",
       "  </thead>\n",
       "  <tbody>\n",
       "    <tr>\n",
       "      <th rowspan=\"2\" valign=\"top\">2023-08-01</th>\n",
       "      <th rowspan=\"2\" valign=\"top\">Kirby</th>\n",
       "      <th>Field</th>\n",
       "      <td>118.0</td>\n",
       "    </tr>\n",
       "    <tr>\n",
       "      <th>Orchard</th>\n",
       "      <td>7.0</td>\n",
       "    </tr>\n",
       "    <tr>\n",
       "      <th rowspan=\"3\" valign=\"top\">2023-08-08</th>\n",
       "      <th rowspan=\"3\" valign=\"top\">Kirby</th>\n",
       "      <th>Field</th>\n",
       "      <td>0.0</td>\n",
       "    </tr>\n",
       "    <tr>\n",
       "      <th>Forest</th>\n",
       "      <td>0.0</td>\n",
       "    </tr>\n",
       "    <tr>\n",
       "      <th>Orchard</th>\n",
       "      <td>0.0</td>\n",
       "    </tr>\n",
       "    <tr>\n",
       "      <th>...</th>\n",
       "      <th>...</th>\n",
       "      <th>...</th>\n",
       "      <td>...</td>\n",
       "    </tr>\n",
       "    <tr>\n",
       "      <th rowspan=\"2\" valign=\"top\">2023-11-29</th>\n",
       "      <th rowspan=\"2\" valign=\"top\">Kirby</th>\n",
       "      <th>Forest</th>\n",
       "      <td>0.0</td>\n",
       "    </tr>\n",
       "    <tr>\n",
       "      <th>Orchard</th>\n",
       "      <td>3.0</td>\n",
       "    </tr>\n",
       "    <tr>\n",
       "      <th rowspan=\"3\" valign=\"top\">2023-11-30</th>\n",
       "      <th rowspan=\"3\" valign=\"top\">Eve</th>\n",
       "      <th>Field</th>\n",
       "      <td>1.0</td>\n",
       "    </tr>\n",
       "    <tr>\n",
       "      <th>Forest</th>\n",
       "      <td>0.0</td>\n",
       "    </tr>\n",
       "    <tr>\n",
       "      <th>Orchard</th>\n",
       "      <td>0.0</td>\n",
       "    </tr>\n",
       "  </tbody>\n",
       "</table>\n",
       "<p>96 rows × 1 columns</p>\n",
       "</div>"
      ],
      "text/plain": [
       "                                      total_scm\n",
       "collection_date farm  landscape_type           \n",
       "2023-08-01      Kirby Field               118.0\n",
       "                      Orchard               7.0\n",
       "2023-08-08      Kirby Field                 0.0\n",
       "                      Forest                0.0\n",
       "                      Orchard               0.0\n",
       "...                                         ...\n",
       "2023-11-29      Kirby Forest                0.0\n",
       "                      Orchard               3.0\n",
       "2023-11-30      Eve   Field                 1.0\n",
       "                      Forest                0.0\n",
       "                      Orchard               0.0\n",
       "\n",
       "[96 rows x 1 columns]"
      ]
     },
     "execution_count": 26,
     "metadata": {},
     "output_type": "execute_result"
    }
   ],
   "source": [
    "df = overwintering.groupby(['collection_date', 'farm', 'landscape_type'])[['total_scm']].sum()\n",
    "df\n"
   ]
  },
  {
   "cell_type": "code",
   "execution_count": 27,
   "metadata": {},
   "outputs": [
    {
     "name": "stderr",
     "output_type": "stream",
     "text": [
      "/var/folders/vt/gz9c8wh17772k93xq1vtnl0c0000gn/T/ipykernel_16517/349816663.py:1: FutureWarning: Calling float on a single element Series is deprecated and will raise a TypeError in the future. Use float(ser.iloc[0]) instead\n",
      "  df = df.groupby(level=0).apply(lambda x:100 * x / float(x.sum()))\n"
     ]
    },
    {
     "data": {
      "text/html": [
       "<div>\n",
       "<style scoped>\n",
       "    .dataframe tbody tr th:only-of-type {\n",
       "        vertical-align: middle;\n",
       "    }\n",
       "\n",
       "    .dataframe tbody tr th {\n",
       "        vertical-align: top;\n",
       "    }\n",
       "\n",
       "    .dataframe thead th {\n",
       "        text-align: right;\n",
       "    }\n",
       "</style>\n",
       "<table border=\"1\" class=\"dataframe\">\n",
       "  <thead>\n",
       "    <tr style=\"text-align: right;\">\n",
       "      <th></th>\n",
       "      <th>collection_date</th>\n",
       "      <th>farm</th>\n",
       "      <th>landscape_type</th>\n",
       "      <th>total_scm</th>\n",
       "    </tr>\n",
       "  </thead>\n",
       "  <tbody>\n",
       "    <tr>\n",
       "      <th>0</th>\n",
       "      <td>2023-08-01</td>\n",
       "      <td>Kirby</td>\n",
       "      <td>Field</td>\n",
       "      <td>94.400000</td>\n",
       "    </tr>\n",
       "    <tr>\n",
       "      <th>1</th>\n",
       "      <td>2023-08-01</td>\n",
       "      <td>Kirby</td>\n",
       "      <td>Orchard</td>\n",
       "      <td>5.600000</td>\n",
       "    </tr>\n",
       "    <tr>\n",
       "      <th>2</th>\n",
       "      <td>2023-08-08</td>\n",
       "      <td>Kirby</td>\n",
       "      <td>Field</td>\n",
       "      <td>NaN</td>\n",
       "    </tr>\n",
       "    <tr>\n",
       "      <th>3</th>\n",
       "      <td>2023-08-08</td>\n",
       "      <td>Kirby</td>\n",
       "      <td>Forest</td>\n",
       "      <td>NaN</td>\n",
       "    </tr>\n",
       "    <tr>\n",
       "      <th>4</th>\n",
       "      <td>2023-08-08</td>\n",
       "      <td>Kirby</td>\n",
       "      <td>Orchard</td>\n",
       "      <td>NaN</td>\n",
       "    </tr>\n",
       "    <tr>\n",
       "      <th>...</th>\n",
       "      <td>...</td>\n",
       "      <td>...</td>\n",
       "      <td>...</td>\n",
       "      <td>...</td>\n",
       "    </tr>\n",
       "    <tr>\n",
       "      <th>91</th>\n",
       "      <td>2023-11-29</td>\n",
       "      <td>Kirby</td>\n",
       "      <td>Forest</td>\n",
       "      <td>0.000000</td>\n",
       "    </tr>\n",
       "    <tr>\n",
       "      <th>92</th>\n",
       "      <td>2023-11-29</td>\n",
       "      <td>Kirby</td>\n",
       "      <td>Orchard</td>\n",
       "      <td>33.333333</td>\n",
       "    </tr>\n",
       "    <tr>\n",
       "      <th>93</th>\n",
       "      <td>2023-11-30</td>\n",
       "      <td>Eve</td>\n",
       "      <td>Field</td>\n",
       "      <td>100.000000</td>\n",
       "    </tr>\n",
       "    <tr>\n",
       "      <th>94</th>\n",
       "      <td>2023-11-30</td>\n",
       "      <td>Eve</td>\n",
       "      <td>Forest</td>\n",
       "      <td>0.000000</td>\n",
       "    </tr>\n",
       "    <tr>\n",
       "      <th>95</th>\n",
       "      <td>2023-11-30</td>\n",
       "      <td>Eve</td>\n",
       "      <td>Orchard</td>\n",
       "      <td>0.000000</td>\n",
       "    </tr>\n",
       "  </tbody>\n",
       "</table>\n",
       "<p>96 rows × 4 columns</p>\n",
       "</div>"
      ],
      "text/plain": [
       "   collection_date   farm landscape_type   total_scm\n",
       "0       2023-08-01  Kirby          Field   94.400000\n",
       "1       2023-08-01  Kirby        Orchard    5.600000\n",
       "2       2023-08-08  Kirby          Field         NaN\n",
       "3       2023-08-08  Kirby         Forest         NaN\n",
       "4       2023-08-08  Kirby        Orchard         NaN\n",
       "..             ...    ...            ...         ...\n",
       "91      2023-11-29  Kirby         Forest    0.000000\n",
       "92      2023-11-29  Kirby        Orchard   33.333333\n",
       "93      2023-11-30    Eve          Field  100.000000\n",
       "94      2023-11-30    Eve         Forest    0.000000\n",
       "95      2023-11-30    Eve        Orchard    0.000000\n",
       "\n",
       "[96 rows x 4 columns]"
      ]
     },
     "execution_count": 27,
     "metadata": {},
     "output_type": "execute_result"
    }
   ],
   "source": [
    "df = df.groupby(level=0).apply(lambda x:100 * x / float(x.sum()))\n",
    "df = df.reset_index(level=1, drop=True).reset_index()\n",
    "df['collection_date'] = df['collection_date'].dt.date\n",
    "df['collection_date'] = df['collection_date'].astype('category')\n",
    "df"
   ]
  },
  {
   "cell_type": "code",
   "execution_count": 28,
   "metadata": {},
   "outputs": [
    {
     "name": "stdout",
     "output_type": "stream",
     "text": [
      "['#66c2a5', '#fc8d62', '#8da0cb', '#e78ac3', '#a6d854', '#ffd92f', '#e5c494', '#b3b3b3']\n"
     ]
    }
   ],
   "source": [
    "print(sns.color_palette(\"Set2\").as_hex())"
   ]
  },
  {
   "cell_type": "code",
   "execution_count": 45,
   "metadata": {},
   "outputs": [
    {
     "name": "stderr",
     "output_type": "stream",
     "text": [
      "/Users/chloecho/anaconda3/envs/cornell_dev/lib/python3.11/site-packages/seaborn/_oldcore.py:1498: FutureWarning: is_categorical_dtype is deprecated and will be removed in a future version. Use isinstance(dtype, CategoricalDtype) instead\n",
      "  if pd.api.types.is_categorical_dtype(vector):\n",
      "/Users/chloecho/anaconda3/envs/cornell_dev/lib/python3.11/site-packages/seaborn/categorical.py:641: FutureWarning: The default of observed=False is deprecated and will be changed to True in a future version of pandas. Pass observed=False to retain current behavior or observed=True to adopt the future default and silence this warning.\n",
      "  grouped_vals = vals.groupby(grouper)\n",
      "/Users/chloecho/anaconda3/envs/cornell_dev/lib/python3.11/site-packages/seaborn/_oldcore.py:1498: FutureWarning: is_categorical_dtype is deprecated and will be removed in a future version. Use isinstance(dtype, CategoricalDtype) instead\n",
      "  if pd.api.types.is_categorical_dtype(vector):\n",
      "/Users/chloecho/anaconda3/envs/cornell_dev/lib/python3.11/site-packages/seaborn/categorical.py:641: FutureWarning: The default of observed=False is deprecated and will be changed to True in a future version of pandas. Pass observed=False to retain current behavior or observed=True to adopt the future default and silence this warning.\n",
      "  grouped_vals = vals.groupby(grouper)\n",
      "/Users/chloecho/anaconda3/envs/cornell_dev/lib/python3.11/site-packages/seaborn/_oldcore.py:1498: FutureWarning: is_categorical_dtype is deprecated and will be removed in a future version. Use isinstance(dtype, CategoricalDtype) instead\n",
      "  if pd.api.types.is_categorical_dtype(vector):\n",
      "/Users/chloecho/anaconda3/envs/cornell_dev/lib/python3.11/site-packages/seaborn/categorical.py:641: FutureWarning: The default of observed=False is deprecated and will be changed to True in a future version of pandas. Pass observed=False to retain current behavior or observed=True to adopt the future default and silence this warning.\n",
      "  grouped_vals = vals.groupby(grouper)\n"
     ]
    },
    {
     "data": {
      "text/plain": [
       "<matplotlib.legend.Legend at 0x2a9163010>"
      ]
     },
     "execution_count": 45,
     "metadata": {},
     "output_type": "execute_result"
    },
    {
     "data": {
      "image/png": "[encoded data removed]",
      "text/plain": [
       "<Figure size 640x480 with 1 Axes>"
      ]
     },
     "metadata": {},
     "output_type": "display_data"
    }
   ],
   "source": [
    "plt.subplots()\n",
    "\n",
    "ax=sns.barplot(df.loc[(df['farm'] == 'Kirby') & (df['landscape_type'] == 'Field')], x=\"collection_date\", y='total_scm', color='#66c2a5', alpha=1, label='Field')\n",
    "ax=sns.barplot(df.loc[(df['farm'] == 'Kirby') & (df['landscape_type'] == 'Orchard')], x=\"collection_date\", y='total_scm', color='#fc8d62', alpha=0.75, label='Orchard')\n",
    "ax=sns.barplot(df.loc[(df['farm'] == 'Kirby') & (df['landscape_type'] == 'Forest')], x=\"collection_date\", y='total_scm', color='#8da0cb', alpha=0.75, label='Forest')\n",
    "\n",
    "plt.xticks(rotation = 90)\n",
    "\n",
    "plt.title(\"Proportion SCM Adults - Kirby\")\n",
    "plt.xlabel(\"Collection Date\")\n",
    "plt.ylabel(\"Proportion SCM Adults\") \n",
    "plt.legend(loc='upper right')"
   ]
  },
  {
   "cell_type": "code",
   "execution_count": 42,
   "metadata": {},
   "outputs": [
    {
     "name": "stderr",
     "output_type": "stream",
     "text": [
      "/Users/chloecho/anaconda3/envs/cornell_dev/lib/python3.11/site-packages/seaborn/_oldcore.py:1498: FutureWarning: is_categorical_dtype is deprecated and will be removed in a future version. Use isinstance(dtype, CategoricalDtype) instead\n",
      "  if pd.api.types.is_categorical_dtype(vector):\n",
      "/Users/chloecho/anaconda3/envs/cornell_dev/lib/python3.11/site-packages/seaborn/axisgrid.py:712: UserWarning: Using the barplot function without specifying `order` is likely to produce an incorrect plot.\n",
      "  warnings.warn(warning)\n",
      "/Users/chloecho/anaconda3/envs/cornell_dev/lib/python3.11/site-packages/seaborn/_oldcore.py:1498: FutureWarning: is_categorical_dtype is deprecated and will be removed in a future version. Use isinstance(dtype, CategoricalDtype) instead\n",
      "  if pd.api.types.is_categorical_dtype(vector):\n",
      "/Users/chloecho/anaconda3/envs/cornell_dev/lib/python3.11/site-packages/seaborn/categorical.py:641: FutureWarning: The default of observed=False is deprecated and will be changed to True in a future version of pandas. Pass observed=False to retain current behavior or observed=True to adopt the future default and silence this warning.\n",
      "  grouped_vals = vals.groupby(grouper)\n",
      "/Users/chloecho/anaconda3/envs/cornell_dev/lib/python3.11/site-packages/seaborn/_oldcore.py:1498: FutureWarning: is_categorical_dtype is deprecated and will be removed in a future version. Use isinstance(dtype, CategoricalDtype) instead\n",
      "  if pd.api.types.is_categorical_dtype(vector):\n",
      "/Users/chloecho/anaconda3/envs/cornell_dev/lib/python3.11/site-packages/seaborn/categorical.py:641: FutureWarning: The default of observed=False is deprecated and will be changed to True in a future version of pandas. Pass observed=False to retain current behavior or observed=True to adopt the future default and silence this warning.\n",
      "  grouped_vals = vals.groupby(grouper)\n",
      "/Users/chloecho/anaconda3/envs/cornell_dev/lib/python3.11/site-packages/seaborn/_oldcore.py:1498: FutureWarning: is_categorical_dtype is deprecated and will be removed in a future version. Use isinstance(dtype, CategoricalDtype) instead\n",
      "  if pd.api.types.is_categorical_dtype(vector):\n",
      "/Users/chloecho/anaconda3/envs/cornell_dev/lib/python3.11/site-packages/seaborn/categorical.py:641: FutureWarning: The default of observed=False is deprecated and will be changed to True in a future version of pandas. Pass observed=False to retain current behavior or observed=True to adopt the future default and silence this warning.\n",
      "  grouped_vals = vals.groupby(grouper)\n"
     ]
    },
    {
     "data": {
      "text/plain": [
       "<seaborn.axisgrid.FacetGrid at 0x2aaa63950>"
      ]
     },
     "execution_count": 42,
     "metadata": {},
     "output_type": "execute_result"
    },
    {
     "data": {
      "image/png": "[encoded data removed]",
      "text/plain": [
       "<Figure size 1200x400 with 3 Axes>"
      ]
     },
     "metadata": {},
     "output_type": "display_data"
    }
   ],
   "source": [
    "g = sns.FacetGrid(df.loc[(df['farm'] == 'Kirby')], col=\"landscape_type\", height=4, aspect=1, hue='landscape_type', hue_order=[\"Field\", \"Orchard\", \"Forest\"], palette='Set2')\n",
    "g.map(sns.barplot, \"collection_date\", \"total_scm\", hue_order=[\"Field\", \"Orchard\", \"Forest\"])\n",
    "\n",
    "for ax in g.axes.flat:\n",
    "    for label in ax.get_xticklabels():\n",
    "        label.set_rotation(90)\n",
    "\n",
    "g.fig.subplots_adjust(top=0.8)\n",
    "g.fig.suptitle('Proportion SCM Adults - Kirby')\n",
    "g.set_axis_labels(\"Collection Date\", \"Proportion SCM Adults\")\n"
   ]
  },
  {
   "cell_type": "code",
   "execution_count": 44,
   "metadata": {},
   "outputs": [
    {
     "name": "stderr",
     "output_type": "stream",
     "text": [
      "/Users/chloecho/anaconda3/envs/cornell_dev/lib/python3.11/site-packages/seaborn/_oldcore.py:1498: FutureWarning: is_categorical_dtype is deprecated and will be removed in a future version. Use isinstance(dtype, CategoricalDtype) instead\n",
      "  if pd.api.types.is_categorical_dtype(vector):\n",
      "/Users/chloecho/anaconda3/envs/cornell_dev/lib/python3.11/site-packages/seaborn/categorical.py:641: FutureWarning: The default of observed=False is deprecated and will be changed to True in a future version of pandas. Pass observed=False to retain current behavior or observed=True to adopt the future default and silence this warning.\n",
      "  grouped_vals = vals.groupby(grouper)\n",
      "/Users/chloecho/anaconda3/envs/cornell_dev/lib/python3.11/site-packages/seaborn/_oldcore.py:1498: FutureWarning: is_categorical_dtype is deprecated and will be removed in a future version. Use isinstance(dtype, CategoricalDtype) instead\n",
      "  if pd.api.types.is_categorical_dtype(vector):\n",
      "/Users/chloecho/anaconda3/envs/cornell_dev/lib/python3.11/site-packages/seaborn/categorical.py:641: FutureWarning: The default of observed=False is deprecated and will be changed to True in a future version of pandas. Pass observed=False to retain current behavior or observed=True to adopt the future default and silence this warning.\n",
      "  grouped_vals = vals.groupby(grouper)\n",
      "/Users/chloecho/anaconda3/envs/cornell_dev/lib/python3.11/site-packages/seaborn/_oldcore.py:1498: FutureWarning: is_categorical_dtype is deprecated and will be removed in a future version. Use isinstance(dtype, CategoricalDtype) instead\n",
      "  if pd.api.types.is_categorical_dtype(vector):\n",
      "/Users/chloecho/anaconda3/envs/cornell_dev/lib/python3.11/site-packages/seaborn/categorical.py:641: FutureWarning: The default of observed=False is deprecated and will be changed to True in a future version of pandas. Pass observed=False to retain current behavior or observed=True to adopt the future default and silence this warning.\n",
      "  grouped_vals = vals.groupby(grouper)\n"
     ]
    },
    {
     "data": {
      "text/plain": [
       "<matplotlib.legend.Legend at 0x2aac5b010>"
      ]
     },
     "execution_count": 44,
     "metadata": {},
     "output_type": "execute_result"
    },
    {
     "data": {
      "image/png": "[encoded data removed]",
      "text/plain": [
       "<Figure size 640x480 with 1 Axes>"
      ]
     },
     "metadata": {},
     "output_type": "display_data"
    }
   ],
   "source": [
    "plt.subplots()\n",
    "\n",
    "ax=sns.barplot(df.loc[(df['farm'] == 'Eve') & (df['landscape_type'] == 'Field')], x=\"collection_date\", y='total_scm', color='#66c2a5', alpha=1, label='Field')\n",
    "ax=sns.barplot(df.loc[(df['farm'] == 'Eve') & (df['landscape_type'] == 'Orchard')], x=\"collection_date\", y='total_scm', color='#fc8d62', alpha=0.75, label='Orchard')\n",
    "ax=sns.barplot(df.loc[(df['farm'] == 'Eve') & (df['landscape_type'] == 'Forest')], x=\"collection_date\", y='total_scm', color='#8da0cb', alpha=0.75, label='Forest')\n",
    "\n",
    "plt.xticks(rotation = 90)\n",
    "\n",
    "plt.title(\"Proportion SCM Adults - Eve\")\n",
    "plt.xlabel(\"Collection Date\")\n",
    "plt.ylabel(\"Proportion SCM Adults\") \n",
    "plt.legend(loc='upper right')"
   ]
  },
  {
   "cell_type": "code",
   "execution_count": 41,
   "metadata": {},
   "outputs": [
    {
     "name": "stderr",
     "output_type": "stream",
     "text": [
      "/Users/chloecho/anaconda3/envs/cornell_dev/lib/python3.11/site-packages/seaborn/axisgrid.py:712: UserWarning: Using the barplot function without specifying `order` is likely to produce an incorrect plot.\n",
      "  warnings.warn(warning)\n",
      "/Users/chloecho/anaconda3/envs/cornell_dev/lib/python3.11/site-packages/seaborn/_oldcore.py:1498: FutureWarning: is_categorical_dtype is deprecated and will be removed in a future version. Use isinstance(dtype, CategoricalDtype) instead\n",
      "  if pd.api.types.is_categorical_dtype(vector):\n",
      "/Users/chloecho/anaconda3/envs/cornell_dev/lib/python3.11/site-packages/seaborn/categorical.py:641: FutureWarning: The default of observed=False is deprecated and will be changed to True in a future version of pandas. Pass observed=False to retain current behavior or observed=True to adopt the future default and silence this warning.\n",
      "  grouped_vals = vals.groupby(grouper)\n",
      "/Users/chloecho/anaconda3/envs/cornell_dev/lib/python3.11/site-packages/seaborn/_oldcore.py:1498: FutureWarning: is_categorical_dtype is deprecated and will be removed in a future version. Use isinstance(dtype, CategoricalDtype) instead\n",
      "  if pd.api.types.is_categorical_dtype(vector):\n",
      "/Users/chloecho/anaconda3/envs/cornell_dev/lib/python3.11/site-packages/seaborn/categorical.py:641: FutureWarning: The default of observed=False is deprecated and will be changed to True in a future version of pandas. Pass observed=False to retain current behavior or observed=True to adopt the future default and silence this warning.\n",
      "  grouped_vals = vals.groupby(grouper)\n",
      "/Users/chloecho/anaconda3/envs/cornell_dev/lib/python3.11/site-packages/seaborn/_oldcore.py:1498: FutureWarning: is_categorical_dtype is deprecated and will be removed in a future version. Use isinstance(dtype, CategoricalDtype) instead\n",
      "  if pd.api.types.is_categorical_dtype(vector):\n",
      "/Users/chloecho/anaconda3/envs/cornell_dev/lib/python3.11/site-packages/seaborn/categorical.py:641: FutureWarning: The default of observed=False is deprecated and will be changed to True in a future version of pandas. Pass observed=False to retain current behavior or observed=True to adopt the future default and silence this warning.\n",
      "  grouped_vals = vals.groupby(grouper)\n"
     ]
    },
    {
     "data": {
      "text/plain": [
       "<seaborn.axisgrid.FacetGrid at 0x2aaa5dd90>"
      ]
     },
     "execution_count": 41,
     "metadata": {},
     "output_type": "execute_result"
    },
    {
     "data": {
      "image/png": "[encoded data removed]",
      "text/plain": [
       "<Figure size 1200x400 with 3 Axes>"
      ]
     },
     "metadata": {},
     "output_type": "display_data"
    }
   ],
   "source": [
    "g = sns.FacetGrid(df.loc[(df['farm'] == 'Eve')], col=\"landscape_type\", height=4, aspect=1, hue='landscape_type', col_order=[\"Field\", \"Orchard\", \"Forest\"], hue_order=[\"Field\", \"Orchard\", \"Forest\"], palette='Set2')\n",
    "g.map(sns.barplot, \"collection_date\", \"total_scm\", hue_order=[\"Field\", \"Orchard\", \"Forest\"])\n",
    "\n",
    "for ax in g.axes.flat:\n",
    "    for label in ax.get_xticklabels():\n",
    "        label.set_rotation(90)\n",
    "\n",
    "g.fig.subplots_adjust(top=0.8)\n",
    "g.fig.suptitle('Proportion SCM Adults - Eve')\n",
    "g.set_axis_labels(\"Collection Date\", \"Proportion SCM Adults\")"
   ]
  },
  {
   "cell_type": "code",
   "execution_count": null,
   "metadata": {},
   "outputs": [],
   "source": []
  }
 ],
 "metadata": {
  "kernelspec": {
   "display_name": "cornell_dev",
   "language": "python",
   "name": "python3"
  },
  "language_info": {
   "codemirror_mode": {
    "name": "ipython",
    "version": 3
   },
   "file_extension": ".py",
   "mimetype": "text/x-python",
   "name": "python",
   "nbconvert_exporter": "python",
   "pygments_lexer": "ipython3",
   "version": "3.11.5"
  },
  "orig_nbformat": 4,
  "vscode": {
   "interpreter": {
    "hash": "7ff5e12f2f0f1b4e3226d2100786e0f447f988aa34de485c0372552bc929c5e8"
   }
  }
 },
 "nbformat": 4,
 "nbformat_minor": 2
}

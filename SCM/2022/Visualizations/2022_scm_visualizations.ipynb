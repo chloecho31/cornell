{
 "cells": [
  {
   "cell_type": "code",
   "execution_count": 1,
   "metadata": {},
   "outputs": [],
   "source": [
    "import pandas as pd\n",
    "import numpy as np\n",
    "import matplotlib.pyplot as plt"
   ]
  },
  {
   "attachments": {},
   "cell_type": "markdown",
   "metadata": {},
   "source": [
    "# Import Data"
   ]
  },
  {
   "cell_type": "code",
   "execution_count": 21,
   "metadata": {},
   "outputs": [
    {
     "data": {
      "text/html": [
       "<div>\n",
       "<style scoped>\n",
       "    .dataframe tbody tr th:only-of-type {\n",
       "        vertical-align: middle;\n",
       "    }\n",
       "\n",
       "    .dataframe tbody tr th {\n",
       "        vertical-align: top;\n",
       "    }\n",
       "\n",
       "    .dataframe thead th {\n",
       "        text-align: right;\n",
       "    }\n",
       "</style>\n",
       "<table border=\"1\" class=\"dataframe\">\n",
       "  <thead>\n",
       "    <tr style=\"text-align: right;\">\n",
       "      <th></th>\n",
       "      <th>Field_ID</th>\n",
       "      <th>Week</th>\n",
       "      <th>Count</th>\n",
       "    </tr>\n",
       "  </thead>\n",
       "  <tbody>\n",
       "    <tr>\n",
       "      <th>0</th>\n",
       "      <td>DEG_DIE_100</td>\n",
       "      <td>17</td>\n",
       "      <td>100.0</td>\n",
       "    </tr>\n",
       "    <tr>\n",
       "      <th>1</th>\n",
       "      <td>DEG_DIE_ERSWC</td>\n",
       "      <td>17</td>\n",
       "      <td>80.0</td>\n",
       "    </tr>\n",
       "    <tr>\n",
       "      <th>2</th>\n",
       "      <td>DEG_DIE_SH</td>\n",
       "      <td>17</td>\n",
       "      <td>64.0</td>\n",
       "    </tr>\n",
       "    <tr>\n",
       "      <th>3</th>\n",
       "      <td>DEG_EVA_PGREEN</td>\n",
       "      <td>17</td>\n",
       "      <td>7.0</td>\n",
       "    </tr>\n",
       "    <tr>\n",
       "      <th>4</th>\n",
       "      <td>DEG_FES_OVO4</td>\n",
       "      <td>17</td>\n",
       "      <td>25.0</td>\n",
       "    </tr>\n",
       "    <tr>\n",
       "      <th>...</th>\n",
       "      <td>...</td>\n",
       "      <td>...</td>\n",
       "      <td>...</td>\n",
       "    </tr>\n",
       "    <tr>\n",
       "      <th>585</th>\n",
       "      <td>WIS_COO_2</td>\n",
       "      <td>26</td>\n",
       "      <td>NaN</td>\n",
       "    </tr>\n",
       "    <tr>\n",
       "      <th>586</th>\n",
       "      <td>WIS_KEN</td>\n",
       "      <td>26</td>\n",
       "      <td>NaN</td>\n",
       "    </tr>\n",
       "    <tr>\n",
       "      <th>587</th>\n",
       "      <td>WIS_WAL</td>\n",
       "      <td>26</td>\n",
       "      <td>NaN</td>\n",
       "    </tr>\n",
       "    <tr>\n",
       "      <th>588</th>\n",
       "      <td>ZUE_PED</td>\n",
       "      <td>26</td>\n",
       "      <td>NaN</td>\n",
       "    </tr>\n",
       "    <tr>\n",
       "      <th>589</th>\n",
       "      <td>ZUE_REE</td>\n",
       "      <td>26</td>\n",
       "      <td>NaN</td>\n",
       "    </tr>\n",
       "  </tbody>\n",
       "</table>\n",
       "<p>590 rows × 3 columns</p>\n",
       "</div>"
      ],
      "text/plain": [
       "           Field_ID Week  Count\n",
       "0       DEG_DIE_100   17  100.0\n",
       "1     DEG_DIE_ERSWC   17   80.0\n",
       "2        DEG_DIE_SH   17   64.0\n",
       "3    DEG_EVA_PGREEN   17    7.0\n",
       "4      DEG_FES_OVO4   17   25.0\n",
       "..              ...  ...    ...\n",
       "585       WIS_COO_2   26    NaN\n",
       "586         WIS_KEN   26    NaN\n",
       "587         WIS_WAL   26    NaN\n",
       "588         ZUE_PED   26    NaN\n",
       "589         ZUE_REE   26    NaN\n",
       "\n",
       "[590 rows x 3 columns]"
      ]
     },
     "execution_count": 21,
     "metadata": {},
     "output_type": "execute_result"
    }
   ],
   "source": [
    "scm_counts = pd.read_csv('../Data/2022_scm_counts.csv')\n",
    "scm_counts = scm_counts.melt(id_vars='Field_ID').rename(columns={'variable':'Week', 'value':'Count'})\n",
    "scm_counts\n"
   ]
  },
  {
   "cell_type": "code",
   "execution_count": 22,
   "metadata": {},
   "outputs": [
    {
     "data": {
      "text/plain": [
       "array(['DEG_DIE_100', 'DEG_DIE_ERSWC', 'DEG_DIE_SH', 'DEG_EVA_PGREEN',\n",
       "       'DEG_FES_OVO4', 'DEG_FOU_ELM', 'DEG_HAI_ACROSS', 'DEG_MCM_CH',\n",
       "       'DEG_MCM_W7', 'DEG_STR_1', 'EPN_TRIAL', 'GAB_ALL', 'GAB_DEL',\n",
       "       'GAB_ELL', 'GAB_HER', 'GAB_JON', 'GAB_KUK', 'GAB_OOM', 'GAB_PET',\n",
       "       'GAB_STA', 'GAB_STO', 'GORHAM', 'MIL_CHA', 'MIL_MCC', 'MIL_YOD',\n",
       "       'MUL_LET', 'ONE_ADO_1', 'ONE_AKI_1', 'ONE_CHA_1', 'ONE_HUN_1',\n",
       "       'ONE_MCK_1', 'ONE_OAK_1', 'ONE_ORT_1', 'ONE_STA_1', 'PAN_LET',\n",
       "       'POV_DUN', 'POW_LET', 'SEA_HOO_1', 'SMI_CAN', 'SMI_CRO', 'SMI_DOU',\n",
       "       'SMI_DUR', 'SMI_HOF', 'SMI_HOL', 'SMI_JOH_1', 'SMI_JOH_2',\n",
       "       'SMI_KEL', 'SMI_MCC', 'STA_CRA', 'STA_LOT', 'STA_PAD', 'WICKHAM',\n",
       "       'WIS_BRU', 'WIS_COO_1', 'WIS_COO_2', 'WIS_KEN', 'WIS_WAL',\n",
       "       'ZUE_PED', 'ZUE_REE'], dtype=object)"
      ]
     },
     "execution_count": 22,
     "metadata": {},
     "output_type": "execute_result"
    }
   ],
   "source": [
    "field_ids = pd.unique(scm_counts['Field_ID'])\n",
    "field_ids"
   ]
  },
  {
   "attachments": {},
   "cell_type": "markdown",
   "metadata": {},
   "source": [
    "# Graph Weekly Pest Counts"
   ]
  },
  {
   "cell_type": "code",
   "execution_count": 35,
   "metadata": {},
   "outputs": [],
   "source": [
    "for field in field_ids:     \n",
    "\n",
    "    field_df = scm_counts.loc[scm_counts['Field_ID'] == field]\n",
    "    \n",
    "    plt.figure()\n",
    "    \n",
    "    plt.plot(field_df['Week'], field_df['Count'])\n",
    "    plt.title('2022 SCM Counts by Week - ' + field)\n",
    "    plt.xlabel('Week')\n",
    "    plt.ylabel('SCM Count')\n",
    "\n",
    "    filename = field + '_scm_count.png'\n",
    "    plt.savefig(os.path.join('Counts', filename))\n",
    "    plt.close()\n",
    "    "
   ]
  },
  {
   "cell_type": "code",
   "execution_count": null,
   "metadata": {},
   "outputs": [],
   "source": []
  }
 ],
 "metadata": {
  "kernelspec": {
   "display_name": "cornell_dev",
   "language": "python",
   "name": "python3"
  },
  "language_info": {
   "codemirror_mode": {
    "name": "ipython",
    "version": 3
   },
   "file_extension": ".py",
   "mimetype": "text/x-python",
   "name": "python",
   "nbconvert_exporter": "python",
   "pygments_lexer": "ipython3",
   "version": "3.11.4 (main, Jul  5 2023, 08:40:20) [Clang 14.0.6 ]"
  },
  "orig_nbformat": 4,
  "vscode": {
   "interpreter": {
    "hash": "7ff5e12f2f0f1b4e3226d2100786e0f447f988aa34de485c0372552bc929c5e8"
   }
  }
 },
 "nbformat": 4,
 "nbformat_minor": 2
}

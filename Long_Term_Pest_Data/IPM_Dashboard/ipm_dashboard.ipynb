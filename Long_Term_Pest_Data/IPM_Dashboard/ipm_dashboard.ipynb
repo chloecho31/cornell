{
 "cells": [
  {
   "cell_type": "code",
   "execution_count": 1,
   "metadata": {},
   "outputs": [],
   "source": [
    "from dash import jupyter_dash\n",
    "from dash import Dash, html, dcc, callback, Output, Input, dash_table\n",
    "import plotly.express as px\n",
    "import pandas as pd"
   ]
  },
  {
   "cell_type": "code",
   "execution_count": 2,
   "metadata": {},
   "outputs": [
    {
     "data": {
      "text/html": [
       "<div>\n",
       "<style scoped>\n",
       "    .dataframe tbody tr th:only-of-type {\n",
       "        vertical-align: middle;\n",
       "    }\n",
       "\n",
       "    .dataframe tbody tr th {\n",
       "        vertical-align: top;\n",
       "    }\n",
       "\n",
       "    .dataframe thead th {\n",
       "        text-align: right;\n",
       "    }\n",
       "</style>\n",
       "<table border=\"1\" class=\"dataframe\">\n",
       "  <thead>\n",
       "    <tr style=\"text-align: right;\">\n",
       "      <th></th>\n",
       "      <th>Date</th>\n",
       "      <th>Farm</th>\n",
       "      <th>Pest</th>\n",
       "      <th>Count</th>\n",
       "    </tr>\n",
       "  </thead>\n",
       "  <tbody>\n",
       "    <tr>\n",
       "      <th>0</th>\n",
       "      <td>6/1/2023</td>\n",
       "      <td>REM</td>\n",
       "      <td>ECB_E</td>\n",
       "      <td>0.0</td>\n",
       "    </tr>\n",
       "    <tr>\n",
       "      <th>1</th>\n",
       "      <td>6/1/2023</td>\n",
       "      <td>SS</td>\n",
       "      <td>ECB_E</td>\n",
       "      <td>0.0</td>\n",
       "    </tr>\n",
       "    <tr>\n",
       "      <th>2</th>\n",
       "      <td>6/1/2023</td>\n",
       "      <td>MAN</td>\n",
       "      <td>ECB_E</td>\n",
       "      <td>0.0</td>\n",
       "    </tr>\n",
       "    <tr>\n",
       "      <th>3</th>\n",
       "      <td>6/1/2023</td>\n",
       "      <td>CURC</td>\n",
       "      <td>ECB_E</td>\n",
       "      <td>0.0</td>\n",
       "    </tr>\n",
       "    <tr>\n",
       "      <th>4</th>\n",
       "      <td>6/1/2023</td>\n",
       "      <td>FREE</td>\n",
       "      <td>ECB_E</td>\n",
       "      <td>0.0</td>\n",
       "    </tr>\n",
       "    <tr>\n",
       "      <th>...</th>\n",
       "      <td>...</td>\n",
       "      <td>...</td>\n",
       "      <td>...</td>\n",
       "      <td>...</td>\n",
       "    </tr>\n",
       "    <tr>\n",
       "      <th>800</th>\n",
       "      <td>8/10/2023</td>\n",
       "      <td>WH</td>\n",
       "      <td>WBC</td>\n",
       "      <td>NaN</td>\n",
       "    </tr>\n",
       "    <tr>\n",
       "      <th>801</th>\n",
       "      <td>8/11/2023</td>\n",
       "      <td>HAT</td>\n",
       "      <td>WBC</td>\n",
       "      <td>NaN</td>\n",
       "    </tr>\n",
       "    <tr>\n",
       "      <th>802</th>\n",
       "      <td>8/11/2023</td>\n",
       "      <td>MUS</td>\n",
       "      <td>WBC</td>\n",
       "      <td>NaN</td>\n",
       "    </tr>\n",
       "    <tr>\n",
       "      <th>803</th>\n",
       "      <td>8/11/2023</td>\n",
       "      <td>FISH</td>\n",
       "      <td>WBC</td>\n",
       "      <td>NaN</td>\n",
       "    </tr>\n",
       "    <tr>\n",
       "      <th>804</th>\n",
       "      <td>8/11/2023</td>\n",
       "      <td>SEN</td>\n",
       "      <td>WBC</td>\n",
       "      <td>NaN</td>\n",
       "    </tr>\n",
       "  </tbody>\n",
       "</table>\n",
       "<p>805 rows × 4 columns</p>\n",
       "</div>"
      ],
      "text/plain": [
       "          Date  Farm   Pest  Count\n",
       "0     6/1/2023   REM  ECB_E    0.0\n",
       "1     6/1/2023    SS  ECB_E    0.0\n",
       "2     6/1/2023   MAN  ECB_E    0.0\n",
       "3     6/1/2023  CURC  ECB_E    0.0\n",
       "4     6/1/2023  FREE  ECB_E    0.0\n",
       "..         ...   ...    ...    ...\n",
       "800  8/10/2023    WH    WBC    NaN\n",
       "801  8/11/2023   HAT    WBC    NaN\n",
       "802  8/11/2023   MUS    WBC    NaN\n",
       "803  8/11/2023  FISH    WBC    NaN\n",
       "804  8/11/2023   SEN    WBC    NaN\n",
       "\n",
       "[805 rows x 4 columns]"
      ]
     },
     "execution_count": 2,
     "metadata": {},
     "output_type": "execute_result"
    }
   ],
   "source": [
    "df = pd.read_csv('trapping_data_2023.csv')\n",
    "df = df[['Date', 'Farm', \"ECB-E\", 'ECB-Z', \"CEW\", \"FAW\", \"WBC\"]]\n",
    "df = df.rename(columns={\"ECB-E\": \"ECB_E\", \"ECB-Z\": \"ECB_Z\"})\n",
    "\n",
    "df = pd.melt(df, id_vars = ['Date', \n",
    "                            'Farm'], \n",
    "                 value_vars = ['ECB_E', \n",
    "                                 'ECB_Z',\n",
    "                                 'CEW', \n",
    "                                 'FAW', \n",
    "                                 'WBC'])\n",
    "\n",
    "df = df.rename(columns={\"value\": \"Count\", \"variable\": \"Pest\"})\n",
    "\n",
    "df"
   ]
  },
  {
   "cell_type": "code",
   "execution_count": 4,
   "metadata": {},
   "outputs": [
    {
     "data": {
      "text/html": [
       "\n",
       "        <iframe\n",
       "            width=\"100%\"\n",
       "            height=\"650\"\n",
       "            src=\"http://127.0.0.1:8050/\"\n",
       "            frameborder=\"0\"\n",
       "            allowfullscreen\n",
       "            \n",
       "        ></iframe>\n",
       "        "
      ],
      "text/plain": [
       "<IPython.lib.display.IFrame at 0x153d4e150>"
      ]
     },
     "metadata": {},
     "output_type": "display_data"
    },
    {
     "name": "stdout",
     "output_type": "stream",
     "text": [
      "Dash app running on http://127.0.0.1:8050/\n"
     ]
    }
   ],
   "source": [
    "app = Dash(__name__)\n",
    "\n",
    "@callback(\n",
    "    Output('graph-content', 'figure'),\n",
    "    Input('dropdown-selection', 'value')\n",
    ")\n",
    "def update_graph(value):\n",
    "    dff = df[df.Farm==value]\n",
    "    return px.line(dff, x='Date', y='Count', color='Pest')\n",
    "\n",
    "app.layout = html.Div([\n",
    "    html.Div(children='Sweet Corn Pheromone Trap Catch'),\n",
    "    dash_table.DataTable(data=df.to_dict('records'), page_size=10), \n",
    "    html.H1(children='Sweet Corn Pheromone Trap Catch', style={'textAlign':'center'}),\n",
    "    dcc.Dropdown(df.Farm.unique(), 'REM', id='dropdown-selection'),\n",
    "    dcc.Graph(id='graph-content')\n",
    "])\n",
    "\n",
    "if __name__ == '__main__':\n",
    "    app.run(debug=True)\n",
    "\n",
    "app.run(jupyter_mode=\"external\")"
   ]
  },
  {
   "cell_type": "code",
   "execution_count": 27,
   "metadata": {},
   "outputs": [],
   "source": []
  }
 ],
 "metadata": {
  "kernelspec": {
   "display_name": "cornell_dev",
   "language": "python",
   "name": "python3"
  },
  "language_info": {
   "codemirror_mode": {
    "name": "ipython",
    "version": 3
   },
   "file_extension": ".py",
   "mimetype": "text/x-python",
   "name": "python",
   "nbconvert_exporter": "python",
   "pygments_lexer": "ipython3",
   "version": "3.11.4"
  },
  "orig_nbformat": 4,
  "vscode": {
   "interpreter": {
    "hash": "7ff5e12f2f0f1b4e3226d2100786e0f447f988aa34de485c0372552bc929c5e8"
   }
  }
 },
 "nbformat": 4,
 "nbformat_minor": 2
}

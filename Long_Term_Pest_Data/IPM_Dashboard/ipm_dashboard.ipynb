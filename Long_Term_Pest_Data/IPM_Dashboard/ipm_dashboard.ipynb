{
 "cells": [
  {
   "cell_type": "code",
   "execution_count": null,
   "metadata": {},
   "outputs": [],
   "source": []
  }
 ],
 "metadata": {
  "kernelspec": {
   "display_name": "base",
   "language": "python",
   "name": "python3"
  },
  "language_info": {
   "name": "python",
   "version": "3.11.4 (main, Jul  5 2023, 08:54:11) [Clang 14.0.6 ]"
  },
  "orig_nbformat": 4,
  "vscode": {
   "interpreter": {
    "hash": "aa6feefd1aebdf91edf07543aba4991ad3216bb3a490f52c2d98b5296dd95a89"
   }
  }
 },
 "nbformat": 4,
 "nbformat_minor": 2
}

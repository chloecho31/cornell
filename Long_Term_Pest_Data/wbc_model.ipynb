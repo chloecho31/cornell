{
 "cells": [
  {
   "cell_type": "code",
   "execution_count": 1,
   "metadata": {},
   "outputs": [],
   "source": [
    "import pandas as pd\n",
    "from skimpy import clean_columns"
   ]
  },
  {
   "cell_type": "code",
   "execution_count": 32,
   "metadata": {},
   "outputs": [],
   "source": [
    "# Read CSV files. \n",
    "\n",
    "wbc_raw_data_2011 = pd.read_csv('NY_WBC_Clean_Data/ny_wbc_2011_clean.csv')\n",
    "wbc_raw_data_2012 = pd.read_csv('NY_WBC_Clean_Data/ny_wbc_2012_clean.csv')\n",
    "wbc_raw_data_2013 = pd.read_csv('NY_WBC_Clean_Data/ny_wbc_2013_clean.csv')\n",
    "wbc_raw_data_2014 = pd.read_csv('NY_WBC_Clean_Data/ny_wbc_2014_clean.csv')\n",
    "wbc_raw_data_2015 = pd.read_csv('NY_WBC_Clean_Data/ny_wbc_2015_clean.csv')\n",
    "wbc_raw_data_2016 = pd.read_csv('NY_WBC_Clean_Data/ny_wbc_2016_clean.csv')\n",
    "wbc_raw_data_2017 = pd.read_csv('NY_WBC_Clean_Data/ny_wbc_2017_clean.csv')\n",
    "wbc_raw_data_2018 = pd.read_csv('NY_WBC_Clean_Data/ny_wbc_2018_clean.csv')\n",
    "wbc_raw_data_2019 = pd.read_csv('NY_WBC_Clean_Data/ny_wbc_2019_clean.csv')\n",
    "wbc_raw_data_2020 = pd.read_csv('NY_WBC_Clean_Data/ny_wbc_2020_clean.csv')\n",
    "wbc_raw_data_2021 = pd.read_csv('NY_WBC_Clean_Data/ny_wbc_2021_clean.csv')\n",
    "wbc_raw_data_2022 = pd.read_csv('NY_WBC_Clean_Data/ny_wbc_2022_clean.csv')"
   ]
  },
  {
   "cell_type": "code",
   "execution_count": 40,
   "metadata": {},
   "outputs": [],
   "source": [
    "wbc_data = pd.concat([wbc_raw_data_2011, wbc_raw_data_2012, wbc_raw_data_2013, wbc_raw_data_2014, \n",
    "                         wbc_raw_data_2015, wbc_raw_data_2016, wbc_raw_data_2017, wbc_raw_data_2018, \n",
    "                         wbc_raw_data_2019, wbc_raw_data_2020, wbc_raw_data_2021, wbc_raw_data_2022])\n"
   ]
  },
  {
   "cell_type": "code",
   "execution_count": 43,
   "metadata": {},
   "outputs": [
    {
     "ename": "AttributeError",
     "evalue": "module 'pandas' has no attribute 'dtypes'",
     "output_type": "error",
     "traceback": [
      "\u001b[0;31m---------------------------------------------------------------------------\u001b[0m",
      "\u001b[0;31mAttributeError\u001b[0m                            Traceback (most recent call last)",
      "Cell \u001b[0;32mIn[43], line 1\u001b[0m\n\u001b[0;32m----> 1\u001b[0m pd\u001b[39m.\u001b[39;49mdtypes(wbc_data)\n",
      "File \u001b[0;32m~/Library/Python/3.8/lib/python/site-packages/pandas/__init__.py:264\u001b[0m, in \u001b[0;36m__getattr__\u001b[0;34m(name)\u001b[0m\n\u001b[1;32m    260\u001b[0m     \u001b[39mfrom\u001b[39;00m \u001b[39mpandas\u001b[39;00m\u001b[39m.\u001b[39;00m\u001b[39mcore\u001b[39;00m\u001b[39m.\u001b[39;00m\u001b[39marrays\u001b[39;00m\u001b[39m.\u001b[39;00m\u001b[39msparse\u001b[39;00m \u001b[39mimport\u001b[39;00m SparseArray \u001b[39mas\u001b[39;00m _SparseArray\n\u001b[1;32m    262\u001b[0m     \u001b[39mreturn\u001b[39;00m _SparseArray\n\u001b[0;32m--> 264\u001b[0m \u001b[39mraise\u001b[39;00m \u001b[39mAttributeError\u001b[39;00m(\u001b[39mf\u001b[39m\u001b[39m\"\u001b[39m\u001b[39mmodule \u001b[39m\u001b[39m'\u001b[39m\u001b[39mpandas\u001b[39m\u001b[39m'\u001b[39m\u001b[39m has no attribute \u001b[39m\u001b[39m'\u001b[39m\u001b[39m{\u001b[39;00mname\u001b[39m}\u001b[39;00m\u001b[39m'\u001b[39m\u001b[39m\"\u001b[39m)\n",
      "\u001b[0;31mAttributeError\u001b[0m: module 'pandas' has no attribute 'dtypes'"
     ]
    }
   ],
   "source": []
  },
  {
   "cell_type": "code",
   "execution_count": null,
   "metadata": {},
   "outputs": [],
   "source": []
  }
 ],
 "metadata": {
  "kernelspec": {
   "display_name": "Python 3",
   "language": "python",
   "name": "python3"
  },
  "language_info": {
   "codemirror_mode": {
    "name": "ipython",
    "version": 3
   },
   "file_extension": ".py",
   "mimetype": "text/x-python",
   "name": "python",
   "nbconvert_exporter": "python",
   "pygments_lexer": "ipython3",
   "version": "3.8.9"
  },
  "orig_nbformat": 4,
  "vscode": {
   "interpreter": {
    "hash": "31f2aee4e71d21fbe5cf8b01ff0e069b9275f58929596ceb00d14d90e3e16cd6"
   }
  }
 },
 "nbformat": 4,
 "nbformat_minor": 2
}

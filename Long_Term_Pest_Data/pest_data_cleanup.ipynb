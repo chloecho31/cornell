{
 "cells": [
  {
   "cell_type": "code",
   "execution_count": 9,
   "metadata": {},
   "outputs": [],
   "source": [
    "import pandas as pd\n",
    "from skimpy import clean_columns"
   ]
  },
  {
   "cell_type": "code",
   "execution_count": 19,
   "metadata": {},
   "outputs": [],
   "source": [
    "# Data cleaning function for wide data. \n",
    "\n",
    "def clean_wbc_data(file_path):\n",
    "    year = file_path[-8:-4]\n",
    "    df = pd.read_csv(file_path, header = None)\n",
    "    df = df.T\n",
    "    df.columns = df.iloc[0]\n",
    "    df = df[1:]\n",
    "    df = pd.melt(df, id_vars = ['longitude', 'latitude', 'site', 'state_province', 'crop', 'pest'])\n",
    "    df = df.rename(columns = {0: 'date', 'value': 'count'})\n",
    "    return df.to_csv('NY_WBC_Clean_Data/ny_wbc_' + year + '_clean.csv', index = False)"
   ]
  },
  {
   "cell_type": "code",
   "execution_count": 20,
   "metadata": {},
   "outputs": [],
   "source": [
    "for i in [2011, 2012, 2013, 2016, 2017, 2018, 2019, 2020, 2021, 2022]:\n",
    "    year = str(i)\n",
    "    clean_wbc_data('NY_WBC_Data/ny_wbc_' + year + '.csv')"
   ]
  },
  {
   "cell_type": "code",
   "execution_count": 30,
   "metadata": {},
   "outputs": [],
   "source": [
    "# Data cleaning function for long data. \n",
    "\n",
    "def clean_wbc_data_long(file_path):\n",
    "    year = file_path[-8:-4]\n",
    "    df = pd.read_csv(file_path)\n",
    "    df = pd.melt(df, id_vars = ['longitude', 'latitude', 'site', 'state_province', 'crop', 'pest'])\n",
    "    df = df.rename(columns = {'variable': 'date', 'value': 'count'})\n",
    "    return df.to_csv('NY_WBC_Clean_Data/ny_wbc_' + year + '_clean.csv', index = False)"
   ]
  },
  {
   "cell_type": "code",
   "execution_count": 31,
   "metadata": {},
   "outputs": [],
   "source": [
    "clean_wbc_data_long('NY_WBC_Data/NY_WBC_Data_Long/ny_wbc_2014.csv')\n",
    "clean_wbc_data_long('NY_WBC_Data/NY_WBC_Data_Long/ny_wbc_2015.csv')"
   ]
  },
  {
   "cell_type": "code",
   "execution_count": 34,
   "metadata": {},
   "outputs": [],
   "source": [
    "clean_wbc_data('NY_WBC_Data/ny_wbc_2018.csv')"
   ]
  },
  {
   "cell_type": "code",
   "execution_count": null,
   "metadata": {},
   "outputs": [],
   "source": []
  }
 ],
 "metadata": {
  "kernelspec": {
   "display_name": "Python 3",
   "language": "python",
   "name": "python3"
  },
  "language_info": {
   "codemirror_mode": {
    "name": "ipython",
    "version": 3
   },
   "file_extension": ".py",
   "mimetype": "text/x-python",
   "name": "python",
   "nbconvert_exporter": "python",
   "pygments_lexer": "ipython3",
   "version": "3.8.9"
  },
  "orig_nbformat": 4,
  "vscode": {
   "interpreter": {
    "hash": "31f2aee4e71d21fbe5cf8b01ff0e069b9275f58929596ceb00d14d90e3e16cd6"
   }
  }
 },
 "nbformat": 4,
 "nbformat_minor": 2
}

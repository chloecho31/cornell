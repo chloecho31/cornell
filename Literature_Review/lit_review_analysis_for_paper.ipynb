{
 "cells": [
  {
   "cell_type": "code",
   "execution_count": 218,
   "metadata": {},
   "outputs": [],
   "source": [
    "import pandas as pd\n",
    "import numpy as np\n",
    "from skimpy import clean_columns\n",
    "import matplotlib.pyplot as plt\n",
    "from matplotlib.cm import get_cmap\n",
    "import seaborn as sns\n",
    "\n",
    "from scipy.stats import norm\n",
    "import scipy.stats as stats\n",
    "from scipy.stats import chi2\n",
    "\n",
    "from matplotlib.patches import Patch\n",
    "\n",
    "\n",
    "plt.rcParams['font.sans-serif'] = ['Helvetica']\n",
    "plt.style.use('default')\n",
    "plt.rcParams.update({'font.size': 16})\n"
   ]
  },
  {
   "attachments": {},
   "cell_type": "markdown",
   "metadata": {},
   "source": [
    "# Read Data"
   ]
  },
  {
   "cell_type": "code",
   "execution_count": 2,
   "metadata": {},
   "outputs": [
    {
     "data": {
      "text/html": [
       "<pre style=\"white-space:pre;overflow-x:auto;line-height:normal;font-family:Menlo,'DejaVu Sans Mono',consolas,'Courier New',monospace\"><span style=\"color: #008080; text-decoration-color: #008080; font-weight: bold\">22</span> column names have been cleaned\n",
       "</pre>\n"
      ],
      "text/plain": [
       "\u001b[1;36m22\u001b[0m column names have been cleaned\n"
      ]
     },
     "metadata": {},
     "output_type": "display_data"
    },
    {
     "data": {
      "text/html": [
       "<div>\n",
       "<style scoped>\n",
       "    .dataframe tbody tr th:only-of-type {\n",
       "        vertical-align: middle;\n",
       "    }\n",
       "\n",
       "    .dataframe tbody tr th {\n",
       "        vertical-align: top;\n",
       "    }\n",
       "\n",
       "    .dataframe thead th {\n",
       "        text-align: right;\n",
       "    }\n",
       "</style>\n",
       "<table border=\"1\" class=\"dataframe\">\n",
       "  <thead>\n",
       "    <tr style=\"text-align: right;\">\n",
       "      <th></th>\n",
       "      <th>title</th>\n",
       "      <th>author</th>\n",
       "      <th>year</th>\n",
       "      <th>country</th>\n",
       "      <th>continent</th>\n",
       "      <th>climate</th>\n",
       "      <th>comparison</th>\n",
       "      <th>response</th>\n",
       "      <th>response_type</th>\n",
       "      <th>response_category</th>\n",
       "      <th>...</th>\n",
       "      <th>local_effect</th>\n",
       "      <th>landscape</th>\n",
       "      <th>landscape_gradient</th>\n",
       "      <th>minimum_complexity</th>\n",
       "      <th>maximum_complexity</th>\n",
       "      <th>landscape_effect</th>\n",
       "      <th>interaction_details</th>\n",
       "      <th>interaction_effect_simple</th>\n",
       "      <th>interaction_effect</th>\n",
       "      <th>description</th>\n",
       "    </tr>\n",
       "  </thead>\n",
       "  <tbody>\n",
       "    <tr>\n",
       "      <th>0</th>\n",
       "      <td>A macro-scale perspective on within-farm manag...</td>\n",
       "      <td>Amano et al.</td>\n",
       "      <td>2011</td>\n",
       "      <td>Japan</td>\n",
       "      <td>Asia</td>\n",
       "      <td>NaN</td>\n",
       "      <td>Conventional</td>\n",
       "      <td>Spider abundance</td>\n",
       "      <td>Biodiversity</td>\n",
       "      <td>Natural enemy</td>\n",
       "      <td>...</td>\n",
       "      <td>Negative</td>\n",
       "      <td>The proportion of forest area surrounding the ...</td>\n",
       "      <td>&lt;20% forest, &gt;20% forest</td>\n",
       "      <td>NaN</td>\n",
       "      <td>NaN</td>\n",
       "      <td>Positive</td>\n",
       "      <td>NS</td>\n",
       "      <td>NS</td>\n",
       "      <td>NS</td>\n",
       "      <td>A multilevel modelling approach revealed that ...</td>\n",
       "    </tr>\n",
       "    <tr>\n",
       "      <th>1</th>\n",
       "      <td>A multitaxa assessment of the effectiveness of...</td>\n",
       "      <td>Boetzel et al.</td>\n",
       "      <td>2021</td>\n",
       "      <td>Germany</td>\n",
       "      <td>Europe</td>\n",
       "      <td>NaN</td>\n",
       "      <td>Conventional</td>\n",
       "      <td>Cicada species richness</td>\n",
       "      <td>Biodiversity</td>\n",
       "      <td>Arthropod</td>\n",
       "      <td>...</td>\n",
       "      <td>NS</td>\n",
       "      <td>The amount of seminatural habitat (forest edge...</td>\n",
       "      <td>3.6-25% semi-natural habitat</td>\n",
       "      <td>3.6</td>\n",
       "      <td>25.0</td>\n",
       "      <td>NS</td>\n",
       "      <td>NS</td>\n",
       "      <td>NS</td>\n",
       "      <td>NS</td>\n",
       "      <td>All other taxonomic groups showed no significa...</td>\n",
       "    </tr>\n",
       "    <tr>\n",
       "      <th>2</th>\n",
       "      <td>A multitaxa assessment of the effectiveness of...</td>\n",
       "      <td>Boetzel et al.</td>\n",
       "      <td>2021</td>\n",
       "      <td>Germany</td>\n",
       "      <td>Europe</td>\n",
       "      <td>NaN</td>\n",
       "      <td>Conventional</td>\n",
       "      <td>Orthopteran species richness</td>\n",
       "      <td>Biodiversity</td>\n",
       "      <td>Arthropod</td>\n",
       "      <td>...</td>\n",
       "      <td>NS</td>\n",
       "      <td>The amount of seminatural habitat (forest edge...</td>\n",
       "      <td>3.6-25% semi-natural habitat</td>\n",
       "      <td>3.6</td>\n",
       "      <td>25.0</td>\n",
       "      <td>NS</td>\n",
       "      <td>NS</td>\n",
       "      <td>NS</td>\n",
       "      <td>NS</td>\n",
       "      <td>All other taxonomic groups showed no significa...</td>\n",
       "    </tr>\n",
       "    <tr>\n",
       "      <th>3</th>\n",
       "      <td>A multitaxa assessment of the effectiveness of...</td>\n",
       "      <td>Boetzel et al.</td>\n",
       "      <td>2021</td>\n",
       "      <td>Germany</td>\n",
       "      <td>Europe</td>\n",
       "      <td>NaN</td>\n",
       "      <td>Conventional</td>\n",
       "      <td>Bee species richness</td>\n",
       "      <td>Biodiversity</td>\n",
       "      <td>Pollinator</td>\n",
       "      <td>...</td>\n",
       "      <td>NS</td>\n",
       "      <td>The amount of seminatural habitat (forest edge...</td>\n",
       "      <td>3.6-25% semi-natural habitat</td>\n",
       "      <td>3.6</td>\n",
       "      <td>25.0</td>\n",
       "      <td>Positive</td>\n",
       "      <td>NS</td>\n",
       "      <td>NS</td>\n",
       "      <td>NS</td>\n",
       "      <td>An increasing proportion of seminatural habita...</td>\n",
       "    </tr>\n",
       "    <tr>\n",
       "      <th>4</th>\n",
       "      <td>A multitaxa assessment of the effectiveness of...</td>\n",
       "      <td>Boetzel et al.</td>\n",
       "      <td>2021</td>\n",
       "      <td>Germany</td>\n",
       "      <td>Europe</td>\n",
       "      <td>NaN</td>\n",
       "      <td>Conventional</td>\n",
       "      <td>Butterfly species richness</td>\n",
       "      <td>Biodiversity</td>\n",
       "      <td>Pollinator</td>\n",
       "      <td>...</td>\n",
       "      <td>NS</td>\n",
       "      <td>The amount of seminatural habitat (forest edge...</td>\n",
       "      <td>3.6-25% semi-natural habitat</td>\n",
       "      <td>3.6</td>\n",
       "      <td>25.0</td>\n",
       "      <td>NS</td>\n",
       "      <td>NS</td>\n",
       "      <td>NS</td>\n",
       "      <td>NS</td>\n",
       "      <td>All other taxonomic groups showed no significa...</td>\n",
       "    </tr>\n",
       "    <tr>\n",
       "      <th>...</th>\n",
       "      <td>...</td>\n",
       "      <td>...</td>\n",
       "      <td>...</td>\n",
       "      <td>...</td>\n",
       "      <td>...</td>\n",
       "      <td>...</td>\n",
       "      <td>...</td>\n",
       "      <td>...</td>\n",
       "      <td>...</td>\n",
       "      <td>...</td>\n",
       "      <td>...</td>\n",
       "      <td>...</td>\n",
       "      <td>...</td>\n",
       "      <td>...</td>\n",
       "      <td>...</td>\n",
       "      <td>...</td>\n",
       "      <td>...</td>\n",
       "      <td>...</td>\n",
       "      <td>...</td>\n",
       "      <td>...</td>\n",
       "      <td>...</td>\n",
       "    </tr>\n",
       "    <tr>\n",
       "      <th>576</th>\n",
       "      <td>Wild bee pollinators provide the majority of c...</td>\n",
       "      <td>Winfree et al.</td>\n",
       "      <td>2007</td>\n",
       "      <td>United States</td>\n",
       "      <td>North America</td>\n",
       "      <td>NaN</td>\n",
       "      <td>Conventional</td>\n",
       "      <td>Abundance (wood-nesting bees)</td>\n",
       "      <td>Biodiversity</td>\n",
       "      <td>Pollinator</td>\n",
       "      <td>...</td>\n",
       "      <td>NS</td>\n",
       "      <td>We analysed landscape cover as the proportion ...</td>\n",
       "      <td>3-64% woodland</td>\n",
       "      <td>3.0</td>\n",
       "      <td>64.0</td>\n",
       "      <td>NS</td>\n",
       "      <td>NS</td>\n",
       "      <td>NS</td>\n",
       "      <td>NS</td>\n",
       "      <td>The abundance of wood-nesting bees was associa...</td>\n",
       "    </tr>\n",
       "    <tr>\n",
       "      <th>577</th>\n",
       "      <td>Wild bee pollinators provide the majority of c...</td>\n",
       "      <td>Winfree et al.</td>\n",
       "      <td>2007</td>\n",
       "      <td>United States</td>\n",
       "      <td>North America</td>\n",
       "      <td>NaN</td>\n",
       "      <td>Conventional</td>\n",
       "      <td>Wild bee visitation</td>\n",
       "      <td>Ecosystem services</td>\n",
       "      <td>Pollinator</td>\n",
       "      <td>...</td>\n",
       "      <td>NS</td>\n",
       "      <td>We analysed landscape cover as the proportion ...</td>\n",
       "      <td>3-64% woodland</td>\n",
       "      <td>3.0</td>\n",
       "      <td>64.0</td>\n",
       "      <td>NS</td>\n",
       "      <td>NS</td>\n",
       "      <td>NS</td>\n",
       "      <td>NS</td>\n",
       "      <td>Similarly, no individual variables were strong...</td>\n",
       "    </tr>\n",
       "    <tr>\n",
       "      <th>578</th>\n",
       "      <td>Wild bee pollinators provide the majority of c...</td>\n",
       "      <td>Winfree et al.</td>\n",
       "      <td>2007</td>\n",
       "      <td>United States</td>\n",
       "      <td>North America</td>\n",
       "      <td>NaN</td>\n",
       "      <td>Conventional</td>\n",
       "      <td>Abundance (eusocial bees)</td>\n",
       "      <td>Biodiversity</td>\n",
       "      <td>Pollinator</td>\n",
       "      <td>...</td>\n",
       "      <td>NS</td>\n",
       "      <td>We analysed landscape cover as the proportion ...</td>\n",
       "      <td>3-64% woodland</td>\n",
       "      <td>3.0</td>\n",
       "      <td>64.0</td>\n",
       "      <td>NS</td>\n",
       "      <td>NS</td>\n",
       "      <td>NS</td>\n",
       "      <td>NS</td>\n",
       "      <td>Similarly, no individual variables were strong...</td>\n",
       "    </tr>\n",
       "    <tr>\n",
       "      <th>579</th>\n",
       "      <td>Wild bee pollinators provide the majority of c...</td>\n",
       "      <td>Winfree et al.</td>\n",
       "      <td>2007</td>\n",
       "      <td>United States</td>\n",
       "      <td>North America</td>\n",
       "      <td>NaN</td>\n",
       "      <td>Conventional</td>\n",
       "      <td>Abundance (solitary bees)</td>\n",
       "      <td>Biodiversity</td>\n",
       "      <td>Pollinator</td>\n",
       "      <td>...</td>\n",
       "      <td>Positive</td>\n",
       "      <td>We analysed landscape cover as the proportion ...</td>\n",
       "      <td>3-64% woodland</td>\n",
       "      <td>3.0</td>\n",
       "      <td>64.0</td>\n",
       "      <td>NS</td>\n",
       "      <td>NS</td>\n",
       "      <td>NS</td>\n",
       "      <td>NS</td>\n",
       "      <td>The abundance of solitary bees showed little a...</td>\n",
       "    </tr>\n",
       "    <tr>\n",
       "      <th>580</th>\n",
       "      <td>Wild bee pollinators provide the majority of c...</td>\n",
       "      <td>Winfree et al.</td>\n",
       "      <td>2007</td>\n",
       "      <td>United States</td>\n",
       "      <td>North America</td>\n",
       "      <td>NaN</td>\n",
       "      <td>Conventional</td>\n",
       "      <td>Abundance (wood-nesting bees)</td>\n",
       "      <td>Biodiversity</td>\n",
       "      <td>Pollinator</td>\n",
       "      <td>...</td>\n",
       "      <td>NS</td>\n",
       "      <td>We analysed landscape cover as the proportion ...</td>\n",
       "      <td>3-64% woodland</td>\n",
       "      <td>3.0</td>\n",
       "      <td>64.0</td>\n",
       "      <td>NS</td>\n",
       "      <td>NS</td>\n",
       "      <td>NS</td>\n",
       "      <td>NS</td>\n",
       "      <td>Similarly, no individual variables were strong...</td>\n",
       "    </tr>\n",
       "  </tbody>\n",
       "</table>\n",
       "<p>581 rows × 22 columns</p>\n",
       "</div>"
      ],
      "text/plain": [
       "                                                 title          author  year  \\\n",
       "0    A macro-scale perspective on within-farm manag...   Amano et al.   2011   \n",
       "1    A multitaxa assessment of the effectiveness of...  Boetzel et al.  2021   \n",
       "2    A multitaxa assessment of the effectiveness of...  Boetzel et al.  2021   \n",
       "3    A multitaxa assessment of the effectiveness of...  Boetzel et al.  2021   \n",
       "4    A multitaxa assessment of the effectiveness of...  Boetzel et al.  2021   \n",
       "..                                                 ...             ...   ...   \n",
       "576  Wild bee pollinators provide the majority of c...  Winfree et al.  2007   \n",
       "577  Wild bee pollinators provide the majority of c...  Winfree et al.  2007   \n",
       "578  Wild bee pollinators provide the majority of c...  Winfree et al.  2007   \n",
       "579  Wild bee pollinators provide the majority of c...  Winfree et al.  2007   \n",
       "580  Wild bee pollinators provide the majority of c...  Winfree et al.  2007   \n",
       "\n",
       "           country      continent  climate    comparison  \\\n",
       "0            Japan           Asia      NaN  Conventional   \n",
       "1          Germany         Europe      NaN  Conventional   \n",
       "2          Germany         Europe      NaN  Conventional   \n",
       "3          Germany         Europe      NaN  Conventional   \n",
       "4          Germany         Europe      NaN  Conventional   \n",
       "..             ...            ...      ...           ...   \n",
       "576  United States  North America      NaN  Conventional   \n",
       "577  United States  North America      NaN  Conventional   \n",
       "578  United States  North America      NaN  Conventional   \n",
       "579  United States  North America      NaN  Conventional   \n",
       "580  United States  North America      NaN  Conventional   \n",
       "\n",
       "                          response       response_type response_category  ...  \\\n",
       "0                 Spider abundance        Biodiversity     Natural enemy  ...   \n",
       "1          Cicada species richness        Biodiversity         Arthropod  ...   \n",
       "2     Orthopteran species richness        Biodiversity         Arthropod  ...   \n",
       "3             Bee species richness        Biodiversity        Pollinator  ...   \n",
       "4       Butterfly species richness        Biodiversity        Pollinator  ...   \n",
       "..                             ...                 ...               ...  ...   \n",
       "576  Abundance (wood-nesting bees)        Biodiversity        Pollinator  ...   \n",
       "577            Wild bee visitation  Ecosystem services        Pollinator  ...   \n",
       "578      Abundance (eusocial bees)        Biodiversity        Pollinator  ...   \n",
       "579      Abundance (solitary bees)        Biodiversity        Pollinator  ...   \n",
       "580  Abundance (wood-nesting bees)        Biodiversity        Pollinator  ...   \n",
       "\n",
       "    local_effect                                          landscape  \\\n",
       "0       Negative  The proportion of forest area surrounding the ...   \n",
       "1             NS  The amount of seminatural habitat (forest edge...   \n",
       "2             NS  The amount of seminatural habitat (forest edge...   \n",
       "3             NS  The amount of seminatural habitat (forest edge...   \n",
       "4             NS  The amount of seminatural habitat (forest edge...   \n",
       "..           ...                                                ...   \n",
       "576           NS  We analysed landscape cover as the proportion ...   \n",
       "577           NS  We analysed landscape cover as the proportion ...   \n",
       "578           NS  We analysed landscape cover as the proportion ...   \n",
       "579     Positive  We analysed landscape cover as the proportion ...   \n",
       "580           NS  We analysed landscape cover as the proportion ...   \n",
       "\n",
       "               landscape_gradient minimum_complexity maximum_complexity  \\\n",
       "0        <20% forest, >20% forest                NaN                NaN   \n",
       "1    3.6-25% semi-natural habitat                3.6               25.0   \n",
       "2    3.6-25% semi-natural habitat                3.6               25.0   \n",
       "3    3.6-25% semi-natural habitat                3.6               25.0   \n",
       "4    3.6-25% semi-natural habitat                3.6               25.0   \n",
       "..                            ...                ...                ...   \n",
       "576                3-64% woodland                3.0               64.0   \n",
       "577                3-64% woodland                3.0               64.0   \n",
       "578                3-64% woodland                3.0               64.0   \n",
       "579                3-64% woodland                3.0               64.0   \n",
       "580                3-64% woodland                3.0               64.0   \n",
       "\n",
       "     landscape_effect  interaction_details interaction_effect_simple  \\\n",
       "0            Positive                   NS                        NS   \n",
       "1                  NS                   NS                        NS   \n",
       "2                  NS                   NS                        NS   \n",
       "3            Positive                   NS                        NS   \n",
       "4                  NS                   NS                        NS   \n",
       "..                ...                  ...                       ...   \n",
       "576                NS                   NS                        NS   \n",
       "577                NS                   NS                        NS   \n",
       "578                NS                   NS                        NS   \n",
       "579                NS                   NS                        NS   \n",
       "580                NS                   NS                        NS   \n",
       "\n",
       "    interaction_effect                                        description  \n",
       "0                   NS  A multilevel modelling approach revealed that ...  \n",
       "1                   NS  All other taxonomic groups showed no significa...  \n",
       "2                   NS  All other taxonomic groups showed no significa...  \n",
       "3                   NS  An increasing proportion of seminatural habita...  \n",
       "4                   NS  All other taxonomic groups showed no significa...  \n",
       "..                 ...                                                ...  \n",
       "576                 NS  The abundance of wood-nesting bees was associa...  \n",
       "577                 NS  Similarly, no individual variables were strong...  \n",
       "578                 NS  Similarly, no individual variables were strong...  \n",
       "579                 NS  The abundance of solitary bees showed little a...  \n",
       "580                 NS  Similarly, no individual variables were strong...  \n",
       "\n",
       "[581 rows x 22 columns]"
      ]
     },
     "execution_count": 2,
     "metadata": {},
     "output_type": "execute_result"
    }
   ],
   "source": [
    "# Read literature review data.\n",
    "\n",
    "lit_review_data = pd.read_csv(\"lit_review_data.csv\")\n",
    "lit_review_data = clean_columns(lit_review_data)\n",
    "lit_review_data\n"
   ]
  },
  {
   "cell_type": "code",
   "execution_count": 3,
   "metadata": {},
   "outputs": [],
   "source": [
    "# Convert column data types.\n",
    "\n",
    "lit_review_data[\n",
    "    [\n",
    "        \"title\",\n",
    "        \"author\",\n",
    "        \"country\",\n",
    "        \"continent\",\n",
    "        \"comparison\",\n",
    "        \"response\",\n",
    "        \"response_category\",\n",
    "        \"local_factor\",\n",
    "        \"local_strategy\",\n",
    "        \"local_effect\",\n",
    "        \"landscape\",\n",
    "        \"landscape_effect\",\n",
    "        \"interaction_effect\",\n",
    "        \"response_type\",\n",
    "    ]\n",
    "] = lit_review_data.loc[\n",
    "    :,\n",
    "    [\n",
    "        \"title\",\n",
    "        \"author\",\n",
    "        \"country\",\n",
    "        \"continent\",\n",
    "        \"comparison\",\n",
    "        \"response\",\n",
    "        \"response_category\",\n",
    "        \"local_factor\",\n",
    "        \"local_strategy\",\n",
    "        \"local_effect\",\n",
    "        \"landscape\",\n",
    "        \"landscape_effect\",\n",
    "        \"interaction_effect\",\n",
    "        \"response_type\",\n",
    "    ],\n",
    "].astype(\n",
    "    \"category\"\n",
    ")\n"
   ]
  },
  {
   "cell_type": "code",
   "execution_count": 4,
   "metadata": {},
   "outputs": [
    {
     "data": {
      "text/plain": [
       "Structure     58\n",
       "Diversity     73\n",
       "Floral       139\n",
       "Intensity    311\n",
       "Name: local_strategy, dtype: int64"
      ]
     },
     "execution_count": 4,
     "metadata": {},
     "output_type": "execute_result"
    }
   ],
   "source": [
    "lit_review_data.local_strategy.value_counts(ascending=True)\n"
   ]
  },
  {
   "cell_type": "code",
   "execution_count": 5,
   "metadata": {},
   "outputs": [
    {
     "data": {
      "text/plain": [
       "Arthropod         32\n",
       "Crop              69\n",
       "Pest              74\n",
       "Pollinator       120\n",
       "Natural enemy    286\n",
       "Name: response_category, dtype: int64"
      ]
     },
     "execution_count": 5,
     "metadata": {},
     "output_type": "execute_result"
    }
   ],
   "source": [
    "lit_review_data.response_category.value_counts(ascending=True)\n"
   ]
  },
  {
   "cell_type": "code",
   "execution_count": 6,
   "metadata": {},
   "outputs": [
    {
     "data": {
      "text/plain": [
       "Ecosystem services    227\n",
       "Biodiversity          354\n",
       "Name: response_type, dtype: int64"
      ]
     },
     "execution_count": 6,
     "metadata": {},
     "output_type": "execute_result"
    }
   ],
   "source": [
    "lit_review_data.response_type.value_counts(ascending=True)\n"
   ]
  },
  {
   "cell_type": "code",
   "execution_count": 7,
   "metadata": {},
   "outputs": [
    {
     "data": {
      "image/png": "[encoded data removed]",
      "text/plain": [
       "<Figure size 1200x800 with 1 Axes>"
      ]
     },
     "metadata": {},
     "output_type": "display_data"
    }
   ],
   "source": [
    "# Plotting local effects of local practices.\n",
    "\n",
    "plt.rcParams['font.sans-serif'] = ['Helvetica']\n",
    "plt.rcParams.update({'font.size': 20})\n",
    "\n",
    "ax1 = (\n",
    "    lit_review_data\n",
    "    .groupby([\"local_strategy\"])[[\"local_effect\"]]\n",
    "    .value_counts(normalize=True)\n",
    "    .mul(100)\n",
    "    .round(1)\n",
    "    .unstack()[[\"NS\", \"Positive\", \"Negative\"]]\n",
    "    .loc[['Intensity', 'Floral', 'Diversity', 'Structure']]\n",
    "    .plot(\n",
    "        kind=\"bar\",\n",
    "        width=0.75,\n",
    "        colormap=\"crest\",\n",
    "        #title=\"Effects of Local Management Practices\",\n",
    "        #ylabel=\"Percent of Observations\",\n",
    "        #xlabel=\"Local Management Practice Category\",\n",
    "        rot=0,\n",
    "        figsize=(12, 8)\n",
    "    )\n",
    ")\n",
    "\n",
    "for container in ax1.containers:\n",
    "    ax1.bar_label(container, fontsize=20, fmt=\"%d\")\n",
    "\n",
    "#ax1.legend(title=\"Effect\")\n",
    "\n",
    "plt.xlabel(None)\n",
    "plt.ylim(0,80)\n",
    "ax1.get_legend().remove()\n"
   ]
  },
  {
   "cell_type": "code",
   "execution_count": 8,
   "metadata": {},
   "outputs": [
    {
     "data": {
      "text/html": [
       "<div>\n",
       "<style scoped>\n",
       "    .dataframe tbody tr th:only-of-type {\n",
       "        vertical-align: middle;\n",
       "    }\n",
       "\n",
       "    .dataframe tbody tr th {\n",
       "        vertical-align: top;\n",
       "    }\n",
       "\n",
       "    .dataframe thead th {\n",
       "        text-align: right;\n",
       "    }\n",
       "</style>\n",
       "<table border=\"1\" class=\"dataframe\">\n",
       "  <thead>\n",
       "    <tr style=\"text-align: right;\">\n",
       "      <th>local_strategy</th>\n",
       "      <th>Diversity</th>\n",
       "      <th>Floral</th>\n",
       "      <th>Intensity</th>\n",
       "      <th>Structure</th>\n",
       "    </tr>\n",
       "    <tr>\n",
       "      <th>local_effect</th>\n",
       "      <th></th>\n",
       "      <th></th>\n",
       "      <th></th>\n",
       "      <th></th>\n",
       "    </tr>\n",
       "  </thead>\n",
       "  <tbody>\n",
       "    <tr>\n",
       "      <th>NS</th>\n",
       "      <td>58.3</td>\n",
       "      <td>70.5</td>\n",
       "      <td>63.3</td>\n",
       "      <td>60.3</td>\n",
       "    </tr>\n",
       "    <tr>\n",
       "      <th>Positive</th>\n",
       "      <td>30.6</td>\n",
       "      <td>24.5</td>\n",
       "      <td>26.4</td>\n",
       "      <td>36.2</td>\n",
       "    </tr>\n",
       "    <tr>\n",
       "      <th>Negative</th>\n",
       "      <td>11.1</td>\n",
       "      <td>5.0</td>\n",
       "      <td>10.3</td>\n",
       "      <td>3.4</td>\n",
       "    </tr>\n",
       "  </tbody>\n",
       "</table>\n",
       "</div>"
      ],
      "text/plain": [
       "local_strategy  Diversity  Floral  Intensity  Structure\n",
       "local_effect                                           \n",
       "NS                   58.3    70.5       63.3       60.3\n",
       "Positive             30.6    24.5       26.4       36.2\n",
       "Negative             11.1     5.0       10.3        3.4"
      ]
     },
     "execution_count": 8,
     "metadata": {},
     "output_type": "execute_result"
    }
   ],
   "source": [
    "strategy_local_effect = (\n",
    "    lit_review_data.groupby([\"local_strategy\"])[[\"local_effect\"]]\n",
    "    .value_counts(normalize=True)\n",
    "    .mul(100)\n",
    "    .round(1)\n",
    "    .unstack()[[\"NS\", \"Positive\", \"Negative\"]]\n",
    "    .T\n",
    ")\n",
    "\n",
    "strategy_local_effect\n"
   ]
  },
  {
   "cell_type": "code",
   "execution_count": 9,
   "metadata": {},
   "outputs": [
    {
     "data": {
      "text/plain": [
       "Power_divergenceResult(statistic=array([33.7538    , 67.865     , 44.2982    , 48.99159159]), pvalue=array([4.68225927e-08, 1.83359110e-15, 2.40307924e-10, 2.29938162e-11]))"
      ]
     },
     "execution_count": 9,
     "metadata": {},
     "output_type": "execute_result"
    }
   ],
   "source": [
    "stats.chisquare(strategy_local_effect)\n"
   ]
  },
  {
   "cell_type": "code",
   "execution_count": 10,
   "metadata": {},
   "outputs": [
    {
     "data": {
      "text/plain": [
       "Power_divergenceResult(statistic=array([1.35784469, 2.74214104, 5.88590604]), pvalue=array([0.71544522, 0.4331133 , 0.11729503]))"
      ]
     },
     "execution_count": 10,
     "metadata": {},
     "output_type": "execute_result"
    }
   ],
   "source": [
    "stats.chisquare(strategy_local_effect.T)\n"
   ]
  },
  {
   "cell_type": "code",
   "execution_count": 11,
   "metadata": {},
   "outputs": [
    {
     "data": {
      "text/plain": [
       "Chi2ContingencyResult(statistic=9.987209000186358, pvalue=0.1251917107477963, dof=6, expected_freq=array([[63.11577894, 63.11577894, 63.11577894, 63.05266317],\n",
       "       [29.43235809, 29.43235809, 29.43235809, 29.40292573],\n",
       "       [ 7.45186297,  7.45186297,  7.45186297,  7.4444111 ]]))"
      ]
     },
     "execution_count": 11,
     "metadata": {},
     "output_type": "execute_result"
    }
   ],
   "source": [
    "stats.chi2_contingency(strategy_local_effect)\n"
   ]
  },
  {
   "cell_type": "code",
   "execution_count": 12,
   "metadata": {},
   "outputs": [
    {
     "data": {
      "image/png": "[encoded data removed]",
      "text/plain": [
       "<Figure size 1200x800 with 1 Axes>"
      ]
     },
     "metadata": {},
     "output_type": "display_data"
    }
   ],
   "source": [
    "# Plotting effects of local practices across landscape gradients.\n",
    "plt.rcParams['font.sans-serif'] = ['Helvetica']\n",
    "plt.rcParams.update({'font.size': 20})\n",
    "\n",
    "ax2 = (\n",
    "    lit_review_data.groupby([\"local_strategy\"])[[\"landscape_effect\"]]\n",
    "    .value_counts(normalize=True)\n",
    "    .mul(100)\n",
    "    .round(1)\n",
    "    .unstack()[[\"NS\", \"Positive\", \"Negative\"]]\n",
    "    .loc[['Intensity', 'Floral', 'Diversity', 'Structure']]\n",
    "    .plot(\n",
    "        kind=\"bar\",\n",
    "        width=0.75,\n",
    "        colormap=\"crest\",\n",
    "        #title=\"Effects of Landscape Complexity, Subset by Local Management\",\n",
    "        #ylabel=\"Percent of Observations\",\n",
    "        #xlabel=\"Local Management Practice Category\",\n",
    "        rot=0,\n",
    "        figsize=(12, 8),\n",
    "    )\n",
    ")\n",
    "\n",
    "for container in ax2.containers:\n",
    "    ax2.bar_label(container, fontsize=20, fmt=\"%d\")\n",
    "\n",
    "plt.xlabel(None)\n",
    "plt.ylim(0,80)\n",
    "ax2.get_legend().remove()\n",
    "#ax2.get_yaxis().set_ticks([])\n",
    "\n",
    "\n",
    "#ax2.legend(title=\"Effect\")\n"
   ]
  },
  {
   "cell_type": "code",
   "execution_count": 13,
   "metadata": {},
   "outputs": [
    {
     "data": {
      "text/html": [
       "<div>\n",
       "<style scoped>\n",
       "    .dataframe tbody tr th:only-of-type {\n",
       "        vertical-align: middle;\n",
       "    }\n",
       "\n",
       "    .dataframe tbody tr th {\n",
       "        vertical-align: top;\n",
       "    }\n",
       "\n",
       "    .dataframe thead th {\n",
       "        text-align: right;\n",
       "    }\n",
       "</style>\n",
       "<table border=\"1\" class=\"dataframe\">\n",
       "  <thead>\n",
       "    <tr style=\"text-align: right;\">\n",
       "      <th>local_strategy</th>\n",
       "      <th>Diversity</th>\n",
       "      <th>Floral</th>\n",
       "      <th>Intensity</th>\n",
       "      <th>Structure</th>\n",
       "    </tr>\n",
       "    <tr>\n",
       "      <th>landscape_effect</th>\n",
       "      <th></th>\n",
       "      <th></th>\n",
       "      <th></th>\n",
       "      <th></th>\n",
       "    </tr>\n",
       "  </thead>\n",
       "  <tbody>\n",
       "    <tr>\n",
       "      <th>NS</th>\n",
       "      <td>64.3</td>\n",
       "      <td>70.1</td>\n",
       "      <td>69.8</td>\n",
       "      <td>55.2</td>\n",
       "    </tr>\n",
       "    <tr>\n",
       "      <th>Positive</th>\n",
       "      <td>24.3</td>\n",
       "      <td>22.4</td>\n",
       "      <td>18.6</td>\n",
       "      <td>36.2</td>\n",
       "    </tr>\n",
       "    <tr>\n",
       "      <th>Negative</th>\n",
       "      <td>11.4</td>\n",
       "      <td>7.5</td>\n",
       "      <td>11.6</td>\n",
       "      <td>8.6</td>\n",
       "    </tr>\n",
       "  </tbody>\n",
       "</table>\n",
       "</div>"
      ],
      "text/plain": [
       "local_strategy    Diversity  Floral  Intensity  Structure\n",
       "landscape_effect                                         \n",
       "NS                     64.3    70.1       69.8       55.2\n",
       "Positive               24.3    22.4       18.6       36.2\n",
       "Negative               11.4     7.5       11.6        8.6"
      ]
     },
     "execution_count": 13,
     "metadata": {},
     "output_type": "execute_result"
    }
   ],
   "source": [
    "strategy_landscape_effect = (\n",
    "    lit_review_data.groupby([\"local_strategy\"])[[\"landscape_effect\"]]\n",
    "    .value_counts(normalize=True)\n",
    "    .mul(100)\n",
    "    .round(1)\n",
    "    .unstack()[[\"NS\", \"Positive\", \"Negative\"]]\n",
    "    .T\n",
    ")\n",
    "\n",
    "strategy_landscape_effect\n"
   ]
  },
  {
   "cell_type": "code",
   "execution_count": 14,
   "metadata": {},
   "outputs": [
    {
     "data": {
      "text/plain": [
       "Power_divergenceResult(statistic=array([45.6482, 64.1606, 60.5768, 32.9432]), pvalue=array([1.22354322e-10, 1.16869916e-14, 7.01318046e-14, 7.02222939e-08]))"
      ]
     },
     "execution_count": 14,
     "metadata": {},
     "output_type": "execute_result"
    }
   ],
   "source": [
    "stats.chisquare(strategy_landscape_effect)\n"
   ]
  },
  {
   "cell_type": "code",
   "execution_count": 15,
   "metadata": {},
   "outputs": [
    {
     "data": {
      "text/plain": [
       "Power_divergenceResult(statistic=array([2.24348497, 6.82118227, 1.28158568]), pvalue=array([0.52343405, 0.07782105, 0.73351031]))"
      ]
     },
     "execution_count": 15,
     "metadata": {},
     "output_type": "execute_result"
    }
   ],
   "source": [
    "stats.chisquare(strategy_landscape_effect.T)\n"
   ]
  },
  {
   "cell_type": "code",
   "execution_count": 16,
   "metadata": {},
   "outputs": [
    {
     "data": {
      "text/plain": [
       "Chi2ContingencyResult(statistic=10.346252909063761, pvalue=0.11080763261496468, dof=6, expected_freq=array([[64.85 , 64.85 , 64.85 , 64.85 ],\n",
       "       [25.375, 25.375, 25.375, 25.375],\n",
       "       [ 9.775,  9.775,  9.775,  9.775]]))"
      ]
     },
     "execution_count": 16,
     "metadata": {},
     "output_type": "execute_result"
    }
   ],
   "source": [
    "stats.chi2_contingency(strategy_landscape_effect)\n"
   ]
  },
  {
   "cell_type": "code",
   "execution_count": 17,
   "metadata": {},
   "outputs": [
    {
     "data": {
      "image/png": "[encoded data removed]",
      "text/plain": [
       "<Figure size 1200x800 with 1 Axes>"
      ]
     },
     "metadata": {},
     "output_type": "display_data"
    }
   ],
   "source": [
    "# Plotting effects of local practices for different response types.\n",
    "\n",
    "plt.rcParams['font.sans-serif'] = ['Helvetica']\n",
    "plt.rcParams.update({'font.size': 20})\n",
    "\n",
    "ax3 = (\n",
    "    lit_review_data.groupby([\"response_category\"])[[\"local_effect\"]]\n",
    "    .value_counts(normalize=True)\n",
    "    .mul(100)\n",
    "    .round(1)\n",
    "    .unstack()[[\"NS\", \"Positive\", \"Negative\"]]\n",
    "    .loc[['Natural enemy', 'Pollinator', 'Pest', 'Crop', 'Arthropod']]\n",
    "    .plot(\n",
    "        kind=\"bar\",\n",
    "        width=0.75,\n",
    "        colormap=\"crest\",\n",
    "        #title=\"Effects of Local Management Practices, Subset by Response Category\",\n",
    "        #ylabel=\"Percent of Observations\",\n",
    "        #xlabel=\"Response Category\",\n",
    "        rot=0,\n",
    "        figsize=(12, 8),\n",
    "    )\n",
    ")\n",
    "\n",
    "for container in ax3.containers:\n",
    "    ax3.bar_label(container, fontsize=20, fmt=\"%d\")\n",
    "\n",
    "plt.xlabel(None)\n",
    "plt.ylim(0,85)\n",
    "ax3.get_legend().remove()\n",
    "#ax3.legend(title=\"Effect\")\n"
   ]
  },
  {
   "cell_type": "code",
   "execution_count": 18,
   "metadata": {},
   "outputs": [
    {
     "data": {
      "text/html": [
       "<div>\n",
       "<style scoped>\n",
       "    .dataframe tbody tr th:only-of-type {\n",
       "        vertical-align: middle;\n",
       "    }\n",
       "\n",
       "    .dataframe tbody tr th {\n",
       "        vertical-align: top;\n",
       "    }\n",
       "\n",
       "    .dataframe thead th {\n",
       "        text-align: right;\n",
       "    }\n",
       "</style>\n",
       "<table border=\"1\" class=\"dataframe\">\n",
       "  <thead>\n",
       "    <tr style=\"text-align: right;\">\n",
       "      <th>response_category</th>\n",
       "      <th>Arthropod</th>\n",
       "      <th>Crop</th>\n",
       "      <th>Natural enemy</th>\n",
       "      <th>Pest</th>\n",
       "      <th>Pollinator</th>\n",
       "    </tr>\n",
       "    <tr>\n",
       "      <th>local_effect</th>\n",
       "      <th></th>\n",
       "      <th></th>\n",
       "      <th></th>\n",
       "      <th></th>\n",
       "      <th></th>\n",
       "    </tr>\n",
       "  </thead>\n",
       "  <tbody>\n",
       "    <tr>\n",
       "      <th>NS</th>\n",
       "      <td>71.9</td>\n",
       "      <td>69.6</td>\n",
       "      <td>63.9</td>\n",
       "      <td>64.9</td>\n",
       "      <td>59.2</td>\n",
       "    </tr>\n",
       "    <tr>\n",
       "      <th>Positive</th>\n",
       "      <td>21.9</td>\n",
       "      <td>17.4</td>\n",
       "      <td>29.8</td>\n",
       "      <td>18.9</td>\n",
       "      <td>34.2</td>\n",
       "    </tr>\n",
       "    <tr>\n",
       "      <th>Negative</th>\n",
       "      <td>6.2</td>\n",
       "      <td>13.0</td>\n",
       "      <td>6.3</td>\n",
       "      <td>16.2</td>\n",
       "      <td>6.7</td>\n",
       "    </tr>\n",
       "  </tbody>\n",
       "</table>\n",
       "</div>"
      ],
      "text/plain": [
       "response_category  Arthropod  Crop  Natural enemy  Pest  Pollinator\n",
       "local_effect                                                       \n",
       "NS                      71.9  69.6           63.9  64.9        59.2\n",
       "Positive                21.9  17.4           29.8  18.9        34.2\n",
       "Negative                 6.2  13.0            6.3  16.2         6.7"
      ]
     },
     "execution_count": 18,
     "metadata": {},
     "output_type": "execute_result"
    }
   ],
   "source": [
    "response_local_effect = (\n",
    "    lit_review_data.groupby([\"response_category\"])[[\"local_effect\"]]\n",
    "    .value_counts(normalize=True)\n",
    "    .mul(100)\n",
    "    .round(1)\n",
    "    .unstack()[[\"NS\", \"Positive\", \"Negative\"]]\n",
    ").T\n",
    "\n",
    "response_local_effect\n"
   ]
  },
  {
   "cell_type": "code",
   "execution_count": 19,
   "metadata": {},
   "outputs": [
    {
     "data": {
      "text/plain": [
       "Power_divergenceResult(statistic=array([70.6298    , 59.4776    , 50.3282    , 44.9498    , 41.33366633]), pvalue=array([4.60186423e-16, 1.21507549e-13, 1.17861029e-11, 1.73490200e-10,\n",
       "       1.05805537e-09]))"
      ]
     },
     "execution_count": 19,
     "metadata": {},
     "output_type": "execute_result"
    }
   ],
   "source": [
    "stats.chisquare(response_local_effect)\n"
   ]
  },
  {
   "cell_type": "code",
   "execution_count": 20,
   "metadata": {},
   "outputs": [
    {
     "data": {
      "text/plain": [
       "Power_divergenceResult(statistic=array([1.51107739, 8.6207856 , 8.87892562]), pvalue=array([0.82467745, 0.07130941, 0.06419805]))"
      ]
     },
     "execution_count": 20,
     "metadata": {},
     "output_type": "execute_result"
    }
   ],
   "source": [
    "stats.chisquare(response_local_effect.T)\n"
   ]
  },
  {
   "cell_type": "code",
   "execution_count": 21,
   "metadata": {},
   "outputs": [
    {
     "data": {
      "text/plain": [
       "Chi2ContingencyResult(statistic=19.009019030638072, pvalue=0.01481148814479304, dof=8, expected_freq=array([[65.88682264, 65.88682264, 65.88682264, 65.88682264, 65.95270946],\n",
       "       [24.43511298, 24.43511298, 24.43511298, 24.43511298, 24.45954809],\n",
       "       [ 9.67806439,  9.67806439,  9.67806439,  9.67806439,  9.68774245]]))"
      ]
     },
     "execution_count": 21,
     "metadata": {},
     "output_type": "execute_result"
    }
   ],
   "source": [
    "stats.chi2_contingency(response_local_effect)\n"
   ]
  },
  {
   "cell_type": "code",
   "execution_count": 22,
   "metadata": {},
   "outputs": [
    {
     "data": {
      "image/png": "[encoded data removed]",
      "text/plain": [
       "<Figure size 1200x800 with 1 Axes>"
      ]
     },
     "metadata": {},
     "output_type": "display_data"
    }
   ],
   "source": [
    "# Plotting effects of local practices across landscape gradients for different response types.\n",
    "\n",
    "plt.rcParams['font.sans-serif'] = ['Helvetica']\n",
    "plt.rcParams.update({'font.size': 20})\n",
    "\n",
    "ax3 = (\n",
    "    lit_review_data.groupby([\"response_category\"])[[\"landscape_effect\"]]\n",
    "    .value_counts(normalize=True)\n",
    "    .mul(100)\n",
    "    .round(1)\n",
    "    .unstack()[[\"NS\", \"Positive\", \"Negative\"]]\n",
    "    .loc[['Natural enemy', 'Pollinator', 'Pest', 'Crop', 'Arthropod']]\n",
    "    .plot(\n",
    "        kind=\"bar\",\n",
    "        width=0.75,\n",
    "        colormap=\"crest\",\n",
    "        #title=\"Effects of Landscape Complexity, Subset by Response Category\",\n",
    "        #ylabel=\"Percent of Observations\",\n",
    "        #xlabel=\"Response Category\",\n",
    "        rot=0,\n",
    "        figsize=(12, 8),\n",
    "    )\n",
    ")\n",
    "\n",
    "for container in ax3.containers:\n",
    "    ax3.bar_label(container, fontsize=20, fmt=\"%d\")\n",
    "\n",
    "plt.xlabel(None)\n",
    "plt.ylim(0,85)\n",
    "ax3.get_legend().remove()\n",
    "#ax3.get_yaxis().set_ticks([])\n",
    "\n",
    "#ax3.legend(title=\"Effect\")\n"
   ]
  },
  {
   "cell_type": "code",
   "execution_count": 23,
   "metadata": {},
   "outputs": [
    {
     "data": {
      "text/html": [
       "<div>\n",
       "<style scoped>\n",
       "    .dataframe tbody tr th:only-of-type {\n",
       "        vertical-align: middle;\n",
       "    }\n",
       "\n",
       "    .dataframe tbody tr th {\n",
       "        vertical-align: top;\n",
       "    }\n",
       "\n",
       "    .dataframe thead th {\n",
       "        text-align: right;\n",
       "    }\n",
       "</style>\n",
       "<table border=\"1\" class=\"dataframe\">\n",
       "  <thead>\n",
       "    <tr style=\"text-align: right;\">\n",
       "      <th>response_category</th>\n",
       "      <th>Arthropod</th>\n",
       "      <th>Crop</th>\n",
       "      <th>Natural enemy</th>\n",
       "      <th>Pest</th>\n",
       "      <th>Pollinator</th>\n",
       "    </tr>\n",
       "    <tr>\n",
       "      <th>landscape_effect</th>\n",
       "      <th></th>\n",
       "      <th></th>\n",
       "      <th></th>\n",
       "      <th></th>\n",
       "      <th></th>\n",
       "    </tr>\n",
       "  </thead>\n",
       "  <tbody>\n",
       "    <tr>\n",
       "      <th>NS</th>\n",
       "      <td>75.0</td>\n",
       "      <td>70.6</td>\n",
       "      <td>64.8</td>\n",
       "      <td>52.8</td>\n",
       "      <td>80.0</td>\n",
       "    </tr>\n",
       "    <tr>\n",
       "      <th>Positive</th>\n",
       "      <td>21.9</td>\n",
       "      <td>16.2</td>\n",
       "      <td>26.3</td>\n",
       "      <td>18.1</td>\n",
       "      <td>17.5</td>\n",
       "    </tr>\n",
       "    <tr>\n",
       "      <th>Negative</th>\n",
       "      <td>3.1</td>\n",
       "      <td>13.2</td>\n",
       "      <td>8.9</td>\n",
       "      <td>29.2</td>\n",
       "      <td>2.5</td>\n",
       "    </tr>\n",
       "  </tbody>\n",
       "</table>\n",
       "</div>"
      ],
      "text/plain": [
       "response_category  Arthropod  Crop  Natural enemy  Pest  Pollinator\n",
       "landscape_effect                                                   \n",
       "NS                      75.0  70.6           64.8  52.8        80.0\n",
       "Positive                21.9  16.2           26.3  18.1        17.5\n",
       "Negative                 3.1  13.2            8.9  29.2         2.5"
      ]
     },
     "execution_count": 23,
     "metadata": {},
     "output_type": "execute_result"
    }
   ],
   "source": [
    "response_landscape_effect = (\n",
    "    lit_review_data.groupby([\"response_category\"])[[\"landscape_effect\"]]\n",
    "    .value_counts(normalize=True)\n",
    "    .mul(100)\n",
    "    .round(1)\n",
    "    .unstack()[[\"NS\", \"Positive\", \"Negative\"]]\n",
    "    .T\n",
    ")\n",
    "\n",
    "response_landscape_effect\n"
   ]
  },
  {
   "cell_type": "code",
   "execution_count": 24,
   "metadata": {},
   "outputs": [
    {
     "data": {
      "text/plain": [
       "Power_divergenceResult(statistic=array([ 83.4266    ,  62.6312    ,  49.0982    ,  18.82377622,\n",
       "       101.375     ]), pvalue=array([7.65850478e-19, 2.51077458e-14, 2.18002430e-11, 8.17464551e-05,\n",
       "       9.69836330e-23]))"
      ]
     },
     "execution_count": 24,
     "metadata": {},
     "output_type": "execute_result"
    }
   ],
   "source": [
    "stats.chisquare(response_landscape_effect)\n"
   ]
  },
  {
   "cell_type": "code",
   "execution_count": 25,
   "metadata": {},
   "outputs": [
    {
     "data": {
      "text/plain": [
       "Power_divergenceResult(statistic=array([ 6.3955711 ,  3.38      , 41.68963093]), pvalue=array([1.71490328e-01, 4.96357520e-01, 1.93446131e-08]))"
      ]
     },
     "execution_count": 25,
     "metadata": {},
     "output_type": "execute_result"
    }
   ],
   "source": [
    "stats.chisquare(response_landscape_effect.T)\n"
   ]
  },
  {
   "cell_type": "code",
   "execution_count": 26,
   "metadata": {},
   "outputs": [
    {
     "data": {
      "text/plain": [
       "Chi2ContingencyResult(statistic=51.44370018481724, pvalue=2.15504769694293e-08, dof=8, expected_freq=array([[68.62627475, 68.62627475, 68.62627475, 68.69490102, 68.62627475],\n",
       "       [19.9960008 , 19.9960008 , 19.9960008 , 20.0159968 , 19.9960008 ],\n",
       "       [11.37772446, 11.37772446, 11.37772446, 11.38910218, 11.37772446]]))"
      ]
     },
     "execution_count": 26,
     "metadata": {},
     "output_type": "execute_result"
    }
   ],
   "source": [
    "stats.chi2_contingency(response_landscape_effect)\n"
   ]
  },
  {
   "cell_type": "code",
   "execution_count": 27,
   "metadata": {},
   "outputs": [
    {
     "data": {
      "image/png": "[encoded data removed]",
      "text/plain": [
       "<Figure size 1200x800 with 1 Axes>"
      ]
     },
     "metadata": {},
     "output_type": "display_data"
    }
   ],
   "source": [
    "# Plotting local effects of local practices.\n",
    "plt.rcParams['font.sans-serif'] = ['Helvetica']\n",
    "plt.rcParams.update({'font.size': 20})\n",
    "\n",
    "ax9 = (\n",
    "    lit_review_data.groupby([\"response_type\"])[[\"local_effect\"]]\n",
    "    .value_counts(normalize=True)\n",
    "    .mul(100)\n",
    "    .round(1)\n",
    "    .unstack()[[\"NS\", \"Positive\", \"Negative\"]]\n",
    "    .plot(\n",
    "        kind=\"bar\",\n",
    "        width=0.75,\n",
    "        colormap=\"crest\",\n",
    "        #title=\"Effects of Local Management on Response Type\",\n",
    "        #ylabel=\"Percent of Observations\",\n",
    "        #xlabel=\"Response Type\",\n",
    "        rot=0,\n",
    "        figsize=(12, 8)\n",
    "    )\n",
    ")\n",
    "\n",
    "plt.xlabel(None)\n",
    "plt.ylim(0, 75)\n",
    "\n",
    "for container in ax9.containers:\n",
    "    ax9.bar_label(container, fontsize=20, fmt=\"%d\")\n",
    "\n",
    "ax9.get_legend().remove()\n",
    "#ax9.legend(title=\"Effect\")\n"
   ]
  },
  {
   "cell_type": "code",
   "execution_count": 28,
   "metadata": {},
   "outputs": [
    {
     "data": {
      "text/html": [
       "<div>\n",
       "<style scoped>\n",
       "    .dataframe tbody tr th:only-of-type {\n",
       "        vertical-align: middle;\n",
       "    }\n",
       "\n",
       "    .dataframe tbody tr th {\n",
       "        vertical-align: top;\n",
       "    }\n",
       "\n",
       "    .dataframe thead th {\n",
       "        text-align: right;\n",
       "    }\n",
       "</style>\n",
       "<table border=\"1\" class=\"dataframe\">\n",
       "  <thead>\n",
       "    <tr style=\"text-align: right;\">\n",
       "      <th>response_type</th>\n",
       "      <th>Biodiversity</th>\n",
       "      <th>Ecosystem services</th>\n",
       "    </tr>\n",
       "    <tr>\n",
       "      <th>local_effect</th>\n",
       "      <th></th>\n",
       "      <th></th>\n",
       "    </tr>\n",
       "  </thead>\n",
       "  <tbody>\n",
       "    <tr>\n",
       "      <th>NS</th>\n",
       "      <td>63.0</td>\n",
       "      <td>65.9</td>\n",
       "    </tr>\n",
       "    <tr>\n",
       "      <th>Positive</th>\n",
       "      <td>29.4</td>\n",
       "      <td>24.3</td>\n",
       "    </tr>\n",
       "    <tr>\n",
       "      <th>Negative</th>\n",
       "      <td>7.6</td>\n",
       "      <td>9.7</td>\n",
       "    </tr>\n",
       "  </tbody>\n",
       "</table>\n",
       "</div>"
      ],
      "text/plain": [
       "response_type  Biodiversity  Ecosystem services\n",
       "local_effect                                   \n",
       "NS                     63.0                65.9\n",
       "Positive               29.4                24.3\n",
       "Negative                7.6                 9.7"
      ]
     },
     "execution_count": 28,
     "metadata": {},
     "output_type": "execute_result"
    }
   ],
   "source": [
    "response_type_local_effect = (\n",
    "    lit_review_data.groupby([\"response_type\"])[[\"local_effect\"]]\n",
    "    .value_counts(normalize=True)\n",
    "    .mul(100)\n",
    "    .round(1)\n",
    "    .unstack()[[\"NS\", \"Positive\", \"Negative\"]]\n",
    "    .T\n",
    ")\n",
    "\n",
    "response_type_local_effect\n"
   ]
  },
  {
   "cell_type": "code",
   "execution_count": 29,
   "metadata": {},
   "outputs": [
    {
     "data": {
      "text/plain": [
       "Power_divergenceResult(statistic=array([46.7336    , 51.07267267]), pvalue=array([7.11095123e-11, 8.12288007e-12]))"
      ]
     },
     "execution_count": 29,
     "metadata": {},
     "output_type": "execute_result"
    }
   ],
   "source": [
    "stats.chisquare(response_type_local_effect)\n"
   ]
  },
  {
   "cell_type": "code",
   "execution_count": 30,
   "metadata": {},
   "outputs": [
    {
     "data": {
      "text/plain": [
       "Power_divergenceResult(statistic=array([0.06524438, 0.48435754, 0.25491329]), pvalue=array([0.79839117, 0.48645513, 0.61363653]))"
      ]
     },
     "execution_count": 30,
     "metadata": {},
     "output_type": "execute_result"
    }
   ],
   "source": [
    "stats.chisquare(response_type_local_effect.T)\n"
   ]
  },
  {
   "cell_type": "code",
   "execution_count": 31,
   "metadata": {},
   "outputs": [
    {
     "data": {
      "text/plain": [
       "Chi2ContingencyResult(statistic=0.8044653884871102, pvalue=0.6688250958318906, dof=2, expected_freq=array([[64.48224112, 64.41775888],\n",
       "       [26.86343172, 26.83656828],\n",
       "       [ 8.65432716,  8.64567284]]))"
      ]
     },
     "execution_count": 31,
     "metadata": {},
     "output_type": "execute_result"
    }
   ],
   "source": [
    "stats.chi2_contingency(response_type_local_effect)\n"
   ]
  },
  {
   "cell_type": "code",
   "execution_count": 32,
   "metadata": {},
   "outputs": [
    {
     "data": {
      "text/plain": [
       "<matplotlib.legend.Legend at 0x17a333880>"
      ]
     },
     "execution_count": 32,
     "metadata": {},
     "output_type": "execute_result"
    },
    {
     "data": {
      "image/png": "[encoded data removed]",
      "text/plain": [
       "<Figure size 1200x800 with 1 Axes>"
      ]
     },
     "metadata": {},
     "output_type": "display_data"
    }
   ],
   "source": [
    "# Plotting local effects of local practices.\n",
    "plt.rcParams['font.sans-serif'] = ['Helvetica']\n",
    "plt.rcParams.update({'font.size': 20})\n",
    "\n",
    "ax10 = (\n",
    "    lit_review_data.groupby([\"response_type\"])[[\"landscape_effect\"]]\n",
    "    .value_counts(normalize=True)\n",
    "    .mul(100)\n",
    "    .round(1)\n",
    "    .unstack()[[\"NS\", \"Positive\", \"Negative\"]]\n",
    "    .plot(\n",
    "        kind=\"bar\",\n",
    "        width=0.75,\n",
    "        colormap=\"crest\",\n",
    "        #title=\"Effects of Landscape Complexity on Response Type\",\n",
    "        #ylabel=\"Percent of Observations\",\n",
    "        #xlabel=\"Response Type\",\n",
    "        rot=0,\n",
    "        figsize=(12, 8),\n",
    "    )\n",
    ")\n",
    "\n",
    "plt.xlabel(None)\n",
    "#ax10.get_yaxis().set_ticks([])\n",
    "plt.ylim(0,75)\n",
    "\n",
    "for container in ax10.containers:\n",
    "    ax10.bar_label(container, fontsize=20, fmt=\"%d\")\n",
    "\n",
    "ax10.xaxis.labelpad = 100\n",
    "\n",
    "ax10.legend(title=\"Effect\")\n"
   ]
  },
  {
   "cell_type": "code",
   "execution_count": 33,
   "metadata": {},
   "outputs": [
    {
     "data": {
      "text/html": [
       "<div>\n",
       "<style scoped>\n",
       "    .dataframe tbody tr th:only-of-type {\n",
       "        vertical-align: middle;\n",
       "    }\n",
       "\n",
       "    .dataframe tbody tr th {\n",
       "        vertical-align: top;\n",
       "    }\n",
       "\n",
       "    .dataframe thead th {\n",
       "        text-align: right;\n",
       "    }\n",
       "</style>\n",
       "<table border=\"1\" class=\"dataframe\">\n",
       "  <thead>\n",
       "    <tr style=\"text-align: right;\">\n",
       "      <th>response_type</th>\n",
       "      <th>Biodiversity</th>\n",
       "      <th>Ecosystem services</th>\n",
       "    </tr>\n",
       "    <tr>\n",
       "      <th>landscape_effect</th>\n",
       "      <th></th>\n",
       "      <th></th>\n",
       "    </tr>\n",
       "  </thead>\n",
       "  <tbody>\n",
       "    <tr>\n",
       "      <th>NS</th>\n",
       "      <td>67.0</td>\n",
       "      <td>68.9</td>\n",
       "    </tr>\n",
       "    <tr>\n",
       "      <th>Positive</th>\n",
       "      <td>23.3</td>\n",
       "      <td>20.0</td>\n",
       "    </tr>\n",
       "    <tr>\n",
       "      <th>Negative</th>\n",
       "      <td>9.8</td>\n",
       "      <td>11.1</td>\n",
       "    </tr>\n",
       "  </tbody>\n",
       "</table>\n",
       "</div>"
      ],
      "text/plain": [
       "response_type     Biodiversity  Ecosystem services\n",
       "landscape_effect                                  \n",
       "NS                        67.0                68.9\n",
       "Positive                  23.3                20.0\n",
       "Negative                   9.8                11.1"
      ]
     },
     "execution_count": 33,
     "metadata": {},
     "output_type": "execute_result"
    }
   ],
   "source": [
    "response_type_landscape_effect = (\n",
    "    lit_review_data.groupby([\"response_type\"])[[\"landscape_effect\"]]\n",
    "    .value_counts(normalize=True)\n",
    "    .mul(100)\n",
    "    .round(1)\n",
    "    .unstack()[[\"NS\", \"Positive\", \"Negative\"]]\n",
    "    .T\n",
    ")\n",
    "\n",
    "response_type_landscape_effect\n"
   ]
  },
  {
   "cell_type": "code",
   "execution_count": 34,
   "metadata": {},
   "outputs": [
    {
     "data": {
      "text/plain": [
       "Power_divergenceResult(statistic=array([53.58421578, 58.1126    ]), pvalue=array([2.31385097e-12, 2.40441399e-13]))"
      ]
     },
     "execution_count": 34,
     "metadata": {},
     "output_type": "execute_result"
    }
   ],
   "source": [
    "stats.chisquare(response_type_landscape_effect)\n"
   ]
  },
  {
   "cell_type": "code",
   "execution_count": 35,
   "metadata": {},
   "outputs": [
    {
     "data": {
      "text/plain": [
       "Power_divergenceResult(statistic=array([0.02656365, 0.25150115, 0.08086124]), pvalue=array([0.87053136, 0.61602005, 0.77613365]))"
      ]
     },
     "execution_count": 35,
     "metadata": {},
     "output_type": "execute_result"
    }
   ],
   "source": [
    "stats.chisquare(response_type_landscape_effect.T)\n"
   ]
  },
  {
   "cell_type": "code",
   "execution_count": 36,
   "metadata": {},
   "outputs": [
    {
     "data": {
      "text/plain": [
       "Chi2ContingencyResult(statistic=0.3588761631129029, pvalue=0.8357396970423747, dof=2, expected_freq=array([[67.98395802, 67.91604198],\n",
       "       [21.66081959, 21.63918041],\n",
       "       [10.45522239, 10.44477761]]))"
      ]
     },
     "execution_count": 36,
     "metadata": {},
     "output_type": "execute_result"
    }
   ],
   "source": [
    "stats.chi2_contingency(response_type_landscape_effect)\n"
   ]
  },
  {
   "attachments": {},
   "cell_type": "markdown",
   "metadata": {},
   "source": [
    "**Mako Color Hex Codes**\n",
    "\n",
    "- '0B0405'  \n",
    "- '357BA3'  \n",
    "- 'DEF5E5'"
   ]
  },
  {
   "cell_type": "code",
   "execution_count": 37,
   "metadata": {},
   "outputs": [],
   "source": [
    "lit_review_data.insert(\n",
    "    loc=14,\n",
    "    column=\"gradient_range\",\n",
    "    value=lit_review_data[\"maximum_complexity\"] - lit_review_data[\"minimum_complexity\"],\n",
    ")\n"
   ]
  },
  {
   "cell_type": "code",
   "execution_count": 38,
   "metadata": {},
   "outputs": [
    {
     "data": {
      "text/plain": [
       "Text(0, 0.5, 'Number of observations')"
      ]
     },
     "execution_count": 38,
     "metadata": {},
     "output_type": "execute_result"
    },
    {
     "data": {
      "image/png": "[encoded data removed]",
      "text/plain": [
       "<Figure size 1200x800 with 1 Axes>"
      ]
     },
     "metadata": {},
     "output_type": "display_data"
    }
   ],
   "source": [
    "plt.rcParams['font.sans-serif'] = ['Helvetica']\n",
    "plt.rcParams.update({'font.size': 20})\n",
    "\n",
    "plt.figure(figsize=(12, 8))\n",
    "#plt.title(\"Distribution of landscape complexity ranges\")\n",
    "\n",
    "plt.hist(\n",
    "    lit_review_data[\"gradient_range\"], alpha=1, bins=25, color=\"#0B0405\"\n",
    ")\n",
    "\n",
    "plt.xlabel(\"Landscape complexity range (%)\")\n",
    "plt.ylabel(\"Number of observations\")\n"
   ]
  },
  {
   "cell_type": "code",
   "execution_count": 39,
   "metadata": {},
   "outputs": [
    {
     "data": {
      "image/png": "[encoded data removed]",
      "text/plain": [
       "<Figure size 1200x800 with 1 Axes>"
      ]
     },
     "metadata": {},
     "output_type": "display_data"
    }
   ],
   "source": [
    "# Gradient ranges for local effect observations\n",
    "\n",
    "plt.rcParams['font.sans-serif'] = ['Helvetica']\n",
    "plt.rcParams.update({'font.size': 20})\n",
    "\n",
    "plt.figure(figsize=(12, 8))\n",
    "#plt.title(\"Landscape Complexity Ranges for Local Effect Observations\")\n",
    "\n",
    "plt.hist(\n",
    "    lit_review_data.where(lit_review_data[\"local_effect\"] == \"NS\")[\"gradient_range\"],\n",
    "    alpha=1,\n",
    "    label=\"NS\",\n",
    "    bins=25,\n",
    "    color=\"#9ACF89\",\n",
    ")\n",
    "\n",
    "plt.hist(\n",
    "    lit_review_data.where(lit_review_data[\"local_effect\"] == \"Positive\")[\n",
    "        \"gradient_range\"\n",
    "    ],\n",
    "    alpha=0.75,\n",
    "    label=\"Positive\",\n",
    "    bins=25,\n",
    "    color=\"#00878F\",\n",
    ")\n",
    "\n",
    "plt.hist(\n",
    "    lit_review_data.where(lit_review_data[\"local_effect\"] == \"Negative\")[\n",
    "        \"gradient_range\"\n",
    "    ],\n",
    "    alpha=0.85,\n",
    "    label=\"Negative\",\n",
    "    bins=25,\n",
    "    color=\"#2B3276\",\n",
    ")\n",
    "\n",
    "plt.legend(title=\"Effect\", loc=\"upper right\")\n",
    "plt.xlabel(\"Landscape complexity range (%)\")\n",
    "plt.ylabel(\"Number of observations\")\n",
    "plt.show()\n"
   ]
  },
  {
   "cell_type": "code",
   "execution_count": 40,
   "metadata": {},
   "outputs": [
    {
     "data": {
      "image/png": "[encoded data removed]",
      "text/plain": [
       "<Figure size 1200x800 with 1 Axes>"
      ]
     },
     "metadata": {},
     "output_type": "display_data"
    }
   ],
   "source": [
    "# Gradient ranges for landscape complexity effect observations\n",
    "\n",
    "plt.figure(figsize=(12, 8))\n",
    "#plt.title(\"Landscape Complexity Ranges for Landscape Complexity Effect Observations\")\n",
    "\n",
    "plt.hist(\n",
    "    lit_review_data.where(lit_review_data[\"landscape_effect\"] == \"NS\")[\n",
    "        \"gradient_range\"\n",
    "    ],\n",
    "    alpha=1,\n",
    "    label=\"NS\",\n",
    "    bins=25,\n",
    "    color=\"#9ACF89\",\n",
    ")\n",
    "\n",
    "plt.hist(\n",
    "    lit_review_data.where(lit_review_data[\"landscape_effect\"] == \"Positive\")[\n",
    "        \"gradient_range\"\n",
    "    ],\n",
    "    alpha=0.75,\n",
    "    label=\"Positive\",\n",
    "    bins=25,\n",
    "    color=\"#00878F\",\n",
    ")\n",
    "\n",
    "plt.hist(\n",
    "    lit_review_data.where(lit_review_data[\"landscape_effect\"] == \"Negative\")[\n",
    "        \"gradient_range\"\n",
    "    ],\n",
    "    alpha=0.85,\n",
    "    label=\"Negative\",\n",
    "    bins=25,\n",
    "    color=\"#2B3276\",\n",
    ")\n",
    "\n",
    "#plt.legend(title=\"Effect\", loc=\"upper right\")\n",
    "plt.xlabel(\"Landscape complexity range (%)\")\n",
    "plt.ylabel(\"Number of observations\")\n",
    "plt.show()\n",
    "\n",
    "\n"
   ]
  },
  {
   "cell_type": "code",
   "execution_count": 41,
   "metadata": {},
   "outputs": [
    {
     "data": {
      "image/png": "[encoded data removed]",
      "text/plain": [
       "<Figure size 1200x800 with 1 Axes>"
      ]
     },
     "metadata": {},
     "output_type": "display_data"
    }
   ],
   "source": [
    "# Gradient ranges for interaction effect\n",
    "\n",
    "plt.figure(figsize=(12, 8))\n",
    "#plt.title(\"Landscape Complexity Ranges for Interaction Effect Observations\")\n",
    "\n",
    "plt.hist(\n",
    "    lit_review_data.where(lit_review_data[\"interaction_effect\"] == \"NS\")[\n",
    "        \"gradient_range\"\n",
    "    ],\n",
    "    alpha=1,\n",
    "    label=\"NS\",\n",
    "    bins=25,\n",
    "    color=\"#9ACF89\",\n",
    ")\n",
    "\n",
    "plt.hist(\n",
    "    lit_review_data.where(lit_review_data[\"interaction_effect\"] == \"S\")[\n",
    "        \"gradient_range\"\n",
    "    ],\n",
    "    alpha=0.95,\n",
    "    label=\"S\",\n",
    "    bins=25,\n",
    "    color=\"#0B0405\",\n",
    ")\n",
    "\n",
    "plt.legend(title=\"Effect\", loc=\"upper right\")\n",
    "plt.xlabel(\"Landscape complexity range (%)\")\n",
    "plt.ylabel(\"Number of observations\")\n",
    "plt.show()\n"
   ]
  },
  {
   "cell_type": "code",
   "execution_count": 42,
   "metadata": {},
   "outputs": [
    {
     "data": {
      "text/plain": [
       "57.87    24\n",
       "80.00    24\n",
       "30.00    23\n",
       "28.00    22\n",
       "55.00    22\n",
       "         ..\n",
       "53.40     1\n",
       "51.00     1\n",
       "47.00     1\n",
       "32.80     1\n",
       "6.00      1\n",
       "Name: gradient_range, Length: 72, dtype: int64"
      ]
     },
     "execution_count": 42,
     "metadata": {},
     "output_type": "execute_result"
    }
   ],
   "source": [
    "gradient_range_array = lit_review_data.gradient_range.sort_values(ascending=True)\n",
    "\n",
    "gradient_range_array[np.logical_not(np.isnan(gradient_range_array))].value_counts()\n"
   ]
  },
  {
   "cell_type": "code",
   "execution_count": 43,
   "metadata": {},
   "outputs": [
    {
     "data": {
      "text/html": [
       "<div>\n",
       "<style scoped>\n",
       "    .dataframe tbody tr th:only-of-type {\n",
       "        vertical-align: middle;\n",
       "    }\n",
       "\n",
       "    .dataframe tbody tr th {\n",
       "        vertical-align: top;\n",
       "    }\n",
       "\n",
       "    .dataframe thead th {\n",
       "        text-align: right;\n",
       "    }\n",
       "</style>\n",
       "<table border=\"1\" class=\"dataframe\">\n",
       "  <thead>\n",
       "    <tr style=\"text-align: right;\">\n",
       "      <th></th>\n",
       "      <th>Obs_ID</th>\n",
       "      <th>Title</th>\n",
       "      <th>Author</th>\n",
       "      <th>Year</th>\n",
       "      <th>Comparison</th>\n",
       "      <th>Response</th>\n",
       "      <th>Sample Size</th>\n",
       "      <th>Unit</th>\n",
       "      <th>Response Type</th>\n",
       "      <th>Response Category</th>\n",
       "      <th>...</th>\n",
       "      <th>Landscape Effect</th>\n",
       "      <th>Interaction Details</th>\n",
       "      <th>Interaction Effect</th>\n",
       "      <th>Simple_Collapsed</th>\n",
       "      <th>Intermediate_Collapsed</th>\n",
       "      <th>Complex_Collapsed</th>\n",
       "      <th>Simple</th>\n",
       "      <th>Intermediate</th>\n",
       "      <th>Complex</th>\n",
       "      <th>Description</th>\n",
       "    </tr>\n",
       "  </thead>\n",
       "  <tbody>\n",
       "    <tr>\n",
       "      <th>0</th>\n",
       "      <td>Obs_1</td>\n",
       "      <td>Agricultural intensification and biodiversity ...</td>\n",
       "      <td>Flohre et al.</td>\n",
       "      <td>2011</td>\n",
       "      <td>Conventional</td>\n",
       "      <td>Beta diversity (carabids)</td>\n",
       "      <td>1350</td>\n",
       "      <td>Fields</td>\n",
       "      <td>Biodiversity</td>\n",
       "      <td>Natural enemy</td>\n",
       "      <td>...</td>\n",
       "      <td>NS</td>\n",
       "      <td>Medium intensity has a negative effect on dive...</td>\n",
       "      <td>More negative local effect in complex landscapes</td>\n",
       "      <td>NP</td>\n",
       "      <td>NP</td>\n",
       "      <td>NP</td>\n",
       "      <td>NS</td>\n",
       "      <td>Negative</td>\n",
       "      <td>NS</td>\n",
       "      <td>β diversities of carabids were only decreased ...</td>\n",
       "    </tr>\n",
       "    <tr>\n",
       "      <th>1</th>\n",
       "      <td>Obs_2</td>\n",
       "      <td>Agricultural landscape composition affects the...</td>\n",
       "      <td>Gervais et al.</td>\n",
       "      <td>2020</td>\n",
       "      <td>Conventional</td>\n",
       "      <td>Pollen load diversity</td>\n",
       "      <td>80</td>\n",
       "      <td>Colonies</td>\n",
       "      <td>Ecosystem Services</td>\n",
       "      <td>Pollinator</td>\n",
       "      <td>...</td>\n",
       "      <td>NS</td>\n",
       "      <td>Positive when local species richness was high,...</td>\n",
       "      <td>More positive local effect in complex landscapes</td>\n",
       "      <td>NP</td>\n",
       "      <td>Positive</td>\n",
       "      <td>Positive</td>\n",
       "      <td>Negative</td>\n",
       "      <td>Positive</td>\n",
       "      <td>Positive</td>\n",
       "      <td>Landscape composition as well as local floral ...</td>\n",
       "    </tr>\n",
       "    <tr>\n",
       "      <th>2</th>\n",
       "      <td>Obs_3</td>\n",
       "      <td>Agroecological farming, flowering phenology an...</td>\n",
       "      <td>Monticelli et al.</td>\n",
       "      <td>2022</td>\n",
       "      <td>Control</td>\n",
       "      <td>Seed yield/plant C. segetum</td>\n",
       "      <td>114</td>\n",
       "      <td>Plants</td>\n",
       "      <td>Ecosystem Services</td>\n",
       "      <td>Crop</td>\n",
       "      <td>...</td>\n",
       "      <td>Positive</td>\n",
       "      <td>Positive effect of local factor in more comple...</td>\n",
       "      <td>More positive local effect in complex landscapes</td>\n",
       "      <td>NP</td>\n",
       "      <td>Positive</td>\n",
       "      <td>Positive</td>\n",
       "      <td>NS</td>\n",
       "      <td>Positive</td>\n",
       "      <td>Positive</td>\n",
       "      <td>C. segetum seed yield increased with flowering...</td>\n",
       "    </tr>\n",
       "    <tr>\n",
       "      <th>3</th>\n",
       "      <td>Obs_4</td>\n",
       "      <td>Agroecological farming, flowering phenology an...</td>\n",
       "      <td>Monticelli et al.</td>\n",
       "      <td>2022</td>\n",
       "      <td>Control</td>\n",
       "      <td>Pollinator abundance C. segetum</td>\n",
       "      <td>16</td>\n",
       "      <td>Sites</td>\n",
       "      <td>Biodiversity</td>\n",
       "      <td>Pollinator</td>\n",
       "      <td>...</td>\n",
       "      <td>Negative</td>\n",
       "      <td>Positive effect of local factor in more simple...</td>\n",
       "      <td>More positive local effect in simple landscapes</td>\n",
       "      <td>Positive</td>\n",
       "      <td>Positive</td>\n",
       "      <td>NP</td>\n",
       "      <td>Positive</td>\n",
       "      <td>Positive</td>\n",
       "      <td>Negative</td>\n",
       "      <td>The abundance of pollinators on C. segetum rel...</td>\n",
       "    </tr>\n",
       "    <tr>\n",
       "      <th>4</th>\n",
       "      <td>Obs_5</td>\n",
       "      <td>Agroecological farming, flowering phenology an...</td>\n",
       "      <td>Monticelli et al.</td>\n",
       "      <td>2022</td>\n",
       "      <td>Control</td>\n",
       "      <td>Pollinator abundance C. jacea</td>\n",
       "      <td>16</td>\n",
       "      <td>Sites</td>\n",
       "      <td>Biodiversity</td>\n",
       "      <td>Pollinator</td>\n",
       "      <td>...</td>\n",
       "      <td>NS</td>\n",
       "      <td>Positive effect of local factor in more simple...</td>\n",
       "      <td>More positive local effect in simple landscapes</td>\n",
       "      <td>Positive</td>\n",
       "      <td>NP</td>\n",
       "      <td>NP</td>\n",
       "      <td>Positive</td>\n",
       "      <td>Negative</td>\n",
       "      <td>Negative</td>\n",
       "      <td>A significant interaction revealed that C. seg...</td>\n",
       "    </tr>\n",
       "    <tr>\n",
       "      <th>...</th>\n",
       "      <td>...</td>\n",
       "      <td>...</td>\n",
       "      <td>...</td>\n",
       "      <td>...</td>\n",
       "      <td>...</td>\n",
       "      <td>...</td>\n",
       "      <td>...</td>\n",
       "      <td>...</td>\n",
       "      <td>...</td>\n",
       "      <td>...</td>\n",
       "      <td>...</td>\n",
       "      <td>...</td>\n",
       "      <td>...</td>\n",
       "      <td>...</td>\n",
       "      <td>...</td>\n",
       "      <td>...</td>\n",
       "      <td>...</td>\n",
       "      <td>...</td>\n",
       "      <td>...</td>\n",
       "      <td>...</td>\n",
       "      <td>...</td>\n",
       "    </tr>\n",
       "    <tr>\n",
       "      <th>78</th>\n",
       "      <td>Obs_79</td>\n",
       "      <td>The effect of organic farming on butterfly div...</td>\n",
       "      <td>Rundlof &amp; Smith</td>\n",
       "      <td>2006</td>\n",
       "      <td>Conventional</td>\n",
       "      <td>Butterfly richness</td>\n",
       "      <td>12</td>\n",
       "      <td>Paired Fields</td>\n",
       "      <td>Biodiversity</td>\n",
       "      <td>Pollinator</td>\n",
       "      <td>...</td>\n",
       "      <td>Positive</td>\n",
       "      <td>More positive in homogenous ~30% non-arable land</td>\n",
       "      <td>More positive local effect in simple landscapes</td>\n",
       "      <td>Positive</td>\n",
       "      <td>NP</td>\n",
       "      <td>NP</td>\n",
       "      <td>Positive</td>\n",
       "      <td>NS</td>\n",
       "      <td>NS</td>\n",
       "      <td>Both species richness and abundance of butterf...</td>\n",
       "    </tr>\n",
       "    <tr>\n",
       "      <th>79</th>\n",
       "      <td>Obs_80</td>\n",
       "      <td>The effect of organic farming on butterfly div...</td>\n",
       "      <td>Rundlof &amp; Smith</td>\n",
       "      <td>2006</td>\n",
       "      <td>Conventional</td>\n",
       "      <td>Butterfly abundance</td>\n",
       "      <td>12</td>\n",
       "      <td>Paired Fields</td>\n",
       "      <td>Biodiversity</td>\n",
       "      <td>Pollinator</td>\n",
       "      <td>...</td>\n",
       "      <td>Positive</td>\n",
       "      <td>More positive in homogenous ~30% non-arable land</td>\n",
       "      <td>More positive local effect in simple landscapes</td>\n",
       "      <td>Positive</td>\n",
       "      <td>NP</td>\n",
       "      <td>NP</td>\n",
       "      <td>Positive</td>\n",
       "      <td>NS</td>\n",
       "      <td>NS</td>\n",
       "      <td>Both species richness and abundance of butterf...</td>\n",
       "    </tr>\n",
       "    <tr>\n",
       "      <th>80</th>\n",
       "      <td>Obs_81</td>\n",
       "      <td>The taxon- and functional trait-dependent effe...</td>\n",
       "      <td>Zhang et al.</td>\n",
       "      <td>2020</td>\n",
       "      <td>Control</td>\n",
       "      <td>Abundance (spider)</td>\n",
       "      <td>36</td>\n",
       "      <td>Fields</td>\n",
       "      <td>Biodiversity</td>\n",
       "      <td>Natural enemy</td>\n",
       "      <td>...</td>\n",
       "      <td>Negative</td>\n",
       "      <td>Positive in grassy and woodland margins, negat...</td>\n",
       "      <td>More positive local effect in complex landscapes</td>\n",
       "      <td>NP</td>\n",
       "      <td>NP</td>\n",
       "      <td>Positive</td>\n",
       "      <td>Negative</td>\n",
       "      <td>NS</td>\n",
       "      <td>Positive</td>\n",
       "      <td>An interaction effect between landscape compos...</td>\n",
       "    </tr>\n",
       "    <tr>\n",
       "      <th>81</th>\n",
       "      <td>Obs_82</td>\n",
       "      <td>Unpacking the push-pull system: Assessing the ...</td>\n",
       "      <td>Kebede et al.</td>\n",
       "      <td>2018</td>\n",
       "      <td>Control</td>\n",
       "      <td>Stemborer infestation</td>\n",
       "      <td>12</td>\n",
       "      <td>Fields</td>\n",
       "      <td>Biodiversity</td>\n",
       "      <td>Pest</td>\n",
       "      <td>...</td>\n",
       "      <td>Positive</td>\n",
       "      <td>More positive in intermediate landscapes.</td>\n",
       "      <td>More positive local effect in intermediate lan...</td>\n",
       "      <td>NP</td>\n",
       "      <td>Positive</td>\n",
       "      <td>NP</td>\n",
       "      <td>NS</td>\n",
       "      <td>Positive</td>\n",
       "      <td>NS</td>\n",
       "      <td>Highest length of tunnelling in the simple lan...</td>\n",
       "    </tr>\n",
       "    <tr>\n",
       "      <th>82</th>\n",
       "      <td>Obs_83</td>\n",
       "      <td>Unpacking the push-pull system: Assessing the ...</td>\n",
       "      <td>Kebede et al.</td>\n",
       "      <td>2018</td>\n",
       "      <td>Control</td>\n",
       "      <td>Predator abundance</td>\n",
       "      <td>12</td>\n",
       "      <td>Fields</td>\n",
       "      <td>Biodiversity</td>\n",
       "      <td>Natural enemy</td>\n",
       "      <td>...</td>\n",
       "      <td>NS</td>\n",
       "      <td>More positive in simple landscapes.</td>\n",
       "      <td>More positive local effect in simple landscapes</td>\n",
       "      <td>Positive</td>\n",
       "      <td>Positive</td>\n",
       "      <td>Positive</td>\n",
       "      <td>Positive</td>\n",
       "      <td>Positive</td>\n",
       "      <td>Positive</td>\n",
       "      <td>The interaction between landscape and the pres...</td>\n",
       "    </tr>\n",
       "  </tbody>\n",
       "</table>\n",
       "<p>83 rows × 25 columns</p>\n",
       "</div>"
      ],
      "text/plain": [
       "    Obs_ID                                              Title  \\\n",
       "0    Obs_1  Agricultural intensification and biodiversity ...   \n",
       "1    Obs_2  Agricultural landscape composition affects the...   \n",
       "2    Obs_3  Agroecological farming, flowering phenology an...   \n",
       "3    Obs_4  Agroecological farming, flowering phenology an...   \n",
       "4    Obs_5  Agroecological farming, flowering phenology an...   \n",
       "..     ...                                                ...   \n",
       "78  Obs_79  The effect of organic farming on butterfly div...   \n",
       "79  Obs_80  The effect of organic farming on butterfly div...   \n",
       "80  Obs_81  The taxon- and functional trait-dependent effe...   \n",
       "81  Obs_82  Unpacking the push-pull system: Assessing the ...   \n",
       "82  Obs_83  Unpacking the push-pull system: Assessing the ...   \n",
       "\n",
       "               Author  Year    Comparison                         Response  \\\n",
       "0      Flohre et al.   2011  Conventional       Beta diversity (carabids)    \n",
       "1      Gervais et al.  2020  Conventional            Pollen load diversity   \n",
       "2   Monticelli et al.  2022       Control      Seed yield/plant C. segetum   \n",
       "3   Monticelli et al.  2022       Control  Pollinator abundance C. segetum   \n",
       "4   Monticelli et al.  2022       Control    Pollinator abundance C. jacea   \n",
       "..                ...   ...           ...                              ...   \n",
       "78    Rundlof & Smith  2006  Conventional               Butterfly richness   \n",
       "79    Rundlof & Smith  2006  Conventional              Butterfly abundance   \n",
       "80       Zhang et al.  2020       Control               Abundance (spider)   \n",
       "81      Kebede et al.  2018       Control            Stemborer infestation   \n",
       "82      Kebede et al.  2018       Control               Predator abundance   \n",
       "\n",
       "    Sample Size           Unit       Response Type Response Category  ...  \\\n",
       "0          1350         Fields        Biodiversity     Natural enemy  ...   \n",
       "1            80       Colonies  Ecosystem Services        Pollinator  ...   \n",
       "2           114         Plants  Ecosystem Services              Crop  ...   \n",
       "3            16          Sites        Biodiversity        Pollinator  ...   \n",
       "4            16          Sites        Biodiversity        Pollinator  ...   \n",
       "..          ...            ...                 ...               ...  ...   \n",
       "78           12  Paired Fields        Biodiversity        Pollinator  ...   \n",
       "79           12  Paired Fields        Biodiversity        Pollinator  ...   \n",
       "80           36         Fields        Biodiversity     Natural enemy  ...   \n",
       "81           12         Fields        Biodiversity              Pest  ...   \n",
       "82           12         Fields        Biodiversity     Natural enemy  ...   \n",
       "\n",
       "   Landscape Effect                                Interaction Details  \\\n",
       "0                NS  Medium intensity has a negative effect on dive...   \n",
       "1                NS  Positive when local species richness was high,...   \n",
       "2          Positive  Positive effect of local factor in more comple...   \n",
       "3          Negative  Positive effect of local factor in more simple...   \n",
       "4                NS  Positive effect of local factor in more simple...   \n",
       "..              ...                                                ...   \n",
       "78         Positive   More positive in homogenous ~30% non-arable land   \n",
       "79         Positive   More positive in homogenous ~30% non-arable land   \n",
       "80         Negative  Positive in grassy and woodland margins, negat...   \n",
       "81         Positive         More positive in intermediate landscapes.    \n",
       "82               NS               More positive in simple landscapes.    \n",
       "\n",
       "                                   Interaction Effect Simple_Collapsed  \\\n",
       "0    More negative local effect in complex landscapes               NP   \n",
       "1    More positive local effect in complex landscapes               NP   \n",
       "2    More positive local effect in complex landscapes               NP   \n",
       "3     More positive local effect in simple landscapes         Positive   \n",
       "4     More positive local effect in simple landscapes         Positive   \n",
       "..                                                ...              ...   \n",
       "78    More positive local effect in simple landscapes         Positive   \n",
       "79    More positive local effect in simple landscapes         Positive   \n",
       "80   More positive local effect in complex landscapes               NP   \n",
       "81  More positive local effect in intermediate lan...               NP   \n",
       "82    More positive local effect in simple landscapes         Positive   \n",
       "\n",
       "   Intermediate_Collapsed Complex_Collapsed    Simple Intermediate   Complex  \\\n",
       "0                      NP                NP        NS     Negative        NS   \n",
       "1                Positive          Positive  Negative     Positive  Positive   \n",
       "2                Positive          Positive        NS     Positive  Positive   \n",
       "3                Positive                NP  Positive     Positive  Negative   \n",
       "4                      NP                NP  Positive     Negative  Negative   \n",
       "..                    ...               ...       ...          ...       ...   \n",
       "78                     NP                NP  Positive           NS        NS   \n",
       "79                     NP                NP  Positive           NS        NS   \n",
       "80                     NP          Positive  Negative           NS  Positive   \n",
       "81               Positive                NP        NS     Positive        NS   \n",
       "82               Positive          Positive  Positive     Positive  Positive   \n",
       "\n",
       "                                          Description  \n",
       "0   β diversities of carabids were only decreased ...  \n",
       "1   Landscape composition as well as local floral ...  \n",
       "2   C. segetum seed yield increased with flowering...  \n",
       "3   The abundance of pollinators on C. segetum rel...  \n",
       "4   A significant interaction revealed that C. seg...  \n",
       "..                                                ...  \n",
       "78  Both species richness and abundance of butterf...  \n",
       "79  Both species richness and abundance of butterf...  \n",
       "80  An interaction effect between landscape compos...  \n",
       "81  Highest length of tunnelling in the simple lan...  \n",
       "82  The interaction between landscape and the pres...  \n",
       "\n",
       "[83 rows x 25 columns]"
      ]
     },
     "execution_count": 43,
     "metadata": {},
     "output_type": "execute_result"
    }
   ],
   "source": [
    "interaction_data = pd.read_csv(\"lit_review_interactions.csv\")\n",
    "interaction_data\n"
   ]
  },
  {
   "cell_type": "code",
   "execution_count": 44,
   "metadata": {},
   "outputs": [
    {
     "data": {
      "text/plain": [
       "<matplotlib.legend.Legend at 0x17a72a730>"
      ]
     },
     "execution_count": 44,
     "metadata": {},
     "output_type": "execute_result"
    },
    {
     "data": {
      "image/png": "[encoded data removed]",
      "text/plain": [
       "<Figure size 1600x900 with 1 Axes>"
      ]
     },
     "metadata": {},
     "output_type": "display_data"
    }
   ],
   "source": [
    "plt.rcParams['font.sans-serif'] = ['Helvetica']\n",
    "plt.rcParams.update({'font.size': 16})\n",
    "\n",
    "ax11 = (\n",
    "    interaction_data[[\"Simple\", \"Intermediate\", \"Complex\"]]\n",
    "    .apply(pd.Series.value_counts)\n",
    "    .T[[\"NS\", \"Positive\", \"Negative\"]]\n",
    "    .plot(\n",
    "        kind=\"bar\",\n",
    "        colormap=\"crest\",\n",
    "        width=0.75,\n",
    "        #title=\"Significant local and landscape interaction observations\",\n",
    "        ylabel=\"Number of observations\",\n",
    "        xlabel=\"Landscape complexity category\",\n",
    "        rot=0,\n",
    "        figsize=(16, 9),\n",
    "    )\n",
    ")\n",
    "\n",
    "ax11.xaxis.labelpad = 100\n",
    "\n",
    "for container in ax11.containers:\n",
    "    ax11.bar_label(container, fontsize=16)\n",
    "\n",
    "ax11.legend(title=\"Effect\")\n"
   ]
  },
  {
   "cell_type": "code",
   "execution_count": 45,
   "metadata": {},
   "outputs": [
    {
     "data": {
      "text/html": [
       "<div>\n",
       "<style scoped>\n",
       "    .dataframe tbody tr th:only-of-type {\n",
       "        vertical-align: middle;\n",
       "    }\n",
       "\n",
       "    .dataframe tbody tr th {\n",
       "        vertical-align: top;\n",
       "    }\n",
       "\n",
       "    .dataframe thead th {\n",
       "        text-align: right;\n",
       "    }\n",
       "</style>\n",
       "<table border=\"1\" class=\"dataframe\">\n",
       "  <thead>\n",
       "    <tr style=\"text-align: right;\">\n",
       "      <th></th>\n",
       "      <th>Simple</th>\n",
       "      <th>Intermediate</th>\n",
       "      <th>Complex</th>\n",
       "    </tr>\n",
       "  </thead>\n",
       "  <tbody>\n",
       "    <tr>\n",
       "      <th>NS</th>\n",
       "      <td>22</td>\n",
       "      <td>28</td>\n",
       "      <td>19</td>\n",
       "    </tr>\n",
       "    <tr>\n",
       "      <th>Positive</th>\n",
       "      <td>47</td>\n",
       "      <td>49</td>\n",
       "      <td>47</td>\n",
       "    </tr>\n",
       "    <tr>\n",
       "      <th>Negative</th>\n",
       "      <td>14</td>\n",
       "      <td>6</td>\n",
       "      <td>17</td>\n",
       "    </tr>\n",
       "  </tbody>\n",
       "</table>\n",
       "</div>"
      ],
      "text/plain": [
       "          Simple  Intermediate  Complex\n",
       "NS            22            28       19\n",
       "Positive      47            49       47\n",
       "Negative      14             6       17"
      ]
     },
     "execution_count": 45,
     "metadata": {},
     "output_type": "execute_result"
    }
   ],
   "source": [
    "all_interactions = (\n",
    "    interaction_data[[\"Simple\", \"Intermediate\", \"Complex\"]]\n",
    "    .apply(pd.Series.value_counts)\n",
    "    .T[[\"NS\", \"Positive\", \"Negative\"]]\n",
    "    .T\n",
    ")\n",
    "\n",
    "all_interactions\n"
   ]
  },
  {
   "cell_type": "code",
   "execution_count": 46,
   "metadata": {},
   "outputs": [
    {
     "data": {
      "text/plain": [
       "Power_divergenceResult(statistic=array([21.42168675, 33.42168675, 20.3373494 ]), pvalue=array([2.23017954e-05, 5.52806238e-08, 3.83531192e-05]))"
      ]
     },
     "execution_count": 46,
     "metadata": {},
     "output_type": "execute_result"
    }
   ],
   "source": [
    "stats.chisquare(all_interactions)\n"
   ]
  },
  {
   "cell_type": "code",
   "execution_count": 47,
   "metadata": {},
   "outputs": [
    {
     "data": {
      "text/plain": [
       "Power_divergenceResult(statistic=array([1.82608696, 0.05594406, 5.24324324]), pvalue=array([0.40130101, 0.97241557, 0.0726849 ]))"
      ]
     },
     "execution_count": 47,
     "metadata": {},
     "output_type": "execute_result"
    }
   ],
   "source": [
    "stats.chisquare(all_interactions.T)\n"
   ]
  },
  {
   "cell_type": "code",
   "execution_count": 48,
   "metadata": {},
   "outputs": [
    {
     "data": {
      "text/html": [
       "<div>\n",
       "<style scoped>\n",
       "    .dataframe tbody tr th:only-of-type {\n",
       "        vertical-align: middle;\n",
       "    }\n",
       "\n",
       "    .dataframe tbody tr th {\n",
       "        vertical-align: top;\n",
       "    }\n",
       "\n",
       "    .dataframe thead th {\n",
       "        text-align: right;\n",
       "    }\n",
       "</style>\n",
       "<table border=\"1\" class=\"dataframe\">\n",
       "  <thead>\n",
       "    <tr style=\"text-align: right;\">\n",
       "      <th></th>\n",
       "      <th>Simple</th>\n",
       "      <th>Intermediate</th>\n",
       "      <th>Complex</th>\n",
       "    </tr>\n",
       "  </thead>\n",
       "  <tbody>\n",
       "    <tr>\n",
       "      <th>NS</th>\n",
       "      <td>0.0</td>\n",
       "      <td>2.0</td>\n",
       "      <td>0.0</td>\n",
       "    </tr>\n",
       "    <tr>\n",
       "      <th>Positive</th>\n",
       "      <td>3.0</td>\n",
       "      <td>2.0</td>\n",
       "      <td>3.0</td>\n",
       "    </tr>\n",
       "    <tr>\n",
       "      <th>Negative</th>\n",
       "      <td>1.0</td>\n",
       "      <td>0.0</td>\n",
       "      <td>1.0</td>\n",
       "    </tr>\n",
       "  </tbody>\n",
       "</table>\n",
       "</div>"
      ],
      "text/plain": [
       "          Simple  Intermediate  Complex\n",
       "NS           0.0           2.0      0.0\n",
       "Positive     3.0           2.0      3.0\n",
       "Negative     1.0           0.0      1.0"
      ]
     },
     "execution_count": 48,
     "metadata": {},
     "output_type": "execute_result"
    }
   ],
   "source": [
    "arthropod_interactions = (\n",
    "    interaction_data.where(interaction_data[\"Response Category\"] == \"Arthropod\")[\n",
    "        [\"Simple\", \"Intermediate\", \"Complex\"]\n",
    "    ]\n",
    "    .apply(pd.Series.value_counts)\n",
    "    .T[[\"NS\", \"Positive\", \"Negative\"]]\n",
    "    .fillna(0)\n",
    "    .T\n",
    ")\n",
    "\n",
    "arthropod_interactions\n"
   ]
  },
  {
   "cell_type": "code",
   "execution_count": 49,
   "metadata": {},
   "outputs": [
    {
     "data": {
      "text/plain": [
       "Power_divergenceResult(statistic=array([3.5, 2. , 3.5]), pvalue=array([0.17377394, 0.36787944, 0.17377394]))"
      ]
     },
     "execution_count": 49,
     "metadata": {},
     "output_type": "execute_result"
    }
   ],
   "source": [
    "stats.chisquare(arthropod_interactions)\n"
   ]
  },
  {
   "cell_type": "code",
   "execution_count": 50,
   "metadata": {},
   "outputs": [
    {
     "data": {
      "text/plain": [
       "Power_divergenceResult(statistic=array([4.  , 0.25, 1.  ]), pvalue=array([0.13533528, 0.8824969 , 0.60653066]))"
      ]
     },
     "execution_count": 50,
     "metadata": {},
     "output_type": "execute_result"
    }
   ],
   "source": [
    "stats.chisquare(arthropod_interactions.T)\n"
   ]
  },
  {
   "cell_type": "code",
   "execution_count": 51,
   "metadata": {},
   "outputs": [
    {
     "data": {
      "text/plain": [
       "Chi2ContingencyResult(statistic=5.250000000000001, pvalue=0.2625941192491615, dof=4, expected_freq=array([[0.66666667, 0.66666667, 0.66666667],\n",
       "       [2.66666667, 2.66666667, 2.66666667],\n",
       "       [0.66666667, 0.66666667, 0.66666667]]))"
      ]
     },
     "execution_count": 51,
     "metadata": {},
     "output_type": "execute_result"
    }
   ],
   "source": [
    "stats.chi2_contingency(arthropod_interactions)\n"
   ]
  },
  {
   "cell_type": "code",
   "execution_count": 52,
   "metadata": {},
   "outputs": [
    {
     "data": {
      "text/html": [
       "<div>\n",
       "<style scoped>\n",
       "    .dataframe tbody tr th:only-of-type {\n",
       "        vertical-align: middle;\n",
       "    }\n",
       "\n",
       "    .dataframe tbody tr th {\n",
       "        vertical-align: top;\n",
       "    }\n",
       "\n",
       "    .dataframe thead th {\n",
       "        text-align: right;\n",
       "    }\n",
       "</style>\n",
       "<table border=\"1\" class=\"dataframe\">\n",
       "  <thead>\n",
       "    <tr style=\"text-align: right;\">\n",
       "      <th></th>\n",
       "      <th>Simple</th>\n",
       "      <th>Intermediate</th>\n",
       "      <th>Complex</th>\n",
       "    </tr>\n",
       "  </thead>\n",
       "  <tbody>\n",
       "    <tr>\n",
       "      <th>NS</th>\n",
       "      <td>4</td>\n",
       "      <td>5</td>\n",
       "      <td>2</td>\n",
       "    </tr>\n",
       "    <tr>\n",
       "      <th>Positive</th>\n",
       "      <td>1</td>\n",
       "      <td>4</td>\n",
       "      <td>6</td>\n",
       "    </tr>\n",
       "    <tr>\n",
       "      <th>Negative</th>\n",
       "      <td>5</td>\n",
       "      <td>1</td>\n",
       "      <td>2</td>\n",
       "    </tr>\n",
       "  </tbody>\n",
       "</table>\n",
       "</div>"
      ],
      "text/plain": [
       "          Simple  Intermediate  Complex\n",
       "NS             4             5        2\n",
       "Positive       1             4        6\n",
       "Negative       5             1        2"
      ]
     },
     "execution_count": 52,
     "metadata": {},
     "output_type": "execute_result"
    }
   ],
   "source": [
    "crop_interaction = (\n",
    "    interaction_data.where(interaction_data[\"Response Category\"] == \"Crop\")[\n",
    "        [\"Simple\", \"Intermediate\", \"Complex\"]\n",
    "    ]\n",
    "    .apply(pd.Series.value_counts)\n",
    "    .T[[\"NS\", \"Positive\", \"Negative\"]]\n",
    "    .T\n",
    ")\n",
    "\n",
    "crop_interaction\n"
   ]
  },
  {
   "cell_type": "code",
   "execution_count": 53,
   "metadata": {},
   "outputs": [
    {
     "data": {
      "text/plain": [
       "Power_divergenceResult(statistic=array([2.6, 2.6, 3.2]), pvalue=array([0.27253179, 0.27253179, 0.20189652]))"
      ]
     },
     "execution_count": 53,
     "metadata": {},
     "output_type": "execute_result"
    }
   ],
   "source": [
    "stats.chisquare(crop_interaction)\n"
   ]
  },
  {
   "cell_type": "code",
   "execution_count": 54,
   "metadata": {},
   "outputs": [
    {
     "data": {
      "text/plain": [
       "Power_divergenceResult(statistic=array([1.27272727, 3.45454545, 3.25      ]), pvalue=array([0.52921334, 0.17776857, 0.19691168]))"
      ]
     },
     "execution_count": 54,
     "metadata": {},
     "output_type": "execute_result"
    }
   ],
   "source": [
    "stats.chisquare(crop_interaction.T)\n"
   ]
  },
  {
   "cell_type": "code",
   "execution_count": 55,
   "metadata": {},
   "outputs": [
    {
     "data": {
      "text/plain": [
       "Chi2ContingencyResult(statistic=7.977272727272728, pvalue=0.09241428016463347, dof=4, expected_freq=array([[3.66666667, 3.66666667, 3.66666667],\n",
       "       [3.66666667, 3.66666667, 3.66666667],\n",
       "       [2.66666667, 2.66666667, 2.66666667]]))"
      ]
     },
     "execution_count": 55,
     "metadata": {},
     "output_type": "execute_result"
    }
   ],
   "source": [
    "stats.chi2_contingency(crop_interaction)\n"
   ]
  },
  {
   "cell_type": "code",
   "execution_count": 56,
   "metadata": {},
   "outputs": [
    {
     "data": {
      "text/html": [
       "<div>\n",
       "<style scoped>\n",
       "    .dataframe tbody tr th:only-of-type {\n",
       "        vertical-align: middle;\n",
       "    }\n",
       "\n",
       "    .dataframe tbody tr th {\n",
       "        vertical-align: top;\n",
       "    }\n",
       "\n",
       "    .dataframe thead th {\n",
       "        text-align: right;\n",
       "    }\n",
       "</style>\n",
       "<table border=\"1\" class=\"dataframe\">\n",
       "  <thead>\n",
       "    <tr style=\"text-align: right;\">\n",
       "      <th></th>\n",
       "      <th>Simple</th>\n",
       "      <th>Intermediate</th>\n",
       "      <th>Complex</th>\n",
       "    </tr>\n",
       "  </thead>\n",
       "  <tbody>\n",
       "    <tr>\n",
       "      <th>NS</th>\n",
       "      <td>4</td>\n",
       "      <td>6</td>\n",
       "      <td>6</td>\n",
       "    </tr>\n",
       "    <tr>\n",
       "      <th>Positive</th>\n",
       "      <td>18</td>\n",
       "      <td>16</td>\n",
       "      <td>13</td>\n",
       "    </tr>\n",
       "    <tr>\n",
       "      <th>Negative</th>\n",
       "      <td>2</td>\n",
       "      <td>2</td>\n",
       "      <td>5</td>\n",
       "    </tr>\n",
       "  </tbody>\n",
       "</table>\n",
       "</div>"
      ],
      "text/plain": [
       "          Simple  Intermediate  Complex\n",
       "NS             4             6        6\n",
       "Positive      18            16       13\n",
       "Negative       2             2        5"
      ]
     },
     "execution_count": 56,
     "metadata": {},
     "output_type": "execute_result"
    }
   ],
   "source": [
    "pollinator_interaction = (\n",
    "    interaction_data.where(interaction_data[\"Response Category\"] == \"Pollinator\")[\n",
    "        [\"Simple\", \"Intermediate\", \"Complex\"]\n",
    "    ]\n",
    "    .apply(pd.Series.value_counts)\n",
    "    .T[[\"NS\", \"Positive\", \"Negative\"]]\n",
    "    .T\n",
    ")\n",
    "\n",
    "pollinator_interaction\n"
   ]
  },
  {
   "cell_type": "code",
   "execution_count": 57,
   "metadata": {},
   "outputs": [
    {
     "data": {
      "text/plain": [
       "Power_divergenceResult(statistic=array([19.  , 13.  ,  4.75]), pvalue=array([7.48518299e-05, 1.50343919e-03, 9.30144892e-02]))"
      ]
     },
     "execution_count": 57,
     "metadata": {},
     "output_type": "execute_result"
    }
   ],
   "source": [
    "stats.chisquare(pollinator_interaction)\n"
   ]
  },
  {
   "cell_type": "code",
   "execution_count": 58,
   "metadata": {},
   "outputs": [
    {
     "data": {
      "text/plain": [
       "Power_divergenceResult(statistic=array([0.5       , 0.80851064, 2.        ]), pvalue=array([0.77880078, 0.66747368, 0.36787944]))"
      ]
     },
     "execution_count": 58,
     "metadata": {},
     "output_type": "execute_result"
    }
   ],
   "source": [
    "stats.chisquare(pollinator_interaction.T)\n"
   ]
  },
  {
   "cell_type": "code",
   "execution_count": 59,
   "metadata": {},
   "outputs": [
    {
     "data": {
      "text/plain": [
       "Chi2ContingencyResult(statistic=3.3085106382978724, pvalue=0.5075849533928345, dof=4, expected_freq=array([[ 5.33333333,  5.33333333,  5.33333333],\n",
       "       [15.66666667, 15.66666667, 15.66666667],\n",
       "       [ 3.        ,  3.        ,  3.        ]]))"
      ]
     },
     "execution_count": 59,
     "metadata": {},
     "output_type": "execute_result"
    }
   ],
   "source": [
    "stats.chi2_contingency(pollinator_interaction)\n"
   ]
  },
  {
   "cell_type": "code",
   "execution_count": 60,
   "metadata": {},
   "outputs": [
    {
     "data": {
      "text/html": [
       "<div>\n",
       "<style scoped>\n",
       "    .dataframe tbody tr th:only-of-type {\n",
       "        vertical-align: middle;\n",
       "    }\n",
       "\n",
       "    .dataframe tbody tr th {\n",
       "        vertical-align: top;\n",
       "    }\n",
       "\n",
       "    .dataframe thead th {\n",
       "        text-align: right;\n",
       "    }\n",
       "</style>\n",
       "<table border=\"1\" class=\"dataframe\">\n",
       "  <thead>\n",
       "    <tr style=\"text-align: right;\">\n",
       "      <th></th>\n",
       "      <th>Simple</th>\n",
       "      <th>Intermediate</th>\n",
       "      <th>Complex</th>\n",
       "    </tr>\n",
       "  </thead>\n",
       "  <tbody>\n",
       "    <tr>\n",
       "      <th>NS</th>\n",
       "      <td>12</td>\n",
       "      <td>12</td>\n",
       "      <td>9</td>\n",
       "    </tr>\n",
       "    <tr>\n",
       "      <th>Positive</th>\n",
       "      <td>21</td>\n",
       "      <td>23</td>\n",
       "      <td>23</td>\n",
       "    </tr>\n",
       "    <tr>\n",
       "      <th>Negative</th>\n",
       "      <td>5</td>\n",
       "      <td>3</td>\n",
       "      <td>6</td>\n",
       "    </tr>\n",
       "  </tbody>\n",
       "</table>\n",
       "</div>"
      ],
      "text/plain": [
       "          Simple  Intermediate  Complex\n",
       "NS            12            12        9\n",
       "Positive      21            23       23\n",
       "Negative       5             3        6"
      ]
     },
     "execution_count": 60,
     "metadata": {},
     "output_type": "execute_result"
    }
   ],
   "source": [
    "natural_enemy_interaction = (\n",
    "    interaction_data.where(interaction_data[\"Response Category\"] == \"Natural enemy\")[\n",
    "        [\"Simple\", \"Intermediate\", \"Complex\"]\n",
    "    ]\n",
    "    .apply(pd.Series.value_counts)\n",
    "    .T[[\"NS\", \"Positive\", \"Negative\"]]\n",
    "    .T\n",
    ")\n",
    "\n",
    "natural_enemy_interaction\n"
   ]
  },
  {
   "cell_type": "code",
   "execution_count": 61,
   "metadata": {},
   "outputs": [
    {
     "data": {
      "text/plain": [
       "Power_divergenceResult(statistic=array([10.15789474, 15.84210526, 13.        ]), pvalue=array([0.00622646, 0.00036302, 0.00150344]))"
      ]
     },
     "execution_count": 61,
     "metadata": {},
     "output_type": "execute_result"
    }
   ],
   "source": [
    "stats.chisquare(natural_enemy_interaction)\n"
   ]
  },
  {
   "cell_type": "code",
   "execution_count": 62,
   "metadata": {},
   "outputs": [
    {
     "data": {
      "text/plain": [
       "Power_divergenceResult(statistic=array([0.54545455, 0.11940299, 1.        ]), pvalue=array([0.76130039, 0.9420457 , 0.60653066]))"
      ]
     },
     "execution_count": 62,
     "metadata": {},
     "output_type": "execute_result"
    }
   ],
   "source": [
    "stats.chisquare(natural_enemy_interaction.T)\n"
   ]
  },
  {
   "cell_type": "code",
   "execution_count": 63,
   "metadata": {},
   "outputs": [
    {
     "data": {
      "text/plain": [
       "Chi2ContingencyResult(statistic=1.664857530529172, pvalue=0.7970909556182693, dof=4, expected_freq=array([[11.        , 11.        , 11.        ],\n",
       "       [22.33333333, 22.33333333, 22.33333333],\n",
       "       [ 4.66666667,  4.66666667,  4.66666667]]))"
      ]
     },
     "execution_count": 63,
     "metadata": {},
     "output_type": "execute_result"
    }
   ],
   "source": [
    "stats.chi2_contingency(natural_enemy_interaction)\n"
   ]
  },
  {
   "cell_type": "code",
   "execution_count": 64,
   "metadata": {},
   "outputs": [
    {
     "data": {
      "text/html": [
       "<div>\n",
       "<style scoped>\n",
       "    .dataframe tbody tr th:only-of-type {\n",
       "        vertical-align: middle;\n",
       "    }\n",
       "\n",
       "    .dataframe tbody tr th {\n",
       "        vertical-align: top;\n",
       "    }\n",
       "\n",
       "    .dataframe thead th {\n",
       "        text-align: right;\n",
       "    }\n",
       "</style>\n",
       "<table border=\"1\" class=\"dataframe\">\n",
       "  <thead>\n",
       "    <tr style=\"text-align: right;\">\n",
       "      <th></th>\n",
       "      <th>Simple</th>\n",
       "      <th>Intermediate</th>\n",
       "      <th>Complex</th>\n",
       "    </tr>\n",
       "  </thead>\n",
       "  <tbody>\n",
       "    <tr>\n",
       "      <th>NS</th>\n",
       "      <td>2.0</td>\n",
       "      <td>3.0</td>\n",
       "      <td>2.0</td>\n",
       "    </tr>\n",
       "    <tr>\n",
       "      <th>Positive</th>\n",
       "      <td>4.0</td>\n",
       "      <td>4.0</td>\n",
       "      <td>2.0</td>\n",
       "    </tr>\n",
       "    <tr>\n",
       "      <th>Negative</th>\n",
       "      <td>1.0</td>\n",
       "      <td>0.0</td>\n",
       "      <td>3.0</td>\n",
       "    </tr>\n",
       "  </tbody>\n",
       "</table>\n",
       "</div>"
      ],
      "text/plain": [
       "          Simple  Intermediate  Complex\n",
       "NS           2.0           3.0      2.0\n",
       "Positive     4.0           4.0      2.0\n",
       "Negative     1.0           0.0      3.0"
      ]
     },
     "execution_count": 64,
     "metadata": {},
     "output_type": "execute_result"
    }
   ],
   "source": [
    "pest_interaction = (\n",
    "    interaction_data.where(interaction_data[\"Response Category\"] == \"Pest\")[\n",
    "        [\"Simple\", \"Intermediate\", \"Complex\"]\n",
    "    ]\n",
    "    .apply(pd.Series.value_counts)\n",
    "    .T[[\"NS\", \"Positive\", \"Negative\"]]\n",
    "    .T\n",
    ").fillna(0)\n",
    "\n",
    "pest_interaction\n"
   ]
  },
  {
   "cell_type": "code",
   "execution_count": 65,
   "metadata": {},
   "outputs": [
    {
     "data": {
      "text/plain": [
       "Power_divergenceResult(statistic=array([2.        , 3.71428571, 0.28571429]), pvalue=array([0.36787944, 0.15611805, 0.8668779 ]))"
      ]
     },
     "execution_count": 65,
     "metadata": {},
     "output_type": "execute_result"
    }
   ],
   "source": [
    "stats.chisquare(pest_interaction)"
   ]
  },
  {
   "cell_type": "code",
   "execution_count": 66,
   "metadata": {},
   "outputs": [
    {
     "data": {
      "text/plain": [
       "Power_divergenceResult(statistic=array([0.28571429, 0.8       , 3.5       ]), pvalue=array([0.8668779 , 0.67032005, 0.17377394]))"
      ]
     },
     "execution_count": 66,
     "metadata": {},
     "output_type": "execute_result"
    }
   ],
   "source": [
    "stats.chisquare(pest_interaction.T)"
   ]
  },
  {
   "cell_type": "code",
   "execution_count": 67,
   "metadata": {},
   "outputs": [
    {
     "data": {
      "text/plain": [
       "Chi2ContingencyResult(statistic=4.585714285714285, pvalue=0.3325046205905675, dof=4, expected_freq=array([[2.33333333, 2.33333333, 2.33333333],\n",
       "       [3.33333333, 3.33333333, 3.33333333],\n",
       "       [1.33333333, 1.33333333, 1.33333333]]))"
      ]
     },
     "execution_count": 67,
     "metadata": {},
     "output_type": "execute_result"
    }
   ],
   "source": [
    "stats.chi2_contingency(pest_interaction)"
   ]
  },
  {
   "cell_type": "code",
   "execution_count": 68,
   "metadata": {},
   "outputs": [
    {
     "data": {
      "text/html": [
       "<div>\n",
       "<style scoped>\n",
       "    .dataframe tbody tr th:only-of-type {\n",
       "        vertical-align: middle;\n",
       "    }\n",
       "\n",
       "    .dataframe tbody tr th {\n",
       "        vertical-align: top;\n",
       "    }\n",
       "\n",
       "    .dataframe thead th {\n",
       "        text-align: right;\n",
       "    }\n",
       "</style>\n",
       "<table border=\"1\" class=\"dataframe\">\n",
       "  <thead>\n",
       "    <tr style=\"text-align: right;\">\n",
       "      <th></th>\n",
       "      <th>Simple</th>\n",
       "      <th>Intermediate</th>\n",
       "      <th>Complex</th>\n",
       "    </tr>\n",
       "  </thead>\n",
       "  <tbody>\n",
       "    <tr>\n",
       "      <th>Positive</th>\n",
       "      <td>27</td>\n",
       "      <td>21</td>\n",
       "      <td>20</td>\n",
       "    </tr>\n",
       "    <tr>\n",
       "      <th>NS</th>\n",
       "      <td>5</td>\n",
       "      <td>13</td>\n",
       "      <td>9</td>\n",
       "    </tr>\n",
       "    <tr>\n",
       "      <th>Negative</th>\n",
       "      <td>4</td>\n",
       "      <td>2</td>\n",
       "      <td>7</td>\n",
       "    </tr>\n",
       "  </tbody>\n",
       "</table>\n",
       "</div>"
      ],
      "text/plain": [
       "          Simple  Intermediate  Complex\n",
       "Positive      27            21       20\n",
       "NS             5            13        9\n",
       "Negative       4             2        7"
      ]
     },
     "execution_count": 68,
     "metadata": {},
     "output_type": "execute_result"
    }
   ],
   "source": [
    "intensity_interactions = interaction_data.where(\n",
    "    interaction_data[\"Local Strategy\"] == \"Intensity\"\n",
    ")[[\"Simple\", \"Intermediate\", \"Complex\"]].apply(pd.Series.value_counts)\n",
    "\n",
    "intensity_interactions\n"
   ]
  },
  {
   "cell_type": "code",
   "execution_count": 69,
   "metadata": {},
   "outputs": [
    {
     "data": {
      "text/plain": [
       "Power_divergenceResult(statistic=array([28.16666667, 15.16666667,  8.16666667]), pvalue=array([7.65043354e-07, 5.08862186e-04, 1.68512013e-02]))"
      ]
     },
     "execution_count": 69,
     "metadata": {},
     "output_type": "execute_result"
    }
   ],
   "source": [
    "stats.chisquare(intensity_interactions)\n"
   ]
  },
  {
   "cell_type": "code",
   "execution_count": 70,
   "metadata": {},
   "outputs": [
    {
     "data": {
      "text/plain": [
       "Power_divergenceResult(statistic=array([1.26470588, 3.55555556, 2.92307692]), pvalue=array([0.53134012, 0.16901332, 0.23187926]))"
      ]
     },
     "execution_count": 70,
     "metadata": {},
     "output_type": "execute_result"
    }
   ],
   "source": [
    "stats.chisquare(intensity_interactions.T)\n"
   ]
  },
  {
   "cell_type": "code",
   "execution_count": 71,
   "metadata": {},
   "outputs": [
    {
     "data": {
      "text/plain": [
       "Chi2ContingencyResult(statistic=7.74333836098542, pvalue=0.10144560306176552, dof=4, expected_freq=array([[22.66666667, 22.66666667, 22.66666667],\n",
       "       [ 9.        ,  9.        ,  9.        ],\n",
       "       [ 4.33333333,  4.33333333,  4.33333333]]))"
      ]
     },
     "execution_count": 71,
     "metadata": {},
     "output_type": "execute_result"
    }
   ],
   "source": [
    "stats.chi2_contingency(intensity_interactions)\n"
   ]
  },
  {
   "cell_type": "code",
   "execution_count": 72,
   "metadata": {},
   "outputs": [
    {
     "data": {
      "text/html": [
       "<div>\n",
       "<style scoped>\n",
       "    .dataframe tbody tr th:only-of-type {\n",
       "        vertical-align: middle;\n",
       "    }\n",
       "\n",
       "    .dataframe tbody tr th {\n",
       "        vertical-align: top;\n",
       "    }\n",
       "\n",
       "    .dataframe thead th {\n",
       "        text-align: right;\n",
       "    }\n",
       "</style>\n",
       "<table border=\"1\" class=\"dataframe\">\n",
       "  <thead>\n",
       "    <tr style=\"text-align: right;\">\n",
       "      <th></th>\n",
       "      <th>Simple</th>\n",
       "      <th>Intermediate</th>\n",
       "      <th>Complex</th>\n",
       "    </tr>\n",
       "  </thead>\n",
       "  <tbody>\n",
       "    <tr>\n",
       "      <th>NS</th>\n",
       "      <td>0.0</td>\n",
       "      <td>1.0</td>\n",
       "      <td>0.0</td>\n",
       "    </tr>\n",
       "    <tr>\n",
       "      <th>Negative</th>\n",
       "      <td>1.0</td>\n",
       "      <td>0.0</td>\n",
       "      <td>0.0</td>\n",
       "    </tr>\n",
       "    <tr>\n",
       "      <th>Positive</th>\n",
       "      <td>3.0</td>\n",
       "      <td>3.0</td>\n",
       "      <td>4.0</td>\n",
       "    </tr>\n",
       "  </tbody>\n",
       "</table>\n",
       "</div>"
      ],
      "text/plain": [
       "          Simple  Intermediate  Complex\n",
       "NS           0.0           1.0      0.0\n",
       "Negative     1.0           0.0      0.0\n",
       "Positive     3.0           3.0      4.0"
      ]
     },
     "execution_count": 72,
     "metadata": {},
     "output_type": "execute_result"
    }
   ],
   "source": [
    "structure_interactions = (\n",
    "    interaction_data.where(interaction_data[\"Local Strategy\"] == \"Structure\")[\n",
    "        [\"Simple\", \"Intermediate\", \"Complex\"]\n",
    "    ]\n",
    "    .apply(pd.Series.value_counts)\n",
    "    .fillna(0)\n",
    ")\n",
    "\n",
    "structure_interactions\n"
   ]
  },
  {
   "cell_type": "code",
   "execution_count": 73,
   "metadata": {},
   "outputs": [
    {
     "data": {
      "text/plain": [
       "Power_divergenceResult(statistic=array([3.5, 3.5, 8. ]), pvalue=array([0.17377394, 0.17377394, 0.01831564]))"
      ]
     },
     "execution_count": 73,
     "metadata": {},
     "output_type": "execute_result"
    }
   ],
   "source": [
    "stats.chisquare(structure_interactions)\n"
   ]
  },
  {
   "cell_type": "code",
   "execution_count": 74,
   "metadata": {},
   "outputs": [
    {
     "data": {
      "text/plain": [
       "Power_divergenceResult(statistic=array([2. , 2. , 0.2]), pvalue=array([0.36787944, 0.36787944, 0.90483742]))"
      ]
     },
     "execution_count": 74,
     "metadata": {},
     "output_type": "execute_result"
    }
   ],
   "source": [
    "stats.chisquare(structure_interactions.T)\n"
   ]
  },
  {
   "cell_type": "code",
   "execution_count": 75,
   "metadata": {},
   "outputs": [
    {
     "data": {
      "text/plain": [
       "Chi2ContingencyResult(statistic=4.2, pvalue=0.37961492758424376, dof=4, expected_freq=array([[0.33333333, 0.33333333, 0.33333333],\n",
       "       [0.33333333, 0.33333333, 0.33333333],\n",
       "       [3.33333333, 3.33333333, 3.33333333]]))"
      ]
     },
     "execution_count": 75,
     "metadata": {},
     "output_type": "execute_result"
    }
   ],
   "source": [
    "stats.chi2_contingency(structure_interactions)\n"
   ]
  },
  {
   "cell_type": "code",
   "execution_count": 76,
   "metadata": {},
   "outputs": [
    {
     "data": {
      "text/html": [
       "<div>\n",
       "<style scoped>\n",
       "    .dataframe tbody tr th:only-of-type {\n",
       "        vertical-align: middle;\n",
       "    }\n",
       "\n",
       "    .dataframe tbody tr th {\n",
       "        vertical-align: top;\n",
       "    }\n",
       "\n",
       "    .dataframe thead th {\n",
       "        text-align: right;\n",
       "    }\n",
       "</style>\n",
       "<table border=\"1\" class=\"dataframe\">\n",
       "  <thead>\n",
       "    <tr style=\"text-align: right;\">\n",
       "      <th></th>\n",
       "      <th>Simple</th>\n",
       "      <th>Intermediate</th>\n",
       "      <th>Complex</th>\n",
       "    </tr>\n",
       "  </thead>\n",
       "  <tbody>\n",
       "    <tr>\n",
       "      <th>NS</th>\n",
       "      <td>12</td>\n",
       "      <td>9</td>\n",
       "      <td>9</td>\n",
       "    </tr>\n",
       "    <tr>\n",
       "      <th>Negative</th>\n",
       "      <td>6</td>\n",
       "      <td>2</td>\n",
       "      <td>7</td>\n",
       "    </tr>\n",
       "    <tr>\n",
       "      <th>Positive</th>\n",
       "      <td>12</td>\n",
       "      <td>19</td>\n",
       "      <td>14</td>\n",
       "    </tr>\n",
       "  </tbody>\n",
       "</table>\n",
       "</div>"
      ],
      "text/plain": [
       "          Simple  Intermediate  Complex\n",
       "NS            12             9        9\n",
       "Negative       6             2        7\n",
       "Positive      12            19       14"
      ]
     },
     "execution_count": 76,
     "metadata": {},
     "output_type": "execute_result"
    }
   ],
   "source": [
    "floral_interactions = interaction_data.where(\n",
    "    interaction_data[\"Local Strategy\"] == \"Floral\"\n",
    ")[[\"Simple\", \"Intermediate\", \"Complex\"]].apply(pd.Series.value_counts)\n",
    "\n",
    "floral_interactions\n"
   ]
  },
  {
   "cell_type": "code",
   "execution_count": 77,
   "metadata": {},
   "outputs": [
    {
     "data": {
      "text/plain": [
       "Power_divergenceResult(statistic=array([ 2.4, 14.6,  2.6]), pvalue=array([0.30119421, 0.00067554, 0.27253179]))"
      ]
     },
     "execution_count": 77,
     "metadata": {},
     "output_type": "execute_result"
    }
   ],
   "source": [
    "stats.chisquare(floral_interactions)\n"
   ]
  },
  {
   "cell_type": "code",
   "execution_count": 78,
   "metadata": {},
   "outputs": [
    {
     "data": {
      "text/plain": [
       "Power_divergenceResult(statistic=array([0.6       , 2.8       , 1.73333333]), pvalue=array([0.74081822, 0.24659696, 0.42035038]))"
      ]
     },
     "execution_count": 78,
     "metadata": {},
     "output_type": "execute_result"
    }
   ],
   "source": [
    "stats.chisquare(floral_interactions.T)\n"
   ]
  },
  {
   "cell_type": "code",
   "execution_count": 79,
   "metadata": {},
   "outputs": [
    {
     "data": {
      "text/plain": [
       "Chi2ContingencyResult(statistic=5.133333333333333, pvalue=0.27388821949831943, dof=4, expected_freq=array([[10., 10., 10.],\n",
       "       [ 5.,  5.,  5.],\n",
       "       [15., 15., 15.]]))"
      ]
     },
     "execution_count": 79,
     "metadata": {},
     "output_type": "execute_result"
    }
   ],
   "source": [
    "stats.chi2_contingency(floral_interactions)\n"
   ]
  },
  {
   "cell_type": "code",
   "execution_count": 80,
   "metadata": {},
   "outputs": [
    {
     "data": {
      "text/html": [
       "<div>\n",
       "<style scoped>\n",
       "    .dataframe tbody tr th:only-of-type {\n",
       "        vertical-align: middle;\n",
       "    }\n",
       "\n",
       "    .dataframe tbody tr th {\n",
       "        vertical-align: top;\n",
       "    }\n",
       "\n",
       "    .dataframe thead th {\n",
       "        text-align: right;\n",
       "    }\n",
       "</style>\n",
       "<table border=\"1\" class=\"dataframe\">\n",
       "  <thead>\n",
       "    <tr style=\"text-align: right;\">\n",
       "      <th></th>\n",
       "      <th>Simple</th>\n",
       "      <th>Intermediate</th>\n",
       "      <th>Complex</th>\n",
       "    </tr>\n",
       "  </thead>\n",
       "  <tbody>\n",
       "    <tr>\n",
       "      <th>NS</th>\n",
       "      <td>5</td>\n",
       "      <td>5</td>\n",
       "      <td>1</td>\n",
       "    </tr>\n",
       "    <tr>\n",
       "      <th>Negative</th>\n",
       "      <td>3</td>\n",
       "      <td>2</td>\n",
       "      <td>3</td>\n",
       "    </tr>\n",
       "    <tr>\n",
       "      <th>Positive</th>\n",
       "      <td>5</td>\n",
       "      <td>6</td>\n",
       "      <td>9</td>\n",
       "    </tr>\n",
       "  </tbody>\n",
       "</table>\n",
       "</div>"
      ],
      "text/plain": [
       "          Simple  Intermediate  Complex\n",
       "NS             5             5        1\n",
       "Negative       3             2        3\n",
       "Positive       5             6        9"
      ]
     },
     "execution_count": 80,
     "metadata": {},
     "output_type": "execute_result"
    }
   ],
   "source": [
    "diversity_interactions = interaction_data.where(\n",
    "    interaction_data[\"Local Strategy\"] == \"Diversity\"\n",
    ")[[\"Simple\", \"Intermediate\", \"Complex\"]].apply(pd.Series.value_counts)\n",
    "\n",
    "diversity_interactions\n"
   ]
  },
  {
   "cell_type": "code",
   "execution_count": 81,
   "metadata": {},
   "outputs": [
    {
     "data": {
      "text/plain": [
       "Power_divergenceResult(statistic=array([0.61538462, 2.        , 8.        ]), pvalue=array([0.73514148, 0.36787944, 0.01831564]))"
      ]
     },
     "execution_count": 81,
     "metadata": {},
     "output_type": "execute_result"
    }
   ],
   "source": [
    "stats.chisquare(diversity_interactions)\n"
   ]
  },
  {
   "cell_type": "code",
   "execution_count": 82,
   "metadata": {},
   "outputs": [
    {
     "data": {
      "text/plain": [
       "Power_divergenceResult(statistic=array([2.90909091, 0.25      , 1.3       ]), pvalue=array([0.23350648, 0.8824969 , 0.52204578]))"
      ]
     },
     "execution_count": 82,
     "metadata": {},
     "output_type": "execute_result"
    }
   ],
   "source": [
    "stats.chisquare(diversity_interactions.T)\n"
   ]
  },
  {
   "cell_type": "code",
   "execution_count": 83,
   "metadata": {},
   "outputs": [
    {
     "data": {
      "text/plain": [
       "Chi2ContingencyResult(statistic=4.459090909090909, pvalue=0.3474258377291349, dof=4, expected_freq=array([[3.66666667, 3.66666667, 3.66666667],\n",
       "       [2.66666667, 2.66666667, 2.66666667],\n",
       "       [6.66666667, 6.66666667, 6.66666667]]))"
      ]
     },
     "execution_count": 83,
     "metadata": {},
     "output_type": "execute_result"
    }
   ],
   "source": [
    "stats.chi2_contingency(diversity_interactions)\n"
   ]
  },
  {
   "cell_type": "code",
   "execution_count": 176,
   "metadata": {},
   "outputs": [
    {
     "data": {
      "text/plain": [
       "<matplotlib.legend.Legend at 0x11bd570d0>"
      ]
     },
     "execution_count": 176,
     "metadata": {},
     "output_type": "execute_result"
    },
    {
     "data": {
      "image/png": "[encoded data removed]",
      "text/plain": [
       "<Figure size 1200x800 with 1 Axes>"
      ]
     },
     "metadata": {},
     "output_type": "display_data"
    }
   ],
   "source": [
    "plt.rcParams['font.sans-serif'] = ['Helvetica']\n",
    "plt.rcParams.update({'font.size': 16})\n",
    "\n",
    "ax11 = lit_review_data[['interaction_effect']].apply(pd.Series.value_counts).T.plot(\n",
    "        kind=\"bar\",\n",
    "        color=[\"#9ACF89\", \"#0B0405\"],\n",
    "        width=0.75,\n",
    "        ylabel=\"Number of observations\",\n",
    "        xlabel=\"Interaction effect\",\n",
    "        rot=0,\n",
    "        figsize=(12, 8),\n",
    "    )\n",
    "\n",
    "for container in ax11.containers:\n",
    "    ax11.bar_label(container, fontsize=16)\n",
    "\n",
    "ax11.legend(title=\"Effect\", labels = ['NS', 'S'])\n"
   ]
  },
  {
   "cell_type": "code",
   "execution_count": 213,
   "metadata": {},
   "outputs": [
    {
     "data": {
      "text/plain": [
       "interaction_effect\n",
       "NS    498\n",
       "S      83\n",
       "Name: response, dtype: int64"
      ]
     },
     "execution_count": 213,
     "metadata": {},
     "output_type": "execute_result"
    }
   ],
   "source": [
    "sig_interactions = lit_review_data.groupby('interaction_effect').count()['response']\n",
    "sig_interactions"
   ]
  },
  {
   "cell_type": "code",
   "execution_count": 219,
   "metadata": {},
   "outputs": [
    {
     "data": {
      "text/plain": [
       "Text(0, 0.5, 'Number of observations')"
      ]
     },
     "execution_count": 219,
     "metadata": {},
     "output_type": "execute_result"
    },
    {
     "data": {
      "image/png": "[encoded data removed]",
      "text/plain": [
       "<Figure size 640x480 with 1 Axes>"
      ]
     },
     "metadata": {},
     "output_type": "display_data"
    }
   ],
   "source": [
    "plt.rcParams['font.sans-serif'] = ['Helvetica']\n",
    "plt.rcParams.update({'font.size': 16})\n",
    "\n",
    "ax = sig_interactions.plot.bar(color=[\"#9ACF89\", \"#0B0405\"])\n",
    "\n",
    "for container in ax.containers:\n",
    "    ax.bar_label(container, fontsize=16)\n",
    "\n",
    "handles = [\n",
    "    Patch(facecolor=\"#9ACF89\", label=\"NS\"),\n",
    "    Patch(facecolor=\"#0B0405\", label=\"S\")\n",
    "]\n",
    "\n",
    "plt.legend(title=\"Effect\", handles=handles)\n",
    "ax.set_ylim(0, 550)\n",
    "ax.set_xlabel('Response')\n",
    "ax.set_ylabel('Number of observations')\n"
   ]
  },
  {
   "cell_type": "code",
   "execution_count": 137,
   "metadata": {},
   "outputs": [
    {
     "data": {
      "text/html": [
       "<div>\n",
       "<style scoped>\n",
       "    .dataframe tbody tr th:only-of-type {\n",
       "        vertical-align: middle;\n",
       "    }\n",
       "\n",
       "    .dataframe tbody tr th {\n",
       "        vertical-align: top;\n",
       "    }\n",
       "\n",
       "    .dataframe thead th {\n",
       "        text-align: right;\n",
       "    }\n",
       "</style>\n",
       "<table border=\"1\" class=\"dataframe\">\n",
       "  <thead>\n",
       "    <tr style=\"text-align: right;\">\n",
       "      <th></th>\n",
       "      <th>NS</th>\n",
       "      <th>Positive</th>\n",
       "      <th>Negative</th>\n",
       "    </tr>\n",
       "  </thead>\n",
       "  <tbody>\n",
       "    <tr>\n",
       "      <th>Simple</th>\n",
       "      <td>22</td>\n",
       "      <td>47</td>\n",
       "      <td>14</td>\n",
       "    </tr>\n",
       "    <tr>\n",
       "      <th>Intermediate</th>\n",
       "      <td>28</td>\n",
       "      <td>49</td>\n",
       "      <td>6</td>\n",
       "    </tr>\n",
       "    <tr>\n",
       "      <th>Complex</th>\n",
       "      <td>19</td>\n",
       "      <td>47</td>\n",
       "      <td>17</td>\n",
       "    </tr>\n",
       "  </tbody>\n",
       "</table>\n",
       "</div>"
      ],
      "text/plain": [
       "              NS  Positive  Negative\n",
       "Simple        22        47        14\n",
       "Intermediate  28        49         6\n",
       "Complex       19        47        17"
      ]
     },
     "execution_count": 137,
     "metadata": {},
     "output_type": "execute_result"
    }
   ],
   "source": [
    "interaction_data[[\"Simple\", \"Intermediate\", \"Complex\"]].apply(pd.Series.value_counts).T[[\"NS\", \"Positive\", \"Negative\"]]"
   ]
  },
  {
   "cell_type": "code",
   "execution_count": null,
   "metadata": {},
   "outputs": [],
   "source": []
  }
 ],
 "metadata": {
  "kernelspec": {
   "display_name": "Python 3",
   "language": "python",
   "name": "python3"
  },
  "language_info": {
   "codemirror_mode": {
    "name": "ipython",
    "version": 3
   },
   "file_extension": ".py",
   "mimetype": "text/x-python",
   "name": "python",
   "nbconvert_exporter": "python",
   "pygments_lexer": "ipython3",
   "version": "3.8.9 (default, Apr 13 2022, 08:48:06) \n[Clang 13.1.6 (clang-1316.0.21.2.5)]"
  },
  "orig_nbformat": 4,
  "vscode": {
   "interpreter": {
    "hash": "31f2aee4e71d21fbe5cf8b01ff0e069b9275f58929596ceb00d14d90e3e16cd6"
   }
  }
 },
 "nbformat": 4,
 "nbformat_minor": 2
}
